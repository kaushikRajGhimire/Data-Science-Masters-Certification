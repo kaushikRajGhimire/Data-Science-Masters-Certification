{
  "cells": [
    {
      "cell_type": "markdown",
      "id": "f0c6558b-3dcd-4001-a68c-1a626809b437",
      "metadata": {
        "id": "f0c6558b-3dcd-4001-a68c-1a626809b437"
      },
      "source": [
        "## Logical Operators\n",
        "1. And\n",
        "2. or\n",
        "3. not"
      ]
    },
    {
      "cell_type": "code",
      "execution_count": null,
      "id": "1e30a87a-8605-4a02-8527-1851b57a0766",
      "metadata": {
        "id": "1e30a87a-8605-4a02-8527-1851b57a0766",
        "outputId": "55108e4a-a328-4b61-f445-52c5952019ac"
      },
      "outputs": [
        {
          "data": {
            "text/plain": [
              "True"
            ]
          },
          "execution_count": 1,
          "metadata": {},
          "output_type": "execute_result"
        }
      ],
      "source": [
        "True and True"
      ]
    },
    {
      "cell_type": "code",
      "execution_count": null,
      "id": "029bb214-9389-4154-908b-2cd7b0f0bca5",
      "metadata": {
        "id": "029bb214-9389-4154-908b-2cd7b0f0bca5",
        "outputId": "a31d4a9a-749c-44c7-ed15-8b205c5fb98c"
      },
      "outputs": [
        {
          "data": {
            "text/plain": [
              "True"
            ]
          },
          "execution_count": 2,
          "metadata": {},
          "output_type": "execute_result"
        }
      ],
      "source": [
        "True or False"
      ]
    },
    {
      "cell_type": "code",
      "execution_count": null,
      "id": "97d08556-b26a-4262-ab53-652ab53b5c22",
      "metadata": {
        "id": "97d08556-b26a-4262-ab53-652ab53b5c22",
        "outputId": "8d54c073-4006-49aa-e20b-887e5c0f71c0"
      },
      "outputs": [
        {
          "name": "stdout",
          "output_type": "stream",
          "text": [
            "Defined value of START = True\n",
            "Defined value of STOP = False \n",
            "\n",
            "Defined value of START = True\n",
            "Value of STOP by negating START= False \n",
            "\n",
            "Value of START by negating STOP = True\n",
            "Defined value of STOP = False \n",
            "\n"
          ]
        }
      ],
      "source": [
        "# Lets define two variables having boolean values True and False-\n",
        "START = True\n",
        "STOP = False\n",
        "\n",
        "# Print the values as it is\n",
        "print(f\"Defined value of START = {START}\")\n",
        "print(f\"Defined value of STOP = {STOP} \\n\")\n",
        "\n",
        "# if can also be written as -\n",
        "print(f\"Defined value of START = {START}\")\n",
        "print(f\"Value of STOP by negating START= {not START} \\n\")\n",
        "\n",
        "# alternatively -\n",
        "print(f\"Value of START by negating STOP = {not STOP}\")\n",
        "print(f\"Defined value of STOP = {STOP} \\n\")"
      ]
    },
    {
      "cell_type": "code",
      "execution_count": null,
      "id": "547a7b4e-6006-463c-b798-4512b59c0f40",
      "metadata": {
        "id": "547a7b4e-6006-463c-b798-4512b59c0f40",
        "outputId": "99378560-7580-40fe-935b-b31f305b28ac"
      },
      "outputs": [
        {
          "data": {
            "text/plain": [
              "False"
            ]
          },
          "execution_count": 4,
          "metadata": {},
          "output_type": "execute_result"
        }
      ],
      "source": [
        "not True"
      ]
    },
    {
      "cell_type": "code",
      "execution_count": null,
      "id": "434d1b72-f9b7-493e-a2e6-40b917f1e7d5",
      "metadata": {
        "id": "434d1b72-f9b7-493e-a2e6-40b917f1e7d5",
        "outputId": "0454668d-3db7-4085-c30e-2207bfe8bfa6"
      },
      "outputs": [
        {
          "data": {
            "text/plain": [
              "True"
            ]
          },
          "execution_count": 8,
          "metadata": {},
          "output_type": "execute_result"
        }
      ],
      "source": [
        "not int(bool(0))"
      ]
    },
    {
      "cell_type": "code",
      "execution_count": null,
      "id": "0647c1af-5715-46fd-875c-e699bb55909d",
      "metadata": {
        "id": "0647c1af-5715-46fd-875c-e699bb55909d",
        "outputId": "2b0b30dd-9c65-43fb-d633-9d1b7248804e"
      },
      "outputs": [
        {
          "data": {
            "text/plain": [
              "False"
            ]
          },
          "execution_count": 11,
          "metadata": {},
          "output_type": "execute_result"
        }
      ],
      "source": [
        "not int(bool(1))"
      ]
    },
    {
      "cell_type": "code",
      "execution_count": null,
      "id": "9bb6bbbc-a8be-4ee4-8d62-025cc5dc156f",
      "metadata": {
        "id": "9bb6bbbc-a8be-4ee4-8d62-025cc5dc156f",
        "outputId": "49794dae-995c-452c-a28d-096bb226f7a8"
      },
      "outputs": [
        {
          "data": {
            "text/plain": [
              "False"
            ]
          },
          "execution_count": 12,
          "metadata": {},
          "output_type": "execute_result"
        }
      ],
      "source": [
        "not 1"
      ]
    },
    {
      "cell_type": "code",
      "execution_count": null,
      "id": "35bc68b1-ff9f-432a-9059-bf2e01abddc9",
      "metadata": {
        "id": "35bc68b1-ff9f-432a-9059-bf2e01abddc9",
        "outputId": "a8386f78-2bee-4368-8a2f-144372fd4c67"
      },
      "outputs": [
        {
          "data": {
            "text/plain": [
              "True"
            ]
          },
          "execution_count": 15,
          "metadata": {},
          "output_type": "execute_result"
        }
      ],
      "source": [
        "not 0"
      ]
    },
    {
      "cell_type": "code",
      "execution_count": null,
      "id": "ab058358-e42d-4578-8368-38bdc1d665a6",
      "metadata": {
        "id": "ab058358-e42d-4578-8368-38bdc1d665a6",
        "outputId": "f99a62ca-0fa2-4e33-ff4e-fae4a7e98fd1"
      },
      "outputs": [
        {
          "data": {
            "text/plain": [
              "False"
            ]
          },
          "execution_count": 17,
          "metadata": {},
          "output_type": "execute_result"
        }
      ],
      "source": [
        "not 1000"
      ]
    },
    {
      "cell_type": "code",
      "execution_count": null,
      "id": "b573261e-b585-476d-a647-2510fce1bbd8",
      "metadata": {
        "id": "b573261e-b585-476d-a647-2510fce1bbd8",
        "outputId": "f29c54c7-a22f-46d4-c9aa-007930de20ab"
      },
      "outputs": [
        {
          "data": {
            "text/plain": [
              "False"
            ]
          },
          "execution_count": 18,
          "metadata": {},
          "output_type": "execute_result"
        }
      ],
      "source": [
        "not -1"
      ]
    },
    {
      "cell_type": "code",
      "execution_count": null,
      "id": "4a5dda46-77de-4b21-93fa-d4149f422a8d",
      "metadata": {
        "id": "4a5dda46-77de-4b21-93fa-d4149f422a8d",
        "outputId": "4f5f8ec2-d414-418c-a8c1-5277abde9bc8"
      },
      "outputs": [
        {
          "name": "stdout",
          "output_type": "stream",
          "text": [
            "Defined value of START = 1\n",
            "Defined value of STOP = 0 \n",
            "\n",
            "Defined value of START = 1\n",
            "Value of STOP by negating START= 0 \n",
            "\n",
            "Value of START by negating STOP = 1\n",
            "Defined value of STOP = 0 \n",
            "\n"
          ]
        }
      ],
      "source": [
        "START = 1\n",
        "STOP = 0\n",
        "\n",
        "# Print the values as it is\n",
        "print(f\"Defined value of START = {START}\")\n",
        "print(f\"Defined value of STOP = {STOP} \\n\")\n",
        "\n",
        "# if can also be written as -\n",
        "print(f\"Defined value of START = {START}\")\n",
        "print(f\"Value of STOP by negating START= {int(not START)} \\n\")\n",
        "\n",
        "# alternatively -\n",
        "print(f\"Value of START by negating STOP = {int(not STOP)}\")\n",
        "print(f\"Defined value of STOP = {STOP} \\n\")"
      ]
    },
    {
      "cell_type": "code",
      "execution_count": null,
      "id": "279671b9-8e4a-491f-b3b6-1c8ece64b6ba",
      "metadata": {
        "id": "279671b9-8e4a-491f-b3b6-1c8ece64b6ba",
        "outputId": "ce7eaee9-2b38-4a84-c8a1-a5c3be1e8856"
      },
      "outputs": [
        {
          "name": "stdout",
          "output_type": "stream",
          "text": [
            "boolean value of no. 0 is False\n",
            "boolean value of no. 1 is True\n",
            "negation of 0 is True and negation of 1 is False\n",
            "\n",
            "#------------------------#\n",
            "\n"
          ]
        }
      ],
      "source": [
        "zero = 0\n",
        "one = 1\n",
        "\n",
        "print(f\"boolean value of no. {zero} is {bool(zero)}\")\n",
        "print(f\"boolean value of no. {one} is {bool(one)}\")\n",
        "print(f\"negation of {zero} is {not zero} and negation of {one} is {not one}\")\n",
        "print(\"\\n#------------------------#\\n\")"
      ]
    },
    {
      "cell_type": "code",
      "execution_count": null,
      "id": "38f72ca1-6cfc-4c15-a3a9-b3a9baaa37e0",
      "metadata": {
        "id": "38f72ca1-6cfc-4c15-a3a9-b3a9baaa37e0",
        "outputId": "bfb95b4a-d5dc-4900-f351-3c34031e19d7"
      },
      "outputs": [
        {
          "data": {
            "text/plain": [
              "False"
            ]
          },
          "execution_count": 28,
          "metadata": {},
          "output_type": "execute_result"
        }
      ],
      "source": [
        "not 5"
      ]
    },
    {
      "cell_type": "code",
      "execution_count": null,
      "id": "0fc6b745-cd56-45ee-8331-0d49394318be",
      "metadata": {
        "id": "0fc6b745-cd56-45ee-8331-0d49394318be",
        "outputId": "de902723-c4b8-4e10-dfde-13cb9a082b63"
      },
      "outputs": [
        {
          "name": "stdout",
          "output_type": "stream",
          "text": [
            "boolean value of no. -5 is True\n",
            "boolean value of no. 5 is True\n",
            "negation of -5 is False and negation of 5 is False\n",
            "\n",
            "#------------------------#\n",
            "\n"
          ]
        }
      ],
      "source": [
        "Some_negative_integer = -5\n",
        "Some_positive_integer = 5\n",
        "\n",
        "print(f\"boolean value of no. {Some_negative_integer} is {bool(Some_negative_integer)}\")\n",
        "print(f\"boolean value of no. {Some_positive_integer} is {bool(Some_positive_integer)}\")\n",
        "print(f\"negation of {Some_negative_integer} is {not Some_negative_integer} \\\n",
        "and negation of {Some_positive_integer} is {not Some_positive_integer}\")\n",
        "\n",
        "print(\"\\n#------------------------#\\n\")"
      ]
    },
    {
      "cell_type": "code",
      "execution_count": null,
      "id": "d5070091-a523-4fa6-8b3d-f65fddcb17d9",
      "metadata": {
        "id": "d5070091-a523-4fa6-8b3d-f65fddcb17d9",
        "outputId": "29892496-8755-49ff-acee-6ef346f6986f"
      },
      "outputs": [
        {
          "name": "stdout",
          "output_type": "stream",
          "text": [
            "boolean value of no. -5.99 is True\n",
            "boolean value of no. 5.6 is True\n",
            "negation of -5.99 is False and negation of 5.6 is False\n"
          ]
        }
      ],
      "source": [
        "Some_negative_float = -5.99\n",
        "Some_positive_float = 5.6\n",
        "\n",
        "print(f\"boolean value of no. {Some_negative_float} is {bool(Some_negative_float)}\")\n",
        "print(f\"boolean value of no. {Some_positive_float} is {bool(Some_positive_float)}\")\n",
        "print(f\"negation of {Some_negative_float} is {not Some_negative_float} \\\n",
        "and negation of {Some_positive_float} is {not Some_positive_float}\")"
      ]
    },
    {
      "cell_type": "markdown",
      "id": "90d5f14a-dfcb-46d9-9a20-52a9d01be373",
      "metadata": {
        "id": "90d5f14a-dfcb-46d9-9a20-52a9d01be373"
      },
      "source": [
        "## Logical And\n"
      ]
    },
    {
      "cell_type": "code",
      "execution_count": null,
      "id": "0b1fbd07-3094-407c-83c7-2adefa999573",
      "metadata": {
        "id": "0b1fbd07-3094-407c-83c7-2adefa999573",
        "outputId": "9dd74c5a-700d-4412-c657-ce2ca1f1917a"
      },
      "outputs": [
        {
          "name": "stdout",
          "output_type": "stream",
          "text": [
            "Dish contains VEGETABLES: True\n",
            "Dish contains SALT: False\n",
            "Hence dish prepared was good: False\n",
            "\n"
          ]
        }
      ],
      "source": [
        "VEGETABLES = True\n",
        "SALT = False\n",
        "DISH = VEGETABLES and SALT\n",
        "\n",
        "print(f\"Dish contains VEGETABLES: {VEGETABLES}\")\n",
        "print(f\"Dish contains SALT: {SALT}\")\n",
        "print(f\"Hence dish prepared was good: {DISH}\\n\")"
      ]
    },
    {
      "cell_type": "code",
      "execution_count": null,
      "id": "7411d1ce-9095-4dc7-8b2d-736e46af56db",
      "metadata": {
        "id": "7411d1ce-9095-4dc7-8b2d-736e46af56db",
        "outputId": "20308cfd-de5d-4c85-a415-ec9dae423e3d"
      },
      "outputs": [
        {
          "data": {
            "text/plain": [
              "True"
            ]
          },
          "execution_count": 34,
          "metadata": {},
          "output_type": "execute_result"
        }
      ],
      "source": [
        "not(False) * True"
      ]
    },
    {
      "cell_type": "code",
      "execution_count": null,
      "id": "00005a41-3da2-435b-b526-69e82ee478c8",
      "metadata": {
        "id": "00005a41-3da2-435b-b526-69e82ee478c8",
        "outputId": "1415b9d2-0314-4dca-e0ab-16ca457bede2"
      },
      "outputs": [
        {
          "data": {
            "text/plain": [
              "0"
            ]
          },
          "execution_count": 50,
          "metadata": {},
          "output_type": "execute_result"
        }
      ],
      "source": [
        "False * (not(False))"
      ]
    },
    {
      "cell_type": "code",
      "execution_count": null,
      "id": "eb77690c-99bd-43f7-b82b-a2ba4c121ab9",
      "metadata": {
        "id": "eb77690c-99bd-43f7-b82b-a2ba4c121ab9",
        "outputId": "055686e7-20e5-4091-8b02-f964a275c8ee"
      },
      "outputs": [
        {
          "data": {
            "text/plain": [
              "True"
            ]
          },
          "execution_count": 42,
          "metadata": {},
          "output_type": "execute_result"
        }
      ],
      "source": [
        "not(True) * False"
      ]
    },
    {
      "cell_type": "code",
      "execution_count": null,
      "id": "f005a05c-b4cd-4c28-8db2-921639523960",
      "metadata": {
        "id": "f005a05c-b4cd-4c28-8db2-921639523960",
        "outputId": "6e710d19-393f-4f22-a2c5-d98e720b6d08"
      },
      "outputs": [
        {
          "data": {
            "text/plain": [
              "0"
            ]
          },
          "execution_count": 45,
          "metadata": {},
          "output_type": "execute_result"
        }
      ],
      "source": [
        "False * False"
      ]
    },
    {
      "cell_type": "code",
      "execution_count": null,
      "id": "1729e8b0-2465-40c4-8e09-ea694fcd47de",
      "metadata": {
        "id": "1729e8b0-2465-40c4-8e09-ea694fcd47de",
        "outputId": "29b6da9a-487e-4ee7-9723-f0edebfca48c"
      },
      "outputs": [
        {
          "data": {
            "text/plain": [
              "True"
            ]
          },
          "execution_count": 49,
          "metadata": {},
          "output_type": "execute_result"
        }
      ],
      "source": [
        "not False * False"
      ]
    },
    {
      "cell_type": "code",
      "execution_count": null,
      "id": "29120b48-ef57-41b6-9903-375cac47ba2f",
      "metadata": {
        "id": "29120b48-ef57-41b6-9903-375cac47ba2f",
        "outputId": "0520c55b-c30b-4f6b-accc-43b67b4c3bcd"
      },
      "outputs": [
        {
          "data": {
            "text/plain": [
              "9"
            ]
          },
          "execution_count": 48,
          "metadata": {},
          "output_type": "execute_result"
        }
      ],
      "source": [
        "(1+2)*3"
      ]
    },
    {
      "cell_type": "code",
      "execution_count": null,
      "id": "a8c1a12e-4f15-40fb-bb3e-a42440e5258d",
      "metadata": {
        "id": "a8c1a12e-4f15-40fb-bb3e-a42440e5258d",
        "outputId": "49c1de9d-a0ed-4796-c66a-0ebbd8f93a0b"
      },
      "outputs": [
        {
          "data": {
            "text/plain": [
              "True"
            ]
          },
          "execution_count": 52,
          "metadata": {},
          "output_type": "execute_result"
        }
      ],
      "source": [
        "not(False)*False == True\n"
      ]
    },
    {
      "cell_type": "code",
      "execution_count": null,
      "id": "25e32fa3-717a-48ec-a2ea-e045ddc8b305",
      "metadata": {
        "id": "25e32fa3-717a-48ec-a2ea-e045ddc8b305",
        "outputId": "2e0b2352-034b-448e-cdeb-2a02142fb38b"
      },
      "outputs": [
        {
          "name": "stdout",
          "output_type": "stream",
          "text": [
            "0\n"
          ]
        }
      ],
      "source": [
        "print((not(False)) * False)\n"
      ]
    },
    {
      "cell_type": "code",
      "execution_count": null,
      "id": "54defb67-5f25-4520-99a3-d9d577f01f0d",
      "metadata": {
        "id": "54defb67-5f25-4520-99a3-d9d577f01f0d",
        "outputId": "9d54e8db-8aa0-4cf6-ed16-c501dbc83ed1"
      },
      "outputs": [
        {
          "data": {
            "text/plain": [
              "9.2"
            ]
          },
          "execution_count": 58,
          "metadata": {},
          "output_type": "execute_result"
        }
      ],
      "source": [
        "(2*3+40)/5"
      ]
    },
    {
      "cell_type": "code",
      "execution_count": null,
      "id": "c61bb1f8-d320-49ff-bf7a-b395ac57dcf0",
      "metadata": {
        "id": "c61bb1f8-d320-49ff-bf7a-b395ac57dcf0",
        "outputId": "b25be534-9955-45b9-ffe9-75978231d957"
      },
      "outputs": [
        {
          "data": {
            "text/plain": [
              "True"
            ]
          },
          "execution_count": 61,
          "metadata": {},
          "output_type": "execute_result"
        }
      ],
      "source": [
        "not(False * True)"
      ]
    },
    {
      "cell_type": "code",
      "execution_count": null,
      "id": "b47cde99-2c2e-4cd1-907a-cc5fe45566b2",
      "metadata": {
        "id": "b47cde99-2c2e-4cd1-907a-cc5fe45566b2",
        "outputId": "31defa28-dad1-476c-8f2e-7c2e8444eead"
      },
      "outputs": [
        {
          "data": {
            "text/plain": [
              "False"
            ]
          },
          "execution_count": 63,
          "metadata": {},
          "output_type": "execute_result"
        }
      ],
      "source": [
        "not(1)"
      ]
    },
    {
      "cell_type": "code",
      "execution_count": null,
      "id": "625b9829-32d9-4334-94d6-1f25b4bc2e18",
      "metadata": {
        "id": "625b9829-32d9-4334-94d6-1f25b4bc2e18",
        "outputId": "d87a84f5-1fb6-418e-caa1-74f613b351bf"
      },
      "outputs": [
        {
          "data": {
            "text/plain": [
              "True"
            ]
          },
          "execution_count": 65,
          "metadata": {},
          "output_type": "execute_result"
        }
      ],
      "source": [
        "not False * True == True"
      ]
    },
    {
      "cell_type": "markdown",
      "id": "bc4944b4-2a89-4011-957c-e5c45e2d95ce",
      "metadata": {
        "id": "bc4944b4-2a89-4011-957c-e5c45e2d95ce"
      },
      "source": [
        "### 4.1.2 Equality Operators\n",
        "\n",
        "Following operations are present in python for equlity check operation-\n",
        "\n",
        "|Operators|Meaning|\n",
        "|-|-|\n",
        "|**is**|***a is b*** returns true if variable/identifiers a and b *points* to the *same object*|\n",
        "|**is not**|***a is not b*** returns true if variable/identifiers a and b *points* to the *different object*|\n",
        "|**==**|***a == b*** returns true if variable/identifiers a and b has same value|\n",
        "|**!=**|***a != b*** returns true if variable/identifiers a and b has different value|"
      ]
    },
    {
      "cell_type": "code",
      "execution_count": null,
      "id": "707ab96b-bf88-46fe-b943-411614852bfa",
      "metadata": {
        "id": "707ab96b-bf88-46fe-b943-411614852bfa"
      },
      "outputs": [],
      "source": [
        "lst_a=[1,2,3,4]\n",
        "lst_b=[1,2,3,4]\n",
        "\n"
      ]
    },
    {
      "cell_type": "code",
      "execution_count": null,
      "id": "6010182f-3b87-42e2-8290-ecaa33a01c61",
      "metadata": {
        "id": "6010182f-3b87-42e2-8290-ecaa33a01c61",
        "outputId": "fe3ee2a5-5478-404a-9aba-ed0285882d55"
      },
      "outputs": [
        {
          "name": "stdout",
          "output_type": "stream",
          "text": [
            "140428320195968\n",
            "140428363610688\n"
          ]
        }
      ],
      "source": [
        "print(id(lst_a))\n",
        "print(id(lst_b))\n"
      ]
    },
    {
      "cell_type": "code",
      "execution_count": null,
      "id": "70d155e3-89c4-446e-9a5a-3be206e4a02a",
      "metadata": {
        "id": "70d155e3-89c4-446e-9a5a-3be206e4a02a",
        "outputId": "ca49f4a8-a139-4985-9bf9-ba7da6fff997"
      },
      "outputs": [
        {
          "data": {
            "text/plain": [
              "False"
            ]
          },
          "execution_count": 69,
          "metadata": {},
          "output_type": "execute_result"
        }
      ],
      "source": [
        "lst_a is lst_b"
      ]
    },
    {
      "cell_type": "code",
      "execution_count": null,
      "id": "feae066a-f81e-46d6-abc3-cc70b06688a1",
      "metadata": {
        "id": "feae066a-f81e-46d6-abc3-cc70b06688a1"
      },
      "outputs": [],
      "source": [
        "lst_a=[1,2,3,4]\n",
        "lst_b=lst_a"
      ]
    },
    {
      "cell_type": "code",
      "execution_count": null,
      "id": "fb0b041d-548a-4ffa-9cc1-54029c440b2f",
      "metadata": {
        "id": "fb0b041d-548a-4ffa-9cc1-54029c440b2f",
        "outputId": "c06dfa94-9d88-46d9-f5b5-bd1658dd0508"
      },
      "outputs": [
        {
          "name": "stdout",
          "output_type": "stream",
          "text": [
            "140428064461056\n",
            "140428064461056\n"
          ]
        }
      ],
      "source": [
        "print(id(lst_a))\n",
        "print(id(lst_b))"
      ]
    },
    {
      "cell_type": "code",
      "execution_count": null,
      "id": "81803c44-3bd2-4e60-80da-b3a933b843de",
      "metadata": {
        "id": "81803c44-3bd2-4e60-80da-b3a933b843de",
        "outputId": "b60dd8ae-35ca-4ba8-d0ab-cd1f22d99519"
      },
      "outputs": [
        {
          "data": {
            "text/plain": [
              "True"
            ]
          },
          "execution_count": 72,
          "metadata": {},
          "output_type": "execute_result"
        }
      ],
      "source": [
        "lst_a is lst_b"
      ]
    },
    {
      "cell_type": "code",
      "execution_count": null,
      "id": "725fcac1-417c-4d3d-b7a7-eb9a18e4b93c",
      "metadata": {
        "id": "725fcac1-417c-4d3d-b7a7-eb9a18e4b93c",
        "outputId": "17ec763d-a77f-42d0-c006-4ac772dd4e50"
      },
      "outputs": [
        {
          "data": {
            "text/plain": [
              "True"
            ]
          },
          "execution_count": 73,
          "metadata": {},
          "output_type": "execute_result"
        }
      ],
      "source": [
        "lst_a=[1,2,3,4]\n",
        "lst_b=[1,2,3,4]\n",
        "\n",
        "lst_a is not lst_b"
      ]
    },
    {
      "cell_type": "code",
      "execution_count": null,
      "id": "bac61815-a684-44d9-8df8-3ae1d93f8133",
      "metadata": {
        "id": "bac61815-a684-44d9-8df8-3ae1d93f8133",
        "outputId": "18d1c40e-f95e-43a0-f3e4-743af26968c1"
      },
      "outputs": [
        {
          "data": {
            "text/plain": [
              "True"
            ]
          },
          "execution_count": 74,
          "metadata": {},
          "output_type": "execute_result"
        }
      ],
      "source": [
        "lst_a == lst_b"
      ]
    },
    {
      "cell_type": "code",
      "execution_count": null,
      "id": "7c34ecf8-4fcb-4fe1-ad9c-41f969c98f7a",
      "metadata": {
        "id": "7c34ecf8-4fcb-4fe1-ad9c-41f969c98f7a"
      },
      "outputs": [],
      "source": [
        "a=2\n",
        "b=2"
      ]
    },
    {
      "cell_type": "code",
      "execution_count": null,
      "id": "749daa12-507c-4e97-aa24-1dd8dbc096bb",
      "metadata": {
        "id": "749daa12-507c-4e97-aa24-1dd8dbc096bb",
        "outputId": "8dbf2195-c143-409c-ed3c-082ec867f60b"
      },
      "outputs": [
        {
          "name": "stdout",
          "output_type": "stream",
          "text": [
            "140428412780816\n",
            "140428412780816\n"
          ]
        }
      ],
      "source": [
        "print(id(a))\n",
        "print(id(b))"
      ]
    },
    {
      "cell_type": "code",
      "execution_count": null,
      "id": "b1c0e861-44e0-4b87-91cd-065825474d3f",
      "metadata": {
        "id": "b1c0e861-44e0-4b87-91cd-065825474d3f",
        "outputId": "8e820256-0feb-45c3-f4a4-edb87f9c2401"
      },
      "outputs": [
        {
          "name": "stdout",
          "output_type": "stream",
          "text": [
            "140428053242224\n",
            "140428053242224\n"
          ]
        }
      ],
      "source": [
        "str1=\"Krish\"\n",
        "str2=\"Krish\"\n",
        "print(id(str1))\n",
        "print(id(str2))"
      ]
    },
    {
      "cell_type": "code",
      "execution_count": null,
      "id": "d9967fa9-6c13-4b99-bb39-e0c0481447d4",
      "metadata": {
        "id": "d9967fa9-6c13-4b99-bb39-e0c0481447d4"
      },
      "outputs": [],
      "source": [
        "## immutable\n",
        "str1=\"Krish\"\n",
        "str2=\"Krish1\""
      ]
    },
    {
      "cell_type": "code",
      "execution_count": null,
      "id": "4310253e-a58e-44ca-81db-ccb428225e4c",
      "metadata": {
        "id": "4310253e-a58e-44ca-81db-ccb428225e4c",
        "outputId": "0ad23305-ef89-4eb2-abc2-15037e9598b0"
      },
      "outputs": [
        {
          "name": "stdout",
          "output_type": "stream",
          "text": [
            "140428053242224\n",
            "140428053240112\n"
          ]
        }
      ],
      "source": [
        "print(id(str1))\n",
        "print(id(str2))"
      ]
    },
    {
      "cell_type": "code",
      "execution_count": null,
      "id": "22399a61-8f36-4eba-adeb-c7922badcc6d",
      "metadata": {
        "id": "22399a61-8f36-4eba-adeb-c7922badcc6d",
        "outputId": "ecb7b256-beae-45a5-fdd0-4d8283080d52"
      },
      "outputs": [
        {
          "data": {
            "text/plain": [
              "[1, 2, 3, 4]"
            ]
          },
          "execution_count": 80,
          "metadata": {},
          "output_type": "execute_result"
        }
      ],
      "source": [
        "lst_a"
      ]
    },
    {
      "cell_type": "code",
      "execution_count": null,
      "id": "e9957786-7f2a-41ab-aef6-9805db9089c2",
      "metadata": {
        "id": "e9957786-7f2a-41ab-aef6-9805db9089c2"
      },
      "outputs": [],
      "source": [
        "lst_a[0]=10"
      ]
    },
    {
      "cell_type": "code",
      "execution_count": null,
      "id": "1268ddbb-7a3d-4c1b-9c30-0d994b8671c3",
      "metadata": {
        "id": "1268ddbb-7a3d-4c1b-9c30-0d994b8671c3",
        "outputId": "2f833511-999e-4a0a-a40c-aeed3c38f88c"
      },
      "outputs": [
        {
          "data": {
            "text/plain": [
              "[10, 2, 3, 4]"
            ]
          },
          "execution_count": 83,
          "metadata": {},
          "output_type": "execute_result"
        }
      ],
      "source": [
        "lst_a"
      ]
    },
    {
      "cell_type": "code",
      "execution_count": null,
      "id": "e4b3acd1-4acb-4d2d-b299-8b566ef08ac5",
      "metadata": {
        "id": "e4b3acd1-4acb-4d2d-b299-8b566ef08ac5",
        "outputId": "866124ec-0776-4670-b8f3-9664e4bd0112"
      },
      "outputs": [
        {
          "data": {
            "text/plain": [
              "'Krish'"
            ]
          },
          "execution_count": 84,
          "metadata": {},
          "output_type": "execute_result"
        }
      ],
      "source": [
        "str1"
      ]
    },
    {
      "cell_type": "code",
      "execution_count": null,
      "id": "ddada856-1dcb-4407-a501-31849c022ce0",
      "metadata": {
        "id": "ddada856-1dcb-4407-a501-31849c022ce0",
        "outputId": "15c975ed-e468-4524-ea66-d6568d454ff4"
      },
      "outputs": [
        {
          "ename": "TypeError",
          "evalue": "'str' object does not support item assignment",
          "output_type": "error",
          "traceback": [
            "\u001b[0;31m---------------------------------------------------------------------------\u001b[0m",
            "\u001b[0;31mTypeError\u001b[0m                                 Traceback (most recent call last)",
            "Cell \u001b[0;32mIn[86], line 1\u001b[0m\n\u001b[0;32m----> 1\u001b[0m \u001b[43mstr1\u001b[49m\u001b[43m[\u001b[49m\u001b[38;5;241;43m0\u001b[39;49m\u001b[43m]\u001b[49m\u001b[38;5;241m=\u001b[39m\u001b[38;5;124m'\u001b[39m\u001b[38;5;124mN\u001b[39m\u001b[38;5;124m'\u001b[39m\n",
            "\u001b[0;31mTypeError\u001b[0m: 'str' object does not support item assignment"
          ]
        }
      ],
      "source": [
        "str1[0]='N' ## immutable"
      ]
    },
    {
      "cell_type": "code",
      "execution_count": null,
      "id": "90dd6515-d32f-4f8b-a0b8-7573b53d5440",
      "metadata": {
        "id": "90dd6515-d32f-4f8b-a0b8-7573b53d5440"
      },
      "outputs": [],
      "source": [
        "## Comparison operation"
      ]
    },
    {
      "cell_type": "code",
      "execution_count": null,
      "id": "9b0eea3e-909f-4583-a04d-227bf5f5dad3",
      "metadata": {
        "id": "9b0eea3e-909f-4583-a04d-227bf5f5dad3"
      },
      "outputs": [],
      "source": []
    },
    {
      "cell_type": "code",
      "execution_count": null,
      "id": "a24c557a-e224-464a-8561-d30191c4aee6",
      "metadata": {
        "id": "a24c557a-e224-464a-8561-d30191c4aee6"
      },
      "outputs": [],
      "source": []
    },
    {
      "cell_type": "code",
      "execution_count": null,
      "id": "8f4ce995-096b-4797-bf7b-0f97559f3027",
      "metadata": {
        "id": "8f4ce995-096b-4797-bf7b-0f97559f3027"
      },
      "outputs": [],
      "source": []
    },
    {
      "cell_type": "code",
      "execution_count": null,
      "id": "f1bfcbc1-36c7-458d-9aac-fb2c83ea46c3",
      "metadata": {
        "id": "f1bfcbc1-36c7-458d-9aac-fb2c83ea46c3"
      },
      "outputs": [],
      "source": []
    },
    {
      "cell_type": "code",
      "execution_count": null,
      "id": "d7e3c51a-c99f-4b4d-bbf2-c135e25b7447",
      "metadata": {
        "id": "d7e3c51a-c99f-4b4d-bbf2-c135e25b7447"
      },
      "outputs": [],
      "source": []
    },
    {
      "cell_type": "markdown",
      "id": "9ff8a99c-38fb-484c-8e38-87ba3787c1ef",
      "metadata": {
        "id": "9ff8a99c-38fb-484c-8e38-87ba3787c1ef"
      },
      "source": [
        "|Operation|Meaning|\n",
        "|:-:|:-:|\n",
        "| **<** |less than|\n",
        "| **<=** |less than or equal to|\n",
        "| **>** |greater than|\n",
        "| **>=** |greater than or equal to|\n"
      ]
    },
    {
      "cell_type": "code",
      "execution_count": null,
      "id": "5d7d6339-b810-4553-9ea8-343c28ec4e6f",
      "metadata": {
        "id": "5d7d6339-b810-4553-9ea8-343c28ec4e6f",
        "outputId": "502b1faf-18d9-42ba-9d0e-6ca8d2382257"
      },
      "outputs": [
        {
          "name": "stdout",
          "output_type": "stream",
          "text": [
            "bike is faster than car: False\n"
          ]
        }
      ],
      "source": [
        "maxium_speed_of_bike = 150\n",
        "max_speed_of_car = 200\n",
        "\n",
        "print(f\"bike is faster than car: {maxium_speed_of_bike >= max_speed_of_car}\")"
      ]
    },
    {
      "cell_type": "code",
      "execution_count": null,
      "id": "7a9222eb-2e57-4511-9e62-b7b07d316e78",
      "metadata": {
        "id": "7a9222eb-2e57-4511-9e62-b7b07d316e78",
        "outputId": "933f13fc-bd3d-41ab-fa63-70c87039db29"
      },
      "outputs": [
        {
          "name": "stdout",
          "output_type": "stream",
          "text": [
            "bike is faster than car: False\n"
          ]
        }
      ],
      "source": [
        "maxium_speed_of_bike = 200\n",
        "max_speed_of_car = 200\n",
        "\n",
        "print(f\"bike is faster than car: {maxium_speed_of_bike > max_speed_of_car}\")"
      ]
    },
    {
      "cell_type": "markdown",
      "id": "e340fd85-5946-46e6-8234-1b0caebc6c38",
      "metadata": {
        "id": "e340fd85-5946-46e6-8234-1b0caebc6c38"
      },
      "source": [
        "## Arithmethic Operations\n",
        "|Operation|Meaning|\n",
        "|:-:|:-:|\n",
        "| **+** |addition|\n",
        "| **-** |subtraction|\n",
        "| **\\*** |multiplication|\n",
        "| **/** |true division|\n",
        "| **//** |integer division|\n",
        "| **%** |the modulo operator|"
      ]
    },
    {
      "cell_type": "code",
      "execution_count": null,
      "id": "d16cd857-cb72-4bee-b830-a4f407e6ad85",
      "metadata": {
        "id": "d16cd857-cb72-4bee-b830-a4f407e6ad85"
      },
      "outputs": [],
      "source": [
        "a=25\n",
        "b=101"
      ]
    },
    {
      "cell_type": "code",
      "execution_count": null,
      "id": "7fbf03df-6cab-4130-a40a-5181cacc8962",
      "metadata": {
        "id": "7fbf03df-6cab-4130-a40a-5181cacc8962",
        "outputId": "77a21961-fd45-417c-b939-d9f2ba47a2de"
      },
      "outputs": [
        {
          "data": {
            "text/plain": [
              "2525"
            ]
          },
          "execution_count": 97,
          "metadata": {},
          "output_type": "execute_result"
        }
      ],
      "source": [
        "b*a"
      ]
    },
    {
      "cell_type": "code",
      "execution_count": null,
      "id": "0254f895-f20e-4004-8ea8-23ed0b4b426e",
      "metadata": {
        "id": "0254f895-f20e-4004-8ea8-23ed0b4b426e",
        "outputId": "a32ae702-3c8e-4667-e742-f2694e14b9f8"
      },
      "outputs": [
        {
          "data": {
            "text/plain": [
              "126"
            ]
          },
          "execution_count": 98,
          "metadata": {},
          "output_type": "execute_result"
        }
      ],
      "source": [
        "b+a"
      ]
    },
    {
      "cell_type": "code",
      "execution_count": null,
      "id": "e7f35b01-2227-4abe-b39d-7b2b5daab2b8",
      "metadata": {
        "id": "e7f35b01-2227-4abe-b39d-7b2b5daab2b8",
        "outputId": "a41ee6d1-22b5-4d85-d26d-ff97eeedff90"
      },
      "outputs": [
        {
          "data": {
            "text/plain": [
              "0.24752475247524752"
            ]
          },
          "execution_count": 100,
          "metadata": {},
          "output_type": "execute_result"
        }
      ],
      "source": [
        "a/b"
      ]
    },
    {
      "cell_type": "code",
      "execution_count": null,
      "id": "2b85f879-44fa-4876-8e4d-877924e1c98f",
      "metadata": {
        "id": "2b85f879-44fa-4876-8e4d-877924e1c98f",
        "outputId": "3d3d3a32-1d26-415e-ff14-6e66e51938fd"
      },
      "outputs": [
        {
          "data": {
            "text/plain": [
              "0"
            ]
          },
          "execution_count": 101,
          "metadata": {},
          "output_type": "execute_result"
        }
      ],
      "source": [
        "a//b"
      ]
    },
    {
      "cell_type": "code",
      "execution_count": null,
      "id": "2b2a1e74-ec45-42c8-bc25-59d9a21b26fd",
      "metadata": {
        "id": "2b2a1e74-ec45-42c8-bc25-59d9a21b26fd",
        "outputId": "1621fecc-e527-4153-fa3f-1a796741c9c5"
      },
      "outputs": [
        {
          "data": {
            "text/plain": [
              "4"
            ]
          },
          "execution_count": 102,
          "metadata": {},
          "output_type": "execute_result"
        }
      ],
      "source": [
        "b//a"
      ]
    },
    {
      "cell_type": "code",
      "execution_count": null,
      "id": "9ddd6be3-7859-43f0-be58-3762b90d5310",
      "metadata": {
        "id": "9ddd6be3-7859-43f0-be58-3762b90d5310",
        "outputId": "bb76376b-686c-4e60-8932-b73ec5cc9830"
      },
      "outputs": [
        {
          "data": {
            "text/plain": [
              "4.04"
            ]
          },
          "execution_count": 103,
          "metadata": {},
          "output_type": "execute_result"
        }
      ],
      "source": [
        "b/a"
      ]
    },
    {
      "cell_type": "code",
      "execution_count": null,
      "id": "3f84b5c1-f824-4880-89bd-22645cbbf5ba",
      "metadata": {
        "id": "3f84b5c1-f824-4880-89bd-22645cbbf5ba",
        "outputId": "447e2521-1e13-47ea-b3a7-8ceae1778684"
      },
      "outputs": [
        {
          "data": {
            "text/plain": [
              "1"
            ]
          },
          "execution_count": 104,
          "metadata": {},
          "output_type": "execute_result"
        }
      ],
      "source": [
        "b%a"
      ]
    },
    {
      "cell_type": "code",
      "execution_count": null,
      "id": "cd99a92b-fc8c-4e81-bb4e-5df45764efee",
      "metadata": {
        "id": "cd99a92b-fc8c-4e81-bb4e-5df45764efee",
        "outputId": "6eb93801-030d-4b5c-99b6-d565f705710f"
      },
      "outputs": [
        {
          "data": {
            "text/plain": [
              "25"
            ]
          },
          "execution_count": 106,
          "metadata": {},
          "output_type": "execute_result"
        }
      ],
      "source": [
        "## Display the remainder\n",
        "a%b"
      ]
    },
    {
      "cell_type": "markdown",
      "id": "7322c956-0b1c-4a1b-84b4-294752bcf3da",
      "metadata": {
        "id": "7322c956-0b1c-4a1b-84b4-294752bcf3da"
      },
      "source": [
        "### Bitwise Operators\n",
        "|Operation|Meaning|\n",
        "|:-:|:-:|\n",
        "| **∼** |bitwise complement (prefix unary operator)|\n",
        "| **&** |bitwise and|\n",
        "| **\\|** |bitwise or|\n",
        "| **^** |bitwise exclusive-or|\n",
        "| **<<** |shift bits left, filling in with zeros|\n",
        "| **>>** |shift bits right, filling in with sign bit|\n"
      ]
    },
    {
      "cell_type": "code",
      "execution_count": null,
      "id": "5d4f6dc3-9fe6-4d49-8af4-0f4d7c3bfb48",
      "metadata": {
        "id": "5d4f6dc3-9fe6-4d49-8af4-0f4d7c3bfb48",
        "outputId": "ada2cf00-20a3-4b80-ae5f-9d9de13a3511"
      },
      "outputs": [
        {
          "data": {
            "text/plain": [
              "'0b1010'"
            ]
          },
          "execution_count": 107,
          "metadata": {},
          "output_type": "execute_result"
        }
      ],
      "source": [
        "var=10\n",
        "bin(var)"
      ]
    },
    {
      "cell_type": "code",
      "execution_count": null,
      "id": "26b23b56-aa8f-42dc-b78c-91cd9c21eab9",
      "metadata": {
        "id": "26b23b56-aa8f-42dc-b78c-91cd9c21eab9",
        "outputId": "bcb91438-948f-45b4-f030-290576937a3d"
      },
      "outputs": [
        {
          "data": {
            "text/plain": [
              "-11"
            ]
          },
          "execution_count": 108,
          "metadata": {},
          "output_type": "execute_result"
        }
      ],
      "source": [
        "~var"
      ]
    },
    {
      "cell_type": "code",
      "execution_count": null,
      "id": "9507d38a-c76e-4405-8f12-4fb630acfb3a",
      "metadata": {
        "id": "9507d38a-c76e-4405-8f12-4fb630acfb3a",
        "outputId": "482e38d9-5484-40b5-cfb0-462db5d42917"
      },
      "outputs": [
        {
          "data": {
            "text/plain": [
              "True"
            ]
          },
          "execution_count": 110,
          "metadata": {},
          "output_type": "execute_result"
        }
      ],
      "source": [
        "True | False"
      ]
    },
    {
      "cell_type": "code",
      "execution_count": null,
      "id": "b89ed9f2-32f2-4643-9767-b0476fcb6a82",
      "metadata": {
        "id": "b89ed9f2-32f2-4643-9767-b0476fcb6a82",
        "outputId": "d5b32cad-2047-4ebb-8f64-b6232603c1eb"
      },
      "outputs": [
        {
          "data": {
            "text/plain": [
              "False"
            ]
          },
          "execution_count": 111,
          "metadata": {},
          "output_type": "execute_result"
        }
      ],
      "source": [
        "False & False"
      ]
    },
    {
      "cell_type": "code",
      "execution_count": null,
      "id": "fe46da9b-dc99-4acd-afe5-30f1bfbaf27e",
      "metadata": {
        "id": "fe46da9b-dc99-4acd-afe5-30f1bfbaf27e",
        "outputId": "097edc49-56ea-44b0-e7ac-40e8373c5e1a"
      },
      "outputs": [
        {
          "data": {
            "text/plain": [
              "5"
            ]
          },
          "execution_count": 113,
          "metadata": {},
          "output_type": "execute_result"
        }
      ],
      "source": [
        "var >>1"
      ]
    },
    {
      "cell_type": "code",
      "execution_count": null,
      "id": "0311e341-b687-4630-8b9a-5688d14ea56d",
      "metadata": {
        "id": "0311e341-b687-4630-8b9a-5688d14ea56d",
        "outputId": "4c56d161-79f4-4725-b7e9-f25f99cfed20"
      },
      "outputs": [
        {
          "data": {
            "text/plain": [
              "20"
            ]
          },
          "execution_count": 114,
          "metadata": {},
          "output_type": "execute_result"
        }
      ],
      "source": [
        "var << 1"
      ]
    },
    {
      "cell_type": "markdown",
      "id": "8fa1eccd-564c-42d1-a514-ca74c0d8b072",
      "metadata": {
        "id": "8fa1eccd-564c-42d1-a514-ca74c0d8b072"
      },
      "source": [
        "## Strings"
      ]
    },
    {
      "cell_type": "code",
      "execution_count": null,
      "id": "1e322ef0-fbbd-436a-916e-aaad16fd3585",
      "metadata": {
        "id": "1e322ef0-fbbd-436a-916e-aaad16fd3585",
        "outputId": "c0076be8-df77-4dda-f0e5-029d3f049046"
      },
      "outputs": [
        {
          "data": {
            "text/plain": [
              "'Welcome to the Data Science masters'"
            ]
          },
          "execution_count": 116,
          "metadata": {},
          "output_type": "execute_result"
        }
      ],
      "source": [
        "\n",
        "\"Welcome to the Data Science masters\""
      ]
    },
    {
      "cell_type": "code",
      "execution_count": null,
      "id": "06892483-dacb-4ff7-80d3-a37d3d1d2336",
      "metadata": {
        "id": "06892483-dacb-4ff7-80d3-a37d3d1d2336"
      },
      "outputs": [],
      "source": [
        "str1=\"Welcome to Data Science Masters\""
      ]
    },
    {
      "cell_type": "code",
      "execution_count": null,
      "id": "5c86d5ab-9446-4297-ad0c-c6d0825467da",
      "metadata": {
        "id": "5c86d5ab-9446-4297-ad0c-c6d0825467da",
        "outputId": "d98731b9-fc51-4c1a-8e44-0a70a6bc295a"
      },
      "outputs": [
        {
          "data": {
            "text/plain": [
              "str"
            ]
          },
          "execution_count": 119,
          "metadata": {},
          "output_type": "execute_result"
        }
      ],
      "source": [
        "type(str1)"
      ]
    },
    {
      "cell_type": "code",
      "execution_count": null,
      "id": "35262123-5ae9-4a3b-ae30-dc41cc6e3f0e",
      "metadata": {
        "id": "35262123-5ae9-4a3b-ae30-dc41cc6e3f0e",
        "outputId": "a165c912-fdb5-48de-af5e-69e25dc3cab9"
      },
      "outputs": [
        {
          "ename": "TypeError",
          "evalue": "'str' object does not support item assignment",
          "output_type": "error",
          "traceback": [
            "\u001b[0;31m---------------------------------------------------------------------------\u001b[0m",
            "\u001b[0;31mTypeError\u001b[0m                                 Traceback (most recent call last)",
            "Cell \u001b[0;32mIn[121], line 1\u001b[0m\n\u001b[0;32m----> 1\u001b[0m \u001b[43mstr1\u001b[49m\u001b[43m[\u001b[49m\u001b[38;5;241;43m0\u001b[39;49m\u001b[43m]\u001b[49m\u001b[38;5;241m=\u001b[39m\u001b[38;5;241m12\u001b[39m\n",
            "\u001b[0;31mTypeError\u001b[0m: 'str' object does not support item assignment"
          ]
        }
      ],
      "source": [
        "## immutable\n",
        "str1[0]=12"
      ]
    },
    {
      "cell_type": "code",
      "execution_count": null,
      "id": "e1795feb-0392-451f-b4d5-f1d16ae91131",
      "metadata": {
        "id": "e1795feb-0392-451f-b4d5-f1d16ae91131"
      },
      "outputs": [],
      "source": [
        "str1=\"Krish Naik\""
      ]
    },
    {
      "cell_type": "code",
      "execution_count": null,
      "id": "8b278a46-d548-41bf-9350-9dc4d5edc73e",
      "metadata": {
        "id": "8b278a46-d548-41bf-9350-9dc4d5edc73e",
        "outputId": "3362df3b-fe06-449a-bf62-f3994c8622aa"
      },
      "outputs": [
        {
          "data": {
            "text/plain": [
              "'Krish Naik'"
            ]
          },
          "execution_count": 123,
          "metadata": {},
          "output_type": "execute_result"
        }
      ],
      "source": [
        "str1"
      ]
    },
    {
      "cell_type": "code",
      "execution_count": null,
      "id": "054227a4-6424-4545-9795-1ca1d11cfbb1",
      "metadata": {
        "id": "054227a4-6424-4545-9795-1ca1d11cfbb1"
      },
      "outputs": [],
      "source": [
        "welcome=\"Hello World\""
      ]
    },
    {
      "cell_type": "code",
      "execution_count": null,
      "id": "17e54429-1fb7-4efc-8f06-68aafbf09324",
      "metadata": {
        "id": "17e54429-1fb7-4efc-8f06-68aafbf09324",
        "outputId": "64fbf338-181a-4e2b-cf54-4f52b8f26e87"
      },
      "outputs": [
        {
          "data": {
            "text/plain": [
              "['__add__',\n",
              " '__class__',\n",
              " '__contains__',\n",
              " '__delattr__',\n",
              " '__dir__',\n",
              " '__doc__',\n",
              " '__eq__',\n",
              " '__format__',\n",
              " '__ge__',\n",
              " '__getattribute__',\n",
              " '__getitem__',\n",
              " '__getnewargs__',\n",
              " '__gt__',\n",
              " '__hash__',\n",
              " '__init__',\n",
              " '__init_subclass__',\n",
              " '__iter__',\n",
              " '__le__',\n",
              " '__len__',\n",
              " '__lt__',\n",
              " '__mod__',\n",
              " '__mul__',\n",
              " '__ne__',\n",
              " '__new__',\n",
              " '__reduce__',\n",
              " '__reduce_ex__',\n",
              " '__repr__',\n",
              " '__rmod__',\n",
              " '__rmul__',\n",
              " '__setattr__',\n",
              " '__sizeof__',\n",
              " '__str__',\n",
              " '__subclasshook__',\n",
              " 'capitalize',\n",
              " 'casefold',\n",
              " 'center',\n",
              " 'count',\n",
              " 'encode',\n",
              " 'endswith',\n",
              " 'expandtabs',\n",
              " 'find',\n",
              " 'format',\n",
              " 'format_map',\n",
              " 'index',\n",
              " 'isalnum',\n",
              " 'isalpha',\n",
              " 'isascii',\n",
              " 'isdecimal',\n",
              " 'isdigit',\n",
              " 'isidentifier',\n",
              " 'islower',\n",
              " 'isnumeric',\n",
              " 'isprintable',\n",
              " 'isspace',\n",
              " 'istitle',\n",
              " 'isupper',\n",
              " 'join',\n",
              " 'ljust',\n",
              " 'lower',\n",
              " 'lstrip',\n",
              " 'maketrans',\n",
              " 'partition',\n",
              " 'removeprefix',\n",
              " 'removesuffix',\n",
              " 'replace',\n",
              " 'rfind',\n",
              " 'rindex',\n",
              " 'rjust',\n",
              " 'rpartition',\n",
              " 'rsplit',\n",
              " 'rstrip',\n",
              " 'split',\n",
              " 'splitlines',\n",
              " 'startswith',\n",
              " 'strip',\n",
              " 'swapcase',\n",
              " 'title',\n",
              " 'translate',\n",
              " 'upper',\n",
              " 'zfill']"
            ]
          },
          "execution_count": 127,
          "metadata": {},
          "output_type": "execute_result"
        }
      ],
      "source": [
        "dir(welcome)"
      ]
    },
    {
      "cell_type": "code",
      "execution_count": null,
      "id": "c68902e1-dd9b-4b27-92de-dffc41f609d9",
      "metadata": {
        "id": "c68902e1-dd9b-4b27-92de-dffc41f609d9"
      },
      "outputs": [],
      "source": [
        "string =\"Pw Skills Data Science\""
      ]
    },
    {
      "cell_type": "code",
      "execution_count": null,
      "id": "18719f50-a61e-4676-be36-3cf11b31b5d5",
      "metadata": {
        "id": "18719f50-a61e-4676-be36-3cf11b31b5d5",
        "outputId": "2d635c7c-80af-4f53-e28b-88f8b9110f15"
      },
      "outputs": [
        {
          "data": {
            "text/plain": [
              "'i'"
            ]
          },
          "execution_count": 131,
          "metadata": {},
          "output_type": "execute_result"
        }
      ],
      "source": [
        "string[5]"
      ]
    },
    {
      "cell_type": "code",
      "execution_count": null,
      "id": "73d391bf-b0d8-4c71-a8bb-b97f941e93df",
      "metadata": {
        "id": "73d391bf-b0d8-4c71-a8bb-b97f941e93df",
        "outputId": "319eee71-6fe9-4ce2-8ae3-7c4c7208ea84"
      },
      "outputs": [
        {
          "data": {
            "text/plain": [
              "'ills D'"
            ]
          },
          "execution_count": 133,
          "metadata": {},
          "output_type": "execute_result"
        }
      ],
      "source": [
        "## slice operation\n",
        "string[5:11]"
      ]
    },
    {
      "cell_type": "code",
      "execution_count": null,
      "id": "3de57a01-2bef-47da-895b-44bd05b62686",
      "metadata": {
        "id": "3de57a01-2bef-47da-895b-44bd05b62686",
        "outputId": "281a84c8-c0a3-4b22-bd8c-755a27236ff2"
      },
      "outputs": [
        {
          "data": {
            "text/plain": [
              "'e'"
            ]
          },
          "execution_count": 134,
          "metadata": {},
          "output_type": "execute_result"
        }
      ],
      "source": [
        "string[-1]"
      ]
    },
    {
      "cell_type": "code",
      "execution_count": null,
      "id": "55fab397-3f30-42bc-b364-f4104e96fa1e",
      "metadata": {
        "id": "55fab397-3f30-42bc-b364-f4104e96fa1e",
        "outputId": "03e441ea-3be5-4ce3-c6b6-55aed10fc532"
      },
      "outputs": [
        {
          "data": {
            "text/plain": [
              "'nce'"
            ]
          },
          "execution_count": 136,
          "metadata": {},
          "output_type": "execute_result"
        }
      ],
      "source": [
        "string[-3:]"
      ]
    },
    {
      "cell_type": "code",
      "execution_count": null,
      "id": "caeb9b04-0e81-46c2-a375-b4d718078fe9",
      "metadata": {
        "id": "caeb9b04-0e81-46c2-a375-b4d718078fe9",
        "outputId": "4de03746-843a-4483-fe4a-3eccb4fc9f4d"
      },
      "outputs": [
        {
          "data": {
            "text/plain": [
              "'Scie'"
            ]
          },
          "execution_count": 138,
          "metadata": {},
          "output_type": "execute_result"
        }
      ],
      "source": [
        "string[-7:-3]"
      ]
    },
    {
      "cell_type": "code",
      "execution_count": null,
      "id": "845e1900-978d-4687-a358-db61add510a0",
      "metadata": {
        "id": "845e1900-978d-4687-a358-db61add510a0",
        "outputId": "71ec17a4-9746-438b-f7ec-c9be7fa67f94"
      },
      "outputs": [
        {
          "data": {
            "text/plain": [
              "'Pw Skills Data Science'"
            ]
          },
          "execution_count": 242,
          "metadata": {},
          "output_type": "execute_result"
        }
      ],
      "source": [
        "string"
      ]
    },
    {
      "cell_type": "code",
      "execution_count": null,
      "id": "37d10dbe-788e-477b-b765-56337e9073db",
      "metadata": {
        "id": "37d10dbe-788e-477b-b765-56337e9073db",
        "outputId": "90b69f29-155f-4bfa-a411-f7aae549b4ca"
      },
      "outputs": [
        {
          "data": {
            "text/plain": [
              "'S'"
            ]
          },
          "execution_count": 251,
          "metadata": {},
          "output_type": "execute_result"
        }
      ],
      "source": [
        "string[-7:5]"
      ]
    },
    {
      "cell_type": "code",
      "execution_count": null,
      "id": "5844b3ab-ead6-43df-98f9-59d2054ce40a",
      "metadata": {
        "id": "5844b3ab-ead6-43df-98f9-59d2054ce40a",
        "outputId": "de983111-21b4-4821-90ac-2de70ba96e2d"
      },
      "outputs": [
        {
          "data": {
            "text/plain": [
              "''"
            ]
          },
          "execution_count": 140,
          "metadata": {},
          "output_type": "execute_result"
        }
      ],
      "source": [
        "string[7:5]"
      ]
    },
    {
      "cell_type": "code",
      "execution_count": null,
      "id": "154674b7-8761-4eeb-8d77-5597c676d18a",
      "metadata": {
        "id": "154674b7-8761-4eeb-8d77-5597c676d18a",
        "outputId": "38067ac8-0142-4a58-8141-4672d2ee2a45"
      },
      "outputs": [
        {
          "data": {
            "text/plain": [
              "''"
            ]
          },
          "execution_count": 141,
          "metadata": {},
          "output_type": "execute_result"
        }
      ],
      "source": [
        "string[-10:10]"
      ]
    },
    {
      "cell_type": "code",
      "execution_count": null,
      "id": "58c8e9b8-6362-4065-b34e-c5cde623078c",
      "metadata": {
        "id": "58c8e9b8-6362-4065-b34e-c5cde623078c",
        "outputId": "a3819172-05a0-487f-95ac-2dda742825ee"
      },
      "outputs": [
        {
          "data": {
            "text/plain": [
              "'Pw Skills Data Scienc'"
            ]
          },
          "execution_count": 142,
          "metadata": {},
          "output_type": "execute_result"
        }
      ],
      "source": [
        "string[:-1]"
      ]
    },
    {
      "cell_type": "code",
      "execution_count": null,
      "id": "dd7134fc-2c5b-4f3e-a658-f4cd8ad2e237",
      "metadata": {
        "id": "dd7134fc-2c5b-4f3e-a658-f4cd8ad2e237",
        "outputId": "86e80eee-3521-4cd6-999a-0fdddbb93e81"
      },
      "outputs": [
        {
          "data": {
            "text/plain": [
              "'Pw Skills Data Science'"
            ]
          },
          "execution_count": 143,
          "metadata": {},
          "output_type": "execute_result"
        }
      ],
      "source": [
        "string[:]"
      ]
    },
    {
      "cell_type": "code",
      "execution_count": null,
      "id": "3a835235-300c-409e-b716-d59454d57ef8",
      "metadata": {
        "id": "3a835235-300c-409e-b716-d59454d57ef8",
        "outputId": "d524a0ca-6c88-400c-f035-cc99588cb5d9"
      },
      "outputs": [
        {
          "data": {
            "text/plain": [
              "'Data Science Masters'"
            ]
          },
          "execution_count": 241,
          "metadata": {},
          "output_type": "execute_result"
        }
      ],
      "source": [
        "course_name"
      ]
    },
    {
      "cell_type": "code",
      "execution_count": null,
      "id": "084987c8-42ce-4cff-a46f-b0fd333b676a",
      "metadata": {
        "id": "084987c8-42ce-4cff-a46f-b0fd333b676a",
        "outputId": "a0c9dca2-2760-40b1-a535-00dff7f3f207"
      },
      "outputs": [
        {
          "data": {
            "text/plain": [
              "'rt'"
            ]
          },
          "execution_count": 240,
          "metadata": {},
          "output_type": "execute_result"
        }
      ],
      "source": [
        "name=\"Karthik\"\n",
        "name[-5:4]\n"
      ]
    },
    {
      "cell_type": "code",
      "execution_count": null,
      "id": "43d42014-4f65-496e-8e51-f411d6d3f259",
      "metadata": {
        "id": "43d42014-4f65-496e-8e51-f411d6d3f259",
        "outputId": "fb532877-77c6-4484-86e8-9416119ea896"
      },
      "outputs": [
        {
          "data": {
            "text/plain": [
              "'Pw Skills Data Science'"
            ]
          },
          "execution_count": 145,
          "metadata": {},
          "output_type": "execute_result"
        }
      ],
      "source": [
        "string"
      ]
    },
    {
      "cell_type": "code",
      "execution_count": null,
      "id": "f017f22e-8304-404d-84ad-a828733ecd27",
      "metadata": {
        "id": "f017f22e-8304-404d-84ad-a828733ecd27",
        "outputId": "51cb28ee-bf73-4dbf-9cb5-245e810179aa"
      },
      "outputs": [
        {
          "data": {
            "text/plain": [
              "'ecneicS ataD sllikS wP'"
            ]
          },
          "execution_count": 148,
          "metadata": {},
          "output_type": "execute_result"
        }
      ],
      "source": [
        "string[::-1]"
      ]
    },
    {
      "cell_type": "code",
      "execution_count": null,
      "id": "cc8b5cf5-0e7a-4c49-8263-4d4c170fe47f",
      "metadata": {
        "id": "cc8b5cf5-0e7a-4c49-8263-4d4c170fe47f",
        "outputId": "4ffe509e-efe6-43f9-ff7a-d09d62ad2cbc"
      },
      "outputs": [
        {
          "data": {
            "text/plain": [
              "'eniSaa liSw'"
            ]
          },
          "execution_count": 149,
          "metadata": {},
          "output_type": "execute_result"
        }
      ],
      "source": [
        "string[::-2]"
      ]
    },
    {
      "cell_type": "code",
      "execution_count": null,
      "id": "3a4e4b57-8754-4af7-8011-1f11fb8019cb",
      "metadata": {
        "id": "3a4e4b57-8754-4af7-8011-1f11fb8019cb",
        "outputId": "41adf3f0-804e-49c3-c268-53fb9b591339"
      },
      "outputs": [
        {
          "data": {
            "text/plain": [
              "'ecneicS ataD sllikS wP'"
            ]
          },
          "execution_count": 156,
          "metadata": {},
          "output_type": "execute_result"
        }
      ],
      "source": [
        "string[::-1]"
      ]
    },
    {
      "cell_type": "code",
      "execution_count": null,
      "id": "48d12583-b301-4a81-b0ee-c20d078a3257",
      "metadata": {
        "id": "48d12583-b301-4a81-b0ee-c20d078a3257",
        "outputId": "503177b0-5fb0-4076-fb33-e509854f3e62"
      },
      "outputs": [
        {
          "data": {
            "text/plain": [
              "'eeSt lSP'"
            ]
          },
          "execution_count": 157,
          "metadata": {},
          "output_type": "execute_result"
        }
      ],
      "source": [
        "string[::-3]"
      ]
    },
    {
      "cell_type": "code",
      "execution_count": null,
      "id": "6e5cfb4a-893a-4dd3-9ab9-05355780b24e",
      "metadata": {
        "id": "6e5cfb4a-893a-4dd3-9ab9-05355780b24e",
        "outputId": "55621f84-95e6-406a-98a6-7537a15316af"
      },
      "outputs": [
        {
          "data": {
            "text/plain": [
              "'PiDSc'"
            ]
          },
          "execution_count": 160,
          "metadata": {},
          "output_type": "execute_result"
        }
      ],
      "source": [
        "string[::5]"
      ]
    },
    {
      "cell_type": "code",
      "execution_count": null,
      "id": "e6e600da-fb4a-479a-828d-ec5ac8efe7ba",
      "metadata": {
        "id": "e6e600da-fb4a-479a-828d-ec5ac8efe7ba"
      },
      "outputs": [],
      "source": [
        "name=\"Krish\""
      ]
    },
    {
      "cell_type": "code",
      "execution_count": null,
      "id": "7a74fce5-6c8e-464b-9827-815ea65c00d5",
      "metadata": {
        "id": "7a74fce5-6c8e-464b-9827-815ea65c00d5",
        "outputId": "5f8bfcfe-0d3c-4f10-d11f-925f98aacb0d"
      },
      "outputs": [
        {
          "data": {
            "text/plain": [
              "'hiK'"
            ]
          },
          "execution_count": 170,
          "metadata": {},
          "output_type": "execute_result"
        }
      ],
      "source": [
        "name[::-2]"
      ]
    },
    {
      "cell_type": "code",
      "execution_count": null,
      "id": "622ac4af-48ff-40b7-9df4-ee18e5900ed3",
      "metadata": {
        "id": "622ac4af-48ff-40b7-9df4-ee18e5900ed3",
        "outputId": "aac7528f-e695-47c2-ee66-d8cb44061569"
      },
      "outputs": [
        {
          "data": {
            "text/plain": [
              "'si'"
            ]
          },
          "execution_count": 174,
          "metadata": {},
          "output_type": "execute_result"
        }
      ],
      "source": [
        "name[3:1:-1]"
      ]
    },
    {
      "cell_type": "code",
      "execution_count": null,
      "id": "f0ccb883-0770-40f1-b1e4-58cedd2da622",
      "metadata": {
        "id": "f0ccb883-0770-40f1-b1e4-58cedd2da622"
      },
      "outputs": [],
      "source": [
        "course_name=\"Data Science Masters\""
      ]
    },
    {
      "cell_type": "code",
      "execution_count": null,
      "id": "111944a3-b563-42df-bda9-a2da78164428",
      "metadata": {
        "id": "111944a3-b563-42df-bda9-a2da78164428"
      },
      "outputs": [],
      "source": [
        "name=\"Karthik\""
      ]
    },
    {
      "cell_type": "code",
      "execution_count": null,
      "id": "855f1fa4-b360-4991-965d-21033d2634c2",
      "metadata": {
        "id": "855f1fa4-b360-4991-965d-21033d2634c2",
        "outputId": "00d90680-4271-4674-f985-2c787377d48d"
      },
      "outputs": [
        {
          "data": {
            "text/plain": [
              "'kihtraK'"
            ]
          },
          "execution_count": 239,
          "metadata": {},
          "output_type": "execute_result"
        }
      ],
      "source": [
        "name[::-1]"
      ]
    },
    {
      "cell_type": "code",
      "execution_count": null,
      "id": "1071790a-e65e-446d-82b6-a555831b2fd7",
      "metadata": {
        "id": "1071790a-e65e-446d-82b6-a555831b2fd7",
        "outputId": "62999e41-b8b5-4ede-8f92-730ed55e9e96"
      },
      "outputs": [
        {
          "data": {
            "text/plain": [
              "' ecneicS'"
            ]
          },
          "execution_count": 233,
          "metadata": {},
          "output_type": "execute_result"
        }
      ],
      "source": [
        "course_name[12:4:-1]"
      ]
    },
    {
      "cell_type": "code",
      "execution_count": null,
      "id": "30e81a85-f7ee-44cc-9ab4-8fc37bef8600",
      "metadata": {
        "id": "30e81a85-f7ee-44cc-9ab4-8fc37bef8600",
        "outputId": "0a6cfa05-1c31-4962-9099-5e6b96a4a2f6"
      },
      "outputs": [
        {
          "data": {
            "text/plain": [
              "'Science'"
            ]
          },
          "execution_count": 179,
          "metadata": {},
          "output_type": "execute_result"
        }
      ],
      "source": [
        "course_name[5:12]"
      ]
    },
    {
      "cell_type": "code",
      "execution_count": null,
      "id": "459f5320-d777-4669-a64e-452429908a28",
      "metadata": {
        "id": "459f5320-d777-4669-a64e-452429908a28",
        "outputId": "9fab240b-5cd6-4e6d-f053-218a087f5083"
      },
      "outputs": [
        {
          "data": {
            "text/plain": [
              "'Data Science Masters'"
            ]
          },
          "execution_count": 188,
          "metadata": {},
          "output_type": "execute_result"
        }
      ],
      "source": [
        "course_name"
      ]
    },
    {
      "cell_type": "code",
      "execution_count": null,
      "id": "e0e74ef5-e223-4263-ba98-0ff60db18f67",
      "metadata": {
        "id": "e0e74ef5-e223-4263-ba98-0ff60db18f67",
        "outputId": "c28d6921-cb48-4267-e88a-e7fd6b5a9e12"
      },
      "outputs": [
        {
          "data": {
            "text/plain": [
              "'ecneicS'"
            ]
          },
          "execution_count": 184,
          "metadata": {},
          "output_type": "execute_result"
        }
      ],
      "source": [
        "course_name[11:4:-1]"
      ]
    },
    {
      "cell_type": "code",
      "execution_count": null,
      "id": "3d5ccf57-dcd2-49eb-9034-e3bb5d1d2bc0",
      "metadata": {
        "id": "3d5ccf57-dcd2-49eb-9034-e3bb5d1d2bc0",
        "outputId": "45e978a9-33f6-4606-f5b8-275af06a26e5"
      },
      "outputs": [
        {
          "data": {
            "text/plain": [
              "' ecneicS'"
            ]
          },
          "execution_count": 185,
          "metadata": {},
          "output_type": "execute_result"
        }
      ],
      "source": [
        "course_name[12:4:-1]"
      ]
    },
    {
      "cell_type": "code",
      "execution_count": null,
      "id": "a18818d3-9bd8-4f53-b42d-8cd20e4ae75d",
      "metadata": {
        "id": "a18818d3-9bd8-4f53-b42d-8cd20e4ae75d",
        "outputId": "906a13fa-ac66-44a4-eceb-fabee7a92e24"
      },
      "outputs": [
        {
          "data": {
            "text/plain": [
              "' ecneic'"
            ]
          },
          "execution_count": 187,
          "metadata": {},
          "output_type": "execute_result"
        }
      ],
      "source": [
        "course_name[12:5:-1]"
      ]
    },
    {
      "cell_type": "code",
      "execution_count": null,
      "id": "bc58ca47-02da-47d0-926a-6ca62aaf8b10",
      "metadata": {
        "id": "bc58ca47-02da-47d0-926a-6ca62aaf8b10",
        "outputId": "ec30c4f5-7873-459a-b0b2-a2b129ddb6ac"
      },
      "outputs": [
        {
          "data": {
            "text/plain": [
              "'Data Science MastersCourse'"
            ]
          },
          "execution_count": 194,
          "metadata": {},
          "output_type": "execute_result"
        }
      ],
      "source": [
        "## concatentaion\n",
        "course_name + \"Course\""
      ]
    },
    {
      "cell_type": "code",
      "execution_count": null,
      "id": "0b3dd5fc-1fe3-416c-89ef-ab35f09a8981",
      "metadata": {
        "id": "0b3dd5fc-1fe3-416c-89ef-ab35f09a8981",
        "outputId": "d6423c13-9470-4210-aac5-9251db69fd5a"
      },
      "outputs": [
        {
          "data": {
            "text/plain": [
              "' Science'"
            ]
          },
          "execution_count": 192,
          "metadata": {},
          "output_type": "execute_result"
        }
      ],
      "source": [
        "course_name[4:12:1]"
      ]
    },
    {
      "cell_type": "code",
      "execution_count": null,
      "id": "c0293d8e-9f11-4aa7-a708-af0276285752",
      "metadata": {
        "id": "c0293d8e-9f11-4aa7-a708-af0276285752",
        "outputId": "f52cae5b-1ec5-463f-bdba-68c829456106"
      },
      "outputs": [
        {
          "name": "stdout",
          "output_type": "stream",
          "text": [
            "HelloWorlds\n"
          ]
        }
      ],
      "source": [
        "print(\"Hello\" + \"Worlds\")"
      ]
    },
    {
      "cell_type": "code",
      "execution_count": null,
      "id": "5aa2fe35-07fb-4cb8-8874-9058ac4e1172",
      "metadata": {
        "id": "5aa2fe35-07fb-4cb8-8874-9058ac4e1172",
        "outputId": "46959901-4ccc-45c8-9058-b77f162d6ea5"
      },
      "outputs": [
        {
          "data": {
            "text/plain": [
              "'Data Science MastersData Science MastersData Science MastersData Science MastersData Science Masters'"
            ]
          },
          "execution_count": 197,
          "metadata": {},
          "output_type": "execute_result"
        }
      ],
      "source": [
        "course_name *5"
      ]
    },
    {
      "cell_type": "code",
      "execution_count": null,
      "id": "d6499265-aba8-49bc-b644-b6f1188717ed",
      "metadata": {
        "id": "d6499265-aba8-49bc-b644-b6f1188717ed",
        "outputId": "e9f92e9a-6edb-454f-ba4b-10733b1728dc"
      },
      "outputs": [
        {
          "data": {
            "text/plain": [
              "20"
            ]
          },
          "execution_count": 198,
          "metadata": {},
          "output_type": "execute_result"
        }
      ],
      "source": [
        "len(course_name)"
      ]
    },
    {
      "cell_type": "code",
      "execution_count": null,
      "id": "c2fcf69e-5d14-4679-b4aa-64ae2b42166f",
      "metadata": {
        "id": "c2fcf69e-5d14-4679-b4aa-64ae2b42166f",
        "outputId": "c000f1e2-fcf3-4b00-de5d-0f8b49e4a746"
      },
      "outputs": [
        {
          "data": {
            "text/plain": [
              "9"
            ]
          },
          "execution_count": 199,
          "metadata": {},
          "output_type": "execute_result"
        }
      ],
      "source": [
        "## find function\n",
        "course_name.find(\"n\")"
      ]
    },
    {
      "cell_type": "code",
      "execution_count": null,
      "id": "62b9d8ab-dde3-48e9-8703-a4cdf2e80b19",
      "metadata": {
        "id": "62b9d8ab-dde3-48e9-8703-a4cdf2e80b19",
        "outputId": "b6a4fd19-6aa5-4fac-92a4-a82b154a4e18"
      },
      "outputs": [
        {
          "data": {
            "text/plain": [
              "3"
            ]
          },
          "execution_count": 201,
          "metadata": {},
          "output_type": "execute_result"
        }
      ],
      "source": [
        "course_name.find(\"a\",2,10)"
      ]
    },
    {
      "cell_type": "code",
      "execution_count": null,
      "id": "58e88d61-0829-435e-a86f-24dfc0b5763d",
      "metadata": {
        "id": "58e88d61-0829-435e-a86f-24dfc0b5763d",
        "outputId": "e9a3158a-4aca-4f2f-adc1-786b15e1d88d"
      },
      "outputs": [
        {
          "data": {
            "text/plain": [
              "-1"
            ]
          },
          "execution_count": 202,
          "metadata": {},
          "output_type": "execute_result"
        }
      ],
      "source": [
        "course_name.find(\"z\")"
      ]
    },
    {
      "cell_type": "code",
      "execution_count": null,
      "id": "b9172204-126b-4f9e-a5b1-c7abeb3993a3",
      "metadata": {
        "id": "b9172204-126b-4f9e-a5b1-c7abeb3993a3",
        "outputId": "31c48583-077d-4ce5-c21b-ed871ba55b9c"
      },
      "outputs": [
        {
          "data": {
            "text/plain": [
              "'Data Science Masters'"
            ]
          },
          "execution_count": 204,
          "metadata": {},
          "output_type": "execute_result"
        }
      ],
      "source": [
        "course_name"
      ]
    },
    {
      "cell_type": "code",
      "execution_count": null,
      "id": "4eecc160-d7d2-4643-b654-9b9873a2c25e",
      "metadata": {
        "id": "4eecc160-d7d2-4643-b654-9b9873a2c25e",
        "outputId": "64a1cca9-5bd7-484c-dc56-9e837ded5357"
      },
      "outputs": [
        {
          "data": {
            "text/plain": [
              "3"
            ]
          },
          "execution_count": 203,
          "metadata": {},
          "output_type": "execute_result"
        }
      ],
      "source": [
        "## count()\n",
        "course_name.count('a')"
      ]
    },
    {
      "cell_type": "code",
      "execution_count": null,
      "id": "9e5d8558-545b-4f18-a88c-abe4c7cf9076",
      "metadata": {
        "id": "9e5d8558-545b-4f18-a88c-abe4c7cf9076",
        "outputId": "1d60436c-0868-4d74-b1b3-1ac4ec0b6d44"
      },
      "outputs": [
        {
          "data": {
            "text/plain": [
              "2"
            ]
          },
          "execution_count": 206,
          "metadata": {},
          "output_type": "execute_result"
        }
      ],
      "source": [
        "course_name.count(' ')"
      ]
    },
    {
      "cell_type": "code",
      "execution_count": null,
      "id": "44d59c0e-9975-49f4-9ba9-caec6ed03987",
      "metadata": {
        "id": "44d59c0e-9975-49f4-9ba9-caec6ed03987",
        "outputId": "50bcac32-da7a-4e09-de03-e41f7a879261"
      },
      "outputs": [
        {
          "data": {
            "text/plain": [
              "21"
            ]
          },
          "execution_count": 207,
          "metadata": {},
          "output_type": "execute_result"
        }
      ],
      "source": [
        "course_name.count('')"
      ]
    },
    {
      "cell_type": "code",
      "execution_count": null,
      "id": "5defc0bf-4419-4a1f-a307-ab8e69990249",
      "metadata": {
        "id": "5defc0bf-4419-4a1f-a307-ab8e69990249",
        "outputId": "795a5ad3-a2f3-4467-87b9-102c3d1f9cc9"
      },
      "outputs": [
        {
          "data": {
            "text/plain": [
              "'Data Science Masters'"
            ]
          },
          "execution_count": 225,
          "metadata": {},
          "output_type": "execute_result"
        }
      ],
      "source": [
        "course_name"
      ]
    },
    {
      "cell_type": "code",
      "execution_count": null,
      "id": "60317737-6bf3-4abc-9b69-fd351045233f",
      "metadata": {
        "id": "60317737-6bf3-4abc-9b69-fd351045233f",
        "outputId": "a42a6fe5-d20a-47a0-8638-9ae1fd80a979"
      },
      "outputs": [
        {
          "data": {
            "text/plain": [
              "'sretsaM ecneicS ataD'"
            ]
          },
          "execution_count": 227,
          "metadata": {},
          "output_type": "execute_result"
        }
      ],
      "source": [
        "course_name[::-1]"
      ]
    },
    {
      "cell_type": "code",
      "execution_count": null,
      "id": "6671a097-62c3-4830-b04a-c22259fb2b37",
      "metadata": {
        "id": "6671a097-62c3-4830-b04a-c22259fb2b37"
      },
      "outputs": [],
      "source": [
        "# string split function"
      ]
    },
    {
      "cell_type": "code",
      "execution_count": null,
      "id": "881c48a9-5f31-4f8a-b755-66d8321ff65a",
      "metadata": {
        "id": "881c48a9-5f31-4f8a-b755-66d8321ff65a",
        "outputId": "c750f951-743d-4bde-eb43-de473fdae665"
      },
      "outputs": [
        {
          "data": {
            "text/plain": [
              "['Data', 'Science', 'Masters']"
            ]
          },
          "execution_count": 211,
          "metadata": {},
          "output_type": "execute_result"
        }
      ],
      "source": [
        "course_name.split(' ')"
      ]
    },
    {
      "cell_type": "code",
      "execution_count": null,
      "id": "e0236b25-fbba-4ede-be00-6069d36987f9",
      "metadata": {
        "id": "e0236b25-fbba-4ede-be00-6069d36987f9",
        "outputId": "bd167b01-d4a5-4863-aef6-64c4bf205670"
      },
      "outputs": [
        {
          "data": {
            "text/plain": [
              "'Data Science Masters'"
            ]
          },
          "execution_count": 213,
          "metadata": {},
          "output_type": "execute_result"
        }
      ],
      "source": [
        "course_name"
      ]
    },
    {
      "cell_type": "code",
      "execution_count": null,
      "id": "3c7e9daf-620c-49ce-8aa7-22f0707fe39a",
      "metadata": {
        "id": "3c7e9daf-620c-49ce-8aa7-22f0707fe39a",
        "outputId": "1d24265c-97d0-4f07-d5c3-aa4b5f377d9a"
      },
      "outputs": [
        {
          "data": {
            "text/plain": [
              "['Data ', 'cience Masters']"
            ]
          },
          "execution_count": 212,
          "metadata": {},
          "output_type": "execute_result"
        }
      ],
      "source": [
        "course_name.split('S')"
      ]
    },
    {
      "cell_type": "code",
      "execution_count": null,
      "id": "3de0a6ca-5651-4ca4-9ed1-8564bbfc98a9",
      "metadata": {
        "id": "3de0a6ca-5651-4ca4-9ed1-8564bbfc98a9",
        "outputId": "772040a6-2c1c-4eec-df44-8171f46ea568"
      },
      "outputs": [
        {
          "data": {
            "text/plain": [
              "['Data Science Ma', 'ter', '']"
            ]
          },
          "execution_count": 216,
          "metadata": {},
          "output_type": "execute_result"
        }
      ],
      "source": [
        "course_name.split('s')"
      ]
    },
    {
      "cell_type": "code",
      "execution_count": null,
      "id": "b927ad1b-a034-4f93-8ce6-4020957b2f5c",
      "metadata": {
        "id": "b927ad1b-a034-4f93-8ce6-4020957b2f5c",
        "outputId": "0726c53a-c0a8-4bbe-83ea-50f9fa061d78"
      },
      "outputs": [
        {
          "data": {
            "text/plain": [
              "('Data Science Ma', 's', 'ters')"
            ]
          },
          "execution_count": 215,
          "metadata": {},
          "output_type": "execute_result"
        }
      ],
      "source": [
        "course_name.partition('s')"
      ]
    },
    {
      "cell_type": "code",
      "execution_count": null,
      "id": "167646c5-c071-4ae1-9c43-b3e144e668bf",
      "metadata": {
        "id": "167646c5-c071-4ae1-9c43-b3e144e668bf",
        "outputId": "f8f15f41-7793-4494-cd4f-a1c8a168030d"
      },
      "outputs": [
        {
          "data": {
            "text/plain": [
              "'DATA SCIENCE MASTERS'"
            ]
          },
          "execution_count": 217,
          "metadata": {},
          "output_type": "execute_result"
        }
      ],
      "source": [
        "## SString upper and lowercase\n",
        "course_name.upper()"
      ]
    },
    {
      "cell_type": "code",
      "execution_count": null,
      "id": "b16d77e5-6232-4ec4-94cc-c39cd6d388a3",
      "metadata": {
        "id": "b16d77e5-6232-4ec4-94cc-c39cd6d388a3",
        "outputId": "a171d601-baaa-469b-e488-8d8d14931116"
      },
      "outputs": [
        {
          "data": {
            "text/plain": [
              "'data science masters'"
            ]
          },
          "execution_count": 218,
          "metadata": {},
          "output_type": "execute_result"
        }
      ],
      "source": [
        "course_name.lower()"
      ]
    },
    {
      "cell_type": "code",
      "execution_count": null,
      "id": "9ebc066c-58bc-4cec-8283-2f7d73cf64c7",
      "metadata": {
        "id": "9ebc066c-58bc-4cec-8283-2f7d73cf64c7",
        "outputId": "36c93322-00d2-467e-91a1-026ac21cb088"
      },
      "outputs": [
        {
          "data": {
            "text/plain": [
              "'Data Science Masters'"
            ]
          },
          "execution_count": 219,
          "metadata": {},
          "output_type": "execute_result"
        }
      ],
      "source": [
        "course_name"
      ]
    },
    {
      "cell_type": "code",
      "execution_count": null,
      "id": "eaf83939-b58a-432c-a8e9-3214b9f7a0dd",
      "metadata": {
        "id": "eaf83939-b58a-432c-a8e9-3214b9f7a0dd",
        "outputId": "1a71ac99-8177-4b77-a07d-0f2f59b90c2e"
      },
      "outputs": [
        {
          "data": {
            "text/plain": [
              "'dATA sCIENCE mASTERS'"
            ]
          },
          "execution_count": 221,
          "metadata": {},
          "output_type": "execute_result"
        }
      ],
      "source": [
        "course_name.swapcase()"
      ]
    },
    {
      "cell_type": "code",
      "execution_count": null,
      "id": "15bae527-4570-4580-8aa7-f8ee21145529",
      "metadata": {
        "id": "15bae527-4570-4580-8aa7-f8ee21145529",
        "outputId": "04eb05c7-2c56-4e93-c300-e2f94cc9918c"
      },
      "outputs": [
        {
          "data": {
            "text/plain": [
              "'Data Science Masters'"
            ]
          },
          "execution_count": 222,
          "metadata": {},
          "output_type": "execute_result"
        }
      ],
      "source": [
        "course_name.title()"
      ]
    },
    {
      "cell_type": "code",
      "execution_count": null,
      "id": "78841045-562c-418a-a37a-a3fe877a2810",
      "metadata": {
        "id": "78841045-562c-418a-a37a-a3fe877a2810"
      },
      "outputs": [],
      "source": [
        "name=\"krish nbaik\""
      ]
    },
    {
      "cell_type": "code",
      "execution_count": null,
      "id": "a4610ea2-a6f9-4634-bbeb-cdd1cf109116",
      "metadata": {
        "id": "a4610ea2-a6f9-4634-bbeb-cdd1cf109116",
        "outputId": "4d53a903-0eee-424c-8c06-ab279208b852"
      },
      "outputs": [
        {
          "data": {
            "text/plain": [
              "'Krish Nbaik'"
            ]
          },
          "execution_count": 224,
          "metadata": {},
          "output_type": "execute_result"
        }
      ],
      "source": [
        "name.title()"
      ]
    },
    {
      "cell_type": "code",
      "execution_count": null,
      "id": "bc900f16-2795-4e8c-86b7-59f632f28122",
      "metadata": {
        "id": "bc900f16-2795-4e8c-86b7-59f632f28122",
        "outputId": "0a3e74b8-831e-4f77-edfb-4558008a5a5e"
      },
      "outputs": [
        {
          "data": {
            "text/plain": [
              "'-0b10'"
            ]
          },
          "execution_count": 252,
          "metadata": {},
          "output_type": "execute_result"
        }
      ],
      "source": [
        "bin(-2)"
      ]
    },
    {
      "cell_type": "code",
      "execution_count": null,
      "id": "7decf215-60bc-4170-a13a-18e5b42fc043",
      "metadata": {
        "id": "7decf215-60bc-4170-a13a-18e5b42fc043",
        "outputId": "e648c102-2099-4362-d050-6c48901cd750"
      },
      "outputs": [
        {
          "data": {
            "text/plain": [
              "20"
            ]
          },
          "execution_count": 253,
          "metadata": {},
          "output_type": "execute_result"
        }
      ],
      "source": [
        "len(course_name)"
      ]
    },
    {
      "cell_type": "code",
      "execution_count": null,
      "id": "4fc83c17-01b2-4fb9-a3bc-266327a9ba6c",
      "metadata": {
        "id": "4fc83c17-01b2-4fb9-a3bc-266327a9ba6c",
        "outputId": "283aa1a6-90c7-41dc-ee89-8e768100eab5"
      },
      "outputs": [
        {
          "data": {
            "text/plain": [
              "21"
            ]
          },
          "execution_count": 258,
          "metadata": {},
          "output_type": "execute_result"
        }
      ],
      "source": [
        "course_name.count('')"
      ]
    },
    {
      "cell_type": "code",
      "execution_count": null,
      "id": "ab613bff-e15a-4be4-a500-001de69a289e",
      "metadata": {
        "id": "ab613bff-e15a-4be4-a500-001de69a289e",
        "outputId": "37449d8e-ef89-4fda-d78f-7cab4802859a"
      },
      "outputs": [
        {
          "data": {
            "text/plain": [
              "''"
            ]
          },
          "execution_count": 266,
          "metadata": {},
          "output_type": "execute_result"
        }
      ],
      "source": [
        "course_name[-5:10]"
      ]
    },
    {
      "cell_type": "code",
      "execution_count": null,
      "id": "ae4751b9-88d1-47f1-aca2-feb299e33fcf",
      "metadata": {
        "id": "ae4751b9-88d1-47f1-aca2-feb299e33fcf",
        "outputId": "f0b32cc5-fe3d-47dc-810c-5c4ca079a8b1"
      },
      "outputs": [
        {
          "data": {
            "text/plain": [
              "'Data Science Masters'"
            ]
          },
          "execution_count": 262,
          "metadata": {},
          "output_type": "execute_result"
        }
      ],
      "source": [
        "course_name"
      ]
    },
    {
      "cell_type": "code",
      "execution_count": null,
      "id": "94200727-d973-4c38-957e-6da77e86017b",
      "metadata": {
        "id": "94200727-d973-4c38-957e-6da77e86017b",
        "outputId": "7f948453-2734-45f0-ffed-b571890c64d7"
      },
      "outputs": [
        {
          "name": "stdin",
          "output_type": "stream",
          "text": [
            "Enter the triangle Length: 9\n"
          ]
        },
        {
          "name": "stdout",
          "output_type": "stream",
          "text": [
            "         *\n",
            "        **\n",
            "       ****\n",
            "      ******\n",
            "     ********\n",
            "    **********\n",
            "   ************\n",
            "  **************\n",
            " ****************\n"
          ]
        }
      ],
      "source": [
        "## Assignments\n",
        "size = int(input(\"Enter the triangle Length:\"))\n",
        "for i in range(size):\n",
        "    for j in range(size-i):\n",
        "        print(\"\",end=\" \")\n",
        "    for k in range(i+1) :\n",
        "        print(\"*\",end=\"\")\n",
        "    for m in range(k-1):\n",
        "        print(\"*\", end=\"\")\n",
        "    print()\n"
      ]
    },
    {
      "cell_type": "code",
      "execution_count": null,
      "id": "304e81cc-7705-4c69-bd42-33db96c0975b",
      "metadata": {
        "id": "304e81cc-7705-4c69-bd42-33db96c0975b",
        "outputId": "a3797f6e-cfe1-4679-a3c9-38e6e4d1e0c3"
      },
      "outputs": [
        {
          "data": {
            "text/plain": [
              "1"
            ]
          },
          "execution_count": 269,
          "metadata": {},
          "output_type": "execute_result"
        }
      ],
      "source": [
        "course_name.upper()."
      ]
    },
    {
      "cell_type": "code",
      "execution_count": null,
      "id": "fda983fb-2493-4b08-bb3d-c6c16daf7a38",
      "metadata": {
        "id": "fda983fb-2493-4b08-bb3d-c6c16daf7a38",
        "outputId": "db494dcb-882b-4110-9b98-f160c28aab95"
      },
      "outputs": [
        {
          "name": "stdout",
          "output_type": "stream",
          "text": [
            "          *\n",
            "         ***\n",
            "        *****\n",
            "       *******\n",
            "      *********\n",
            "     ***********\n",
            "    *************\n",
            "   ***************\n",
            "  *****************\n",
            " *******************\n"
          ]
        }
      ],
      "source": [
        "## solution 2\n",
        "n = 10\n",
        "for i in range(n):\n",
        "    print(\" \"*(n-i),end='')\n",
        "    for j in range(i*2+1):\n",
        "        print(\"*\",end=\"\")\n",
        "    print()\n"
      ]
    },
    {
      "cell_type": "code",
      "execution_count": null,
      "id": "d9a15044-1702-41b7-a009-7a8aa719959e",
      "metadata": {
        "id": "d9a15044-1702-41b7-a009-7a8aa719959e",
        "outputId": "5cd818db-d4a6-441e-a9b7-ac0b9b1f9e3f"
      },
      "outputs": [
        {
          "data": {
            "text/plain": [
              "'Data Science Masters'"
            ]
          },
          "execution_count": 271,
          "metadata": {},
          "output_type": "execute_result"
        }
      ],
      "source": [
        "course_name"
      ]
    },
    {
      "cell_type": "code",
      "execution_count": null,
      "id": "b411a520-9005-4268-b8cd-c29381fbebb3",
      "metadata": {
        "id": "b411a520-9005-4268-b8cd-c29381fbebb3"
      },
      "outputs": [],
      "source": []
    },
    {
      "cell_type": "code",
      "execution_count": null,
      "id": "1e3283f5-68e6-43a4-ad4e-a0d0dec00c89",
      "metadata": {
        "id": "1e3283f5-68e6-43a4-ad4e-a0d0dec00c89"
      },
      "outputs": [],
      "source": []
    }
  ],
  "metadata": {
    "kernelspec": {
      "display_name": "Python 3 (ipykernel)",
      "language": "python",
      "name": "python3"
    },
    "language_info": {
      "codemirror_mode": {
        "name": "ipython",
        "version": 3
      },
      "file_extension": ".py",
      "mimetype": "text/x-python",
      "name": "python",
      "nbconvert_exporter": "python",
      "pygments_lexer": "ipython3",
      "version": "3.10.8"
    },
    "colab": {
      "provenance": []
    }
  },
  "nbformat": 4,
  "nbformat_minor": 5
}