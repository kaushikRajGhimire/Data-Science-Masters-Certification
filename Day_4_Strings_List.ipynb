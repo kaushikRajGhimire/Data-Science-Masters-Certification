{
  "cells": [
    {
      "cell_type": "markdown",
      "metadata": {
        "id": "view-in-github",
        "colab_type": "text"
      },
      "source": [
        "<a href=\"https://colab.research.google.com/github/kaushikRajGhimire/Data-Science-Masters-Certification/blob/main/Day_4_Strings_List.ipynb\" target=\"_parent\"><img src=\"https://colab.research.google.com/assets/colab-badge.svg\" alt=\"Open In Colab\"/></a>"
      ]
    },
    {
      "cell_type": "code",
      "execution_count": null,
      "id": "caa311d1-f504-4e9e-9947-82156e9d9244",
      "metadata": {
        "id": "caa311d1-f504-4e9e-9947-82156e9d9244"
      },
      "outputs": [],
      "source": [
        "name=\"Data science Masters\""
      ]
    },
    {
      "cell_type": "code",
      "execution_count": null,
      "id": "83f4d6bb-0e46-4db1-8dcc-e52e7f547b0d",
      "metadata": {
        "id": "83f4d6bb-0e46-4db1-8dcc-e52e7f547b0d",
        "outputId": "8ed0636a-b22c-4692-c929-e1518b89fda5"
      },
      "outputs": [
        {
          "data": {
            "text/plain": [
              "'dATA SCIENCE mASTERS'"
            ]
          },
          "execution_count": 3,
          "metadata": {},
          "output_type": "execute_result"
        }
      ],
      "source": [
        "name.swapcase()"
      ]
    },
    {
      "cell_type": "code",
      "execution_count": null,
      "id": "24e25ad5-0c75-47c5-a61f-ff066f072b73",
      "metadata": {
        "id": "24e25ad5-0c75-47c5-a61f-ff066f072b73",
        "outputId": "124df719-e412-42f2-bed4-3e1aa4475413"
      },
      "outputs": [
        {
          "data": {
            "text/plain": [
              "'Data Science Masters'"
            ]
          },
          "execution_count": 4,
          "metadata": {},
          "output_type": "execute_result"
        }
      ],
      "source": [
        "name.title()"
      ]
    },
    {
      "cell_type": "code",
      "execution_count": null,
      "id": "9cbdc3d4-1c8a-4f60-9154-d888ccf659eb",
      "metadata": {
        "id": "9cbdc3d4-1c8a-4f60-9154-d888ccf659eb",
        "outputId": "595366c7-5986-451e-b7cd-00a3ed8ede94"
      },
      "outputs": [
        {
          "data": {
            "text/plain": [
              "'Data science masters'"
            ]
          },
          "execution_count": 6,
          "metadata": {},
          "output_type": "execute_result"
        }
      ],
      "source": [
        "name.capitalize()"
      ]
    },
    {
      "cell_type": "markdown",
      "id": "6b2b9705-999f-4abf-b9a7-9c0de5ab6d87",
      "metadata": {
        "id": "6b2b9705-999f-4abf-b9a7-9c0de5ab6d87"
      },
      "source": [
        "## Reversing a String"
      ]
    },
    {
      "cell_type": "code",
      "execution_count": null,
      "id": "b7cba88f-804e-4fb8-969b-d074af168af6",
      "metadata": {
        "id": "b7cba88f-804e-4fb8-969b-d074af168af6",
        "outputId": "e94c18b5-1ba5-40a7-dc1e-319870bec51f"
      },
      "outputs": [
        {
          "data": {
            "text/plain": [
              "'sretsaM ecneics ataD'"
            ]
          },
          "execution_count": 7,
          "metadata": {},
          "output_type": "execute_result"
        }
      ],
      "source": [
        "name[::-1]"
      ]
    },
    {
      "cell_type": "code",
      "execution_count": null,
      "id": "0f2a87ef-4fda-402a-9511-035ee301ded8",
      "metadata": {
        "id": "0f2a87ef-4fda-402a-9511-035ee301ded8",
        "outputId": "1c7466f7-b4ec-40d2-97c2-9ec98197ba3a"
      },
      "outputs": [
        {
          "data": {
            "text/plain": [
              "'s r e t s a M   e c n e i c s   a t a D'"
            ]
          },
          "execution_count": 10,
          "metadata": {},
          "output_type": "execute_result"
        }
      ],
      "source": [
        "' '.join(reversed(name))"
      ]
    },
    {
      "cell_type": "code",
      "execution_count": null,
      "id": "0228a3fa-c866-40a2-8a84-96e8c905993d",
      "metadata": {
        "id": "0228a3fa-c866-40a2-8a84-96e8c905993d",
        "outputId": "4e737d1d-5b24-4b16-803b-dc08f98e762c"
      },
      "outputs": [
        {
          "data": {
            "text/plain": [
              "'a b c d'"
            ]
          },
          "execution_count": 14,
          "metadata": {},
          "output_type": "execute_result"
        }
      ],
      "source": [
        "\" \".join(\"abcd\")"
      ]
    },
    {
      "cell_type": "code",
      "execution_count": null,
      "id": "75ffa268-d723-420b-9dc9-31b01d78fe42",
      "metadata": {
        "id": "75ffa268-d723-420b-9dc9-31b01d78fe42",
        "outputId": "891f6e0d-4d4f-44d4-e5bd-bf3688ed63a1"
      },
      "outputs": [
        {
          "data": {
            "text/plain": [
              "'tna'"
            ]
          },
          "execution_count": 17,
          "metadata": {},
          "output_type": "execute_result"
        }
      ],
      "source": [
        "' '.join(reversed(\"ant\"))"
      ]
    },
    {
      "cell_type": "code",
      "execution_count": null,
      "id": "66a06ae5-4cfd-4255-8ec0-08dd4359a4e0",
      "metadata": {
        "id": "66a06ae5-4cfd-4255-8ec0-08dd4359a4e0",
        "outputId": "6284b71a-4e55-40f2-910a-3d29417ed656"
      },
      "outputs": [
        {
          "data": {
            "text/plain": [
              "'t Pwskills n Pwskills a'"
            ]
          },
          "execution_count": 18,
          "metadata": {},
          "output_type": "execute_result"
        }
      ],
      "source": [
        "' Pwskills '.join(reversed(\"ant\"))"
      ]
    },
    {
      "cell_type": "code",
      "execution_count": null,
      "id": "24dd5fee-d069-485d-8fac-26b232fb5a38",
      "metadata": {
        "id": "24dd5fee-d069-485d-8fac-26b232fb5a38",
        "outputId": "d671d45c-ff4c-49b1-dfae-c71a77a8088d"
      },
      "outputs": [
        {
          "data": {
            "text/plain": [
              "['t', 'n', 'a']"
            ]
          },
          "execution_count": 22,
          "metadata": {},
          "output_type": "execute_result"
        }
      ],
      "source": [
        "## typecasting\n",
        "list(reversed(\"ant\"))"
      ]
    },
    {
      "cell_type": "code",
      "execution_count": null,
      "id": "efc6c9e7-0e12-4c6b-87b5-0bd2e815454c",
      "metadata": {
        "id": "efc6c9e7-0e12-4c6b-87b5-0bd2e815454c"
      },
      "outputs": [],
      "source": [
        "str1=\"PW is a good company\""
      ]
    },
    {
      "cell_type": "code",
      "execution_count": null,
      "id": "1a6b0343-c0f0-4901-8030-55a421463cd5",
      "metadata": {
        "id": "1a6b0343-c0f0-4901-8030-55a421463cd5"
      },
      "outputs": [],
      "source": [
        "reversed()"
      ]
    },
    {
      "cell_type": "code",
      "execution_count": null,
      "id": "acf981d5-cf92-4fd6-b9e0-61e5026000ac",
      "metadata": {
        "id": "acf981d5-cf92-4fd6-b9e0-61e5026000ac",
        "outputId": "95dbd3db-0a37-41ad-9549-f669df8f8a5e"
      },
      "outputs": [
        {
          "data": {
            "text/plain": [
              "['t', 'n', 'a']"
            ]
          },
          "execution_count": 25,
          "metadata": {},
          "output_type": "execute_result"
        }
      ],
      "source": [
        "## typecasting\n",
        "list(reversed(\"ant\"))"
      ]
    },
    {
      "cell_type": "code",
      "execution_count": null,
      "id": "bc219a40-680b-4ac8-b566-04f5c2442493",
      "metadata": {
        "id": "bc219a40-680b-4ac8-b566-04f5c2442493",
        "outputId": "863bfe21-441f-4a0f-eb02-65083efaa417"
      },
      "outputs": [
        {
          "name": "stdout",
          "output_type": "stream",
          "text": [
            "sretsaM ecneics ataD"
          ]
        }
      ],
      "source": [
        "for i in list(reversed(name)):\n",
        "    print(i,end='')\n"
      ]
    },
    {
      "cell_type": "code",
      "execution_count": null,
      "id": "03a29a7f-352e-49f5-a696-24220fd51aee",
      "metadata": {
        "id": "03a29a7f-352e-49f5-a696-24220fd51aee"
      },
      "outputs": [],
      "source": [
        "## Removing character from the end of the string"
      ]
    },
    {
      "cell_type": "code",
      "execution_count": null,
      "id": "703cb830-8b53-4577-b36d-b22c142dfae8",
      "metadata": {
        "id": "703cb830-8b53-4577-b36d-b22c142dfae8"
      },
      "outputs": [],
      "source": [
        "string_a=\" pwskills \""
      ]
    },
    {
      "cell_type": "code",
      "execution_count": null,
      "id": "204f42cf-9181-4acf-a406-f536d89adf27",
      "metadata": {
        "id": "204f42cf-9181-4acf-a406-f536d89adf27",
        "outputId": "cc501b00-2c17-4c54-f6af-da7f62a3a3a3"
      },
      "outputs": [
        {
          "data": {
            "text/plain": [
              "'pwskills'"
            ]
          },
          "execution_count": 30,
          "metadata": {},
          "output_type": "execute_result"
        }
      ],
      "source": [
        "string_a.strip(\" \")"
      ]
    },
    {
      "cell_type": "code",
      "execution_count": null,
      "id": "1281312d-c012-4459-b118-41841157f762",
      "metadata": {
        "id": "1281312d-c012-4459-b118-41841157f762",
        "outputId": "c5a9e7c6-af44-4cf3-9b44-3f1a18d2bf39"
      },
      "outputs": [
        {
          "data": {
            "text/plain": [
              "'pwskills '"
            ]
          },
          "execution_count": 31,
          "metadata": {},
          "output_type": "execute_result"
        }
      ],
      "source": [
        "string_a.lstrip(\" \")"
      ]
    },
    {
      "cell_type": "code",
      "execution_count": null,
      "id": "2b971109-46b5-497c-b5f2-4a1c3cfb599d",
      "metadata": {
        "id": "2b971109-46b5-497c-b5f2-4a1c3cfb599d",
        "outputId": "084ffd98-c371-4d23-8d0e-163ae7efbcf6"
      },
      "outputs": [
        {
          "data": {
            "text/plain": [
              "' pwskills'"
            ]
          },
          "execution_count": 32,
          "metadata": {},
          "output_type": "execute_result"
        }
      ],
      "source": [
        "string_a.rstrip(\" \")"
      ]
    },
    {
      "cell_type": "code",
      "execution_count": null,
      "id": "5c11eeae-6c5a-422b-8afd-520250e70754",
      "metadata": {
        "id": "5c11eeae-6c5a-422b-8afd-520250e70754",
        "outputId": "5e62a9d4-8ee8-4594-b826-509c70967175"
      },
      "outputs": [
        {
          "data": {
            "text/plain": [
              "'Welcome to Pwskills'"
            ]
          },
          "execution_count": 37,
          "metadata": {},
          "output_type": "execute_result"
        }
      ],
      "source": [
        "string_n=\"Greeting to Pwskills\"\n",
        "string_n.replace(\"Greeting\",\"Welcome\")"
      ]
    },
    {
      "cell_type": "code",
      "execution_count": null,
      "id": "fa7a6df4-886c-4fe1-9df4-4393acc0a3a7",
      "metadata": {
        "id": "fa7a6df4-886c-4fe1-9df4-4393acc0a3a7"
      },
      "outputs": [],
      "source": [
        "name=\"Krish\""
      ]
    },
    {
      "cell_type": "code",
      "execution_count": null,
      "id": "d1004bba-d3f3-4554-b406-f54647aa67d1",
      "metadata": {
        "id": "d1004bba-d3f3-4554-b406-f54647aa67d1"
      },
      "outputs": [],
      "source": [
        "name=\"pwskills\""
      ]
    },
    {
      "cell_type": "code",
      "execution_count": null,
      "id": "fdb96191-9479-43cb-aac4-b0daaa628b60",
      "metadata": {
        "id": "fdb96191-9479-43cb-aac4-b0daaa628b60",
        "outputId": "92e73b28-5497-4cd3-d5a1-a51efe33c4a0"
      },
      "outputs": [
        {
          "ename": "TypeError",
          "evalue": "'str' object does not support item assignment",
          "output_type": "error",
          "traceback": [
            "\u001b[0;31m---------------------------------------------------------------------------\u001b[0m",
            "\u001b[0;31mTypeError\u001b[0m                                 Traceback (most recent call last)",
            "Cell \u001b[0;32mIn[36], line 1\u001b[0m\n\u001b[0;32m----> 1\u001b[0m \u001b[43mname\u001b[49m\u001b[43m[\u001b[49m\u001b[38;5;241;43m0\u001b[39;49m\u001b[43m]\u001b[49m\u001b[38;5;241m=\u001b[39m\u001b[38;5;124m\"\u001b[39m\u001b[38;5;124mk\u001b[39m\u001b[38;5;124m\"\u001b[39m\n",
            "\u001b[0;31mTypeError\u001b[0m: 'str' object does not support item assignment"
          ]
        }
      ],
      "source": [
        "name[0]=\"k\""
      ]
    },
    {
      "cell_type": "code",
      "execution_count": null,
      "id": "06337072-7e86-42a8-afe4-2aae97865ff8",
      "metadata": {
        "id": "06337072-7e86-42a8-afe4-2aae97865ff8"
      },
      "outputs": [],
      "source": [
        "string_n=\"Greeting to Pwskills\"\n",
        "var_a=string_n.replace(\"G\",\"T\")"
      ]
    },
    {
      "cell_type": "code",
      "execution_count": null,
      "id": "9453e506-abb2-40d4-890f-1c5a30cfead1",
      "metadata": {
        "id": "9453e506-abb2-40d4-890f-1c5a30cfead1",
        "outputId": "4d819e49-5903-4567-a3cb-44b67a9a1fdf"
      },
      "outputs": [
        {
          "name": "stdout",
          "output_type": "stream",
          "text": [
            "140496513531328\n",
            "140496507478592\n"
          ]
        }
      ],
      "source": [
        "print(id(string_n))\n",
        "print(id(var_a))"
      ]
    },
    {
      "cell_type": "code",
      "execution_count": null,
      "id": "015f352e-67c8-48f3-a28e-c3dafe744286",
      "metadata": {
        "id": "015f352e-67c8-48f3-a28e-c3dafe744286",
        "outputId": "ee2ee4f9-9950-42c5-f446-fa9c151ff481"
      },
      "outputs": [
        {
          "data": {
            "text/plain": [
              "'hello world'"
            ]
          },
          "execution_count": 41,
          "metadata": {},
          "output_type": "execute_result"
        }
      ],
      "source": [
        "'hello world'"
      ]
    },
    {
      "cell_type": "code",
      "execution_count": null,
      "id": "8e8d250f-3bb1-401c-ad99-03995235a8ea",
      "metadata": {
        "id": "8e8d250f-3bb1-401c-ad99-03995235a8ea",
        "outputId": "d921a1fc-1d86-4cfd-adc4-eecf9e111425"
      },
      "outputs": [
        {
          "data": {
            "text/plain": [
              "'test gmail.com'"
            ]
          },
          "execution_count": 42,
          "metadata": {},
          "output_type": "execute_result"
        }
      ],
      "source": [
        "string_n=\"test@gmail.com\"\n",
        "var_a=string_n.replace(\"@\",\" \")\n",
        "var_a"
      ]
    },
    {
      "cell_type": "code",
      "execution_count": null,
      "id": "1fc572e4-b63c-47f4-b096-28091af4c69a",
      "metadata": {
        "id": "1fc572e4-b63c-47f4-b096-28091af4c69a",
        "outputId": "32d5dc6a-71bb-46aa-c40d-25d0a549e310"
      },
      "outputs": [
        {
          "data": {
            "text/plain": [
              "'hello   world'"
            ]
          },
          "execution_count": 46,
          "metadata": {},
          "output_type": "execute_result"
        }
      ],
      "source": [
        "'hello \\tworld'.expandtabs()"
      ]
    },
    {
      "cell_type": "code",
      "execution_count": null,
      "id": "7209b6f0-e91b-4027-8836-52767c2cc024",
      "metadata": {
        "id": "7209b6f0-e91b-4027-8836-52767c2cc024"
      },
      "outputs": [],
      "source": [
        "str1=\"Welcome to pwskills.Welcome to Dat cience Masters\""
      ]
    },
    {
      "cell_type": "code",
      "execution_count": null,
      "id": "e209c201-1db4-43de-a147-cb2eeaff9dc0",
      "metadata": {
        "id": "e209c201-1db4-43de-a147-cb2eeaff9dc0",
        "outputId": "74eedb76-db6a-452a-b390-fea62611ad76"
      },
      "outputs": [
        {
          "data": {
            "text/plain": [
              "'Welcome to pwskills.Welcome to Data Science Masters'"
            ]
          },
          "execution_count": 49,
          "metadata": {},
          "output_type": "execute_result"
        }
      ],
      "source": [
        "str1.replace(\"Dat\",\"Data\").replace(\"cience\",\"Science\")"
      ]
    },
    {
      "cell_type": "code",
      "execution_count": null,
      "id": "d539fe69-8b87-4289-830c-524fec6c80e2",
      "metadata": {
        "id": "d539fe69-8b87-4289-830c-524fec6c80e2",
        "outputId": "3e79ace1-6bf8-41c7-dd5c-d2e6b3187409"
      },
      "outputs": [
        {
          "data": {
            "text/plain": [
              "'Welcome to pwskills.Welcome to Dat cience Masters'"
            ]
          },
          "execution_count": 51,
          "metadata": {},
          "output_type": "execute_result"
        }
      ],
      "source": [
        "str1"
      ]
    },
    {
      "cell_type": "code",
      "execution_count": null,
      "id": "63abe93f-3b7d-4ba0-83e8-4765df712b9e",
      "metadata": {
        "id": "63abe93f-3b7d-4ba0-83e8-4765df712b9e",
        "outputId": "3331ee37-8d27-4b32-8fdc-d7f7099b78d6"
      },
      "outputs": [
        {
          "data": {
            "text/plain": [
              "False"
            ]
          },
          "execution_count": 52,
          "metadata": {},
          "output_type": "execute_result"
        }
      ],
      "source": [
        "str1.isupper()"
      ]
    },
    {
      "cell_type": "code",
      "execution_count": null,
      "id": "257bbed0-3489-4d88-b5c1-4fbf33c315c9",
      "metadata": {
        "id": "257bbed0-3489-4d88-b5c1-4fbf33c315c9"
      },
      "outputs": [],
      "source": [
        "str1=\"KRISH\""
      ]
    },
    {
      "cell_type": "code",
      "execution_count": null,
      "id": "4b568c89-804b-4960-bdda-ae631e294aaf",
      "metadata": {
        "id": "4b568c89-804b-4960-bdda-ae631e294aaf",
        "outputId": "80897aa3-1c6c-4c9f-e9d9-da17b577cf7e"
      },
      "outputs": [
        {
          "data": {
            "text/plain": [
              "True"
            ]
          },
          "execution_count": 54,
          "metadata": {},
          "output_type": "execute_result"
        }
      ],
      "source": [
        "str1.isupper()"
      ]
    },
    {
      "cell_type": "code",
      "execution_count": null,
      "id": "97a64c1c-500c-4616-836f-b3c38f33882f",
      "metadata": {
        "id": "97a64c1c-500c-4616-836f-b3c38f33882f",
        "outputId": "04935b62-bb55-4566-e3fb-ce69da7e8a26"
      },
      "outputs": [
        {
          "data": {
            "text/plain": [
              "False"
            ]
          },
          "execution_count": 55,
          "metadata": {},
          "output_type": "execute_result"
        }
      ],
      "source": [
        "str1.islower()"
      ]
    },
    {
      "cell_type": "code",
      "execution_count": null,
      "id": "f4f6f985-6a8a-4400-8964-c8c7a6fc4a46",
      "metadata": {
        "id": "f4f6f985-6a8a-4400-8964-c8c7a6fc4a46",
        "outputId": "df0e7eea-36c5-481e-f113-56e68fe1652d"
      },
      "outputs": [
        {
          "data": {
            "text/plain": [
              "True"
            ]
          },
          "execution_count": 57,
          "metadata": {},
          "output_type": "execute_result"
        }
      ],
      "source": [
        "' '.isspace()"
      ]
    },
    {
      "cell_type": "code",
      "execution_count": null,
      "id": "e6275e5a-2486-4a66-9e2c-b1aff8a294bc",
      "metadata": {
        "id": "e6275e5a-2486-4a66-9e2c-b1aff8a294bc",
        "outputId": "75fdab9c-184a-44bc-87f0-e501f2e120de"
      },
      "outputs": [
        {
          "name": "stdout",
          "output_type": "stream",
          "text": [
            "Hello\n"
          ]
        }
      ],
      "source": [
        "if \" \".isspace():\n",
        "    print(\"Hello\")"
      ]
    },
    {
      "cell_type": "code",
      "execution_count": null,
      "id": "77126e9f-dadb-4072-add6-56a93f50b9af",
      "metadata": {
        "id": "77126e9f-dadb-4072-add6-56a93f50b9af"
      },
      "outputs": [],
      "source": [
        "str2=\"pwskills\""
      ]
    },
    {
      "cell_type": "code",
      "execution_count": null,
      "id": "b35c91fa-23b3-4760-9ca9-82302ce37635",
      "metadata": {
        "id": "b35c91fa-23b3-4760-9ca9-82302ce37635",
        "outputId": "93dcdbeb-acb9-4bf0-c1db-af48debfcf9d"
      },
      "outputs": [
        {
          "data": {
            "text/plain": [
              "True"
            ]
          },
          "execution_count": 60,
          "metadata": {},
          "output_type": "execute_result"
        }
      ],
      "source": [
        "str2.endswith('s')"
      ]
    },
    {
      "cell_type": "code",
      "execution_count": null,
      "id": "73838707-4eaf-4a2d-8faa-80ec4b86e957",
      "metadata": {
        "id": "73838707-4eaf-4a2d-8faa-80ec4b86e957",
        "outputId": "1cad329f-a416-48cb-e33c-4cabbda0fcca"
      },
      "outputs": [
        {
          "data": {
            "text/plain": [
              "True"
            ]
          },
          "execution_count": 61,
          "metadata": {},
          "output_type": "execute_result"
        }
      ],
      "source": [
        "str2.startswith('p')"
      ]
    },
    {
      "cell_type": "code",
      "execution_count": null,
      "id": "624435ae-fb7b-4f14-8132-89c9ccaaec4b",
      "metadata": {
        "id": "624435ae-fb7b-4f14-8132-89c9ccaaec4b",
        "outputId": "e67d2d19-e38d-4ca6-e284-50c3d0b7b1fd"
      },
      "outputs": [
        {
          "data": {
            "text/plain": [
              "True"
            ]
          },
          "execution_count": 62,
          "metadata": {},
          "output_type": "execute_result"
        }
      ],
      "source": [
        "## check if all the char in string are alphanumeric\n",
        "a=\"abcd1234\"\n",
        "a.isalnum()"
      ]
    },
    {
      "cell_type": "code",
      "execution_count": null,
      "id": "29f7f16e-25a2-4ddd-9e25-1c964be1e606",
      "metadata": {
        "id": "29f7f16e-25a2-4ddd-9e25-1c964be1e606"
      },
      "outputs": [],
      "source": [
        "## to count the number of character in the strings"
      ]
    },
    {
      "cell_type": "code",
      "execution_count": null,
      "id": "8e978e67-40ad-496d-bf4f-3802741c3af5",
      "metadata": {
        "id": "8e978e67-40ad-496d-bf4f-3802741c3af5",
        "outputId": "fb0adfe9-36cd-48ec-ac4d-aa6ea04420ff"
      },
      "outputs": [
        {
          "name": "stdout",
          "output_type": "stream",
          "text": [
            "8\n"
          ]
        }
      ],
      "source": [
        "count=0\n",
        "for i in str2:\n",
        "    count=count+1\n",
        "\n",
        "print(count)"
      ]
    },
    {
      "cell_type": "code",
      "execution_count": null,
      "id": "3a648f2a-fbbf-4db7-b46b-c2d641b66a34",
      "metadata": {
        "id": "3a648f2a-fbbf-4db7-b46b-c2d641b66a34",
        "outputId": "3f22e630-49b2-4ce4-8081-0040aa1a1cab"
      },
      "outputs": [
        {
          "data": {
            "text/plain": [
              "8"
            ]
          },
          "execution_count": 65,
          "metadata": {},
          "output_type": "execute_result"
        }
      ],
      "source": [
        "len(str2)"
      ]
    },
    {
      "cell_type": "code",
      "execution_count": null,
      "id": "2b7bc49d-a4c8-41dd-84b5-0b680267902b",
      "metadata": {
        "id": "2b7bc49d-a4c8-41dd-84b5-0b680267902b",
        "outputId": "02a1031a-2f16-4b2f-88b9-91fc6d87c950"
      },
      "outputs": [
        {
          "data": {
            "text/plain": [
              "'pwskills'"
            ]
          },
          "execution_count": 66,
          "metadata": {},
          "output_type": "execute_result"
        }
      ],
      "source": [
        "str2"
      ]
    },
    {
      "cell_type": "code",
      "execution_count": null,
      "id": "47ee2c70-9747-4dae-bbcc-8f3ac58c9a4f",
      "metadata": {
        "id": "47ee2c70-9747-4dae-bbcc-8f3ac58c9a4f",
        "outputId": "b0895e7c-2c3b-4683-96fe-10ffa72d0b96"
      },
      "outputs": [
        {
          "name": "stdout",
          "output_type": "stream",
          "text": [
            "p\n",
            "w\n",
            "s\n",
            "k\n",
            "i\n",
            "l\n",
            "l\n",
            "s\n"
          ]
        }
      ],
      "source": [
        "for i in str2:\n",
        "    print(i)"
      ]
    },
    {
      "cell_type": "code",
      "execution_count": null,
      "id": "459c3d34-8d7d-4203-a7c8-a8a951844d57",
      "metadata": {
        "id": "459c3d34-8d7d-4203-a7c8-a8a951844d57",
        "outputId": "2728b354-ca2e-4e37-e6b3-5e27d04690a0"
      },
      "outputs": [
        {
          "data": {
            "text/plain": [
              "range(0, 8)"
            ]
          },
          "execution_count": 69,
          "metadata": {},
          "output_type": "execute_result"
        }
      ],
      "source": [
        "range(len(str2))"
      ]
    },
    {
      "cell_type": "code",
      "execution_count": null,
      "id": "3ff9c489-09e9-4e56-b81a-159022d36bca",
      "metadata": {
        "id": "3ff9c489-09e9-4e56-b81a-159022d36bca",
        "outputId": "b17c955e-50c5-4b95-9b4d-086bdf2dc669"
      },
      "outputs": [
        {
          "name": "stdout",
          "output_type": "stream",
          "text": [
            "0 = p\n",
            "1 = w\n",
            "2 = s\n",
            "3 = k\n",
            "4 = i\n",
            "5 = l\n",
            "6 = l\n",
            "7 = s\n"
          ]
        }
      ],
      "source": [
        "for i in range(len(str2)):\n",
        "    print(i,\"=\",str2[i])"
      ]
    },
    {
      "cell_type": "code",
      "execution_count": null,
      "id": "5986e51f-1c78-4f08-8dcf-3043b9da2e08",
      "metadata": {
        "id": "5986e51f-1c78-4f08-8dcf-3043b9da2e08"
      },
      "outputs": [],
      "source": [
        "# We can use index to iterate string reverse direction"
      ]
    },
    {
      "cell_type": "code",
      "execution_count": null,
      "id": "b2e0b9a1-036b-4138-94d4-82d0042fb64a",
      "metadata": {
        "id": "b2e0b9a1-036b-4138-94d4-82d0042fb64a",
        "outputId": "d45ebf38-1934-46bc-81c7-df9ce794993c"
      },
      "outputs": [
        {
          "data": {
            "text/plain": [
              "7"
            ]
          },
          "execution_count": 73,
          "metadata": {},
          "output_type": "execute_result"
        }
      ],
      "source": [
        "len(str2)-1"
      ]
    },
    {
      "cell_type": "code",
      "execution_count": null,
      "id": "47d3e009-4213-4c8c-bd3d-4ba6fc1a209b",
      "metadata": {
        "id": "47d3e009-4213-4c8c-bd3d-4ba6fc1a209b",
        "outputId": "96efd7d9-304a-4a38-e585-bbe64f0ebfc4"
      },
      "outputs": [
        {
          "name": "stdout",
          "output_type": "stream",
          "text": [
            "s\n",
            "l\n",
            "l\n",
            "i\n",
            "k\n",
            "s\n",
            "w\n",
            "p\n"
          ]
        }
      ],
      "source": [
        "for i in range(len(str2)-1,-1,-1):\n",
        "    print(str2[i])\n"
      ]
    },
    {
      "cell_type": "code",
      "execution_count": null,
      "id": "37fa5f0c-fae6-4b84-acc3-47c0031e2ea3",
      "metadata": {
        "id": "37fa5f0c-fae6-4b84-acc3-47c0031e2ea3",
        "outputId": "50536f2c-0526-48d6-a908-e5411015928c"
      },
      "outputs": [
        {
          "data": {
            "text/plain": [
              "7"
            ]
          },
          "execution_count": 77,
          "metadata": {},
          "output_type": "execute_result"
        }
      ],
      "source": [
        "string=\"pwskills\"\n",
        "ch=len(string)-1\n",
        "ch"
      ]
    },
    {
      "cell_type": "code",
      "execution_count": null,
      "id": "06e319d4-1640-4179-94be-3dc7b72bca6d",
      "metadata": {
        "id": "06e319d4-1640-4179-94be-3dc7b72bca6d",
        "outputId": "37550121-8292-40e9-bf16-94a55d259d91"
      },
      "outputs": [
        {
          "data": {
            "text/plain": [
              "('s', 'l', 'l')"
            ]
          },
          "execution_count": 80,
          "metadata": {},
          "output_type": "execute_result"
        }
      ],
      "source": [
        "string[7],string[6],string[5]"
      ]
    },
    {
      "cell_type": "code",
      "execution_count": null,
      "id": "23e15c57-3cc7-4a65-a88c-1cf30fe675f7",
      "metadata": {
        "id": "23e15c57-3cc7-4a65-a88c-1cf30fe675f7",
        "outputId": "83503cea-e756-48b2-c50c-cb92ae7cea9d"
      },
      "outputs": [
        {
          "data": {
            "text/plain": [
              "7"
            ]
          },
          "execution_count": 75,
          "metadata": {},
          "output_type": "execute_result"
        }
      ],
      "source": [
        "while ch>=0:\n",
        "    print(string[ch])\n",
        "    ch=ch-1"
      ]
    },
    {
      "cell_type": "code",
      "execution_count": null,
      "id": "c1164220-684f-4e54-a761-be49eefbb20c",
      "metadata": {
        "id": "c1164220-684f-4e54-a761-be49eefbb20c",
        "outputId": "ee2ba831-9c42-471b-f78d-e7de2bbcea44"
      },
      "outputs": [
        {
          "name": "stdout",
          "output_type": "stream",
          "text": [
            "sllikswp"
          ]
        }
      ],
      "source": [
        "#Best solution\n",
        "for i in range(len(string)):\n",
        "     print(string[len(string) - (i+1)],end=\"\")\n"
      ]
    },
    {
      "cell_type": "code",
      "execution_count": null,
      "id": "395e4c35-fb43-4cf0-a403-b197c9692533",
      "metadata": {
        "id": "395e4c35-fb43-4cf0-a403-b197c9692533"
      },
      "outputs": [],
      "source": [
        "Name = \"pwskills\"\n",
        "vowels = \"AaEeIiOoUu\""
      ]
    },
    {
      "cell_type": "code",
      "execution_count": null,
      "id": "97261d1b-1bac-444d-889e-476171e76b91",
      "metadata": {
        "id": "97261d1b-1bac-444d-889e-476171e76b91",
        "outputId": "000dfa20-f8cb-4cc0-dfa5-20f7514c6537"
      },
      "outputs": [
        {
          "name": "stdout",
          "output_type": "stream",
          "text": [
            "p is not a vowel\n",
            "w is not a vowel\n",
            "s is not a vowel\n",
            "k is not a vowel\n",
            "i is a vowel\n",
            "l is not a vowel\n",
            "l is not a vowel\n",
            "s is not a vowel\n"
          ]
        }
      ],
      "source": [
        "for ch in Name:\n",
        "    if ch in vowels:\n",
        "        print(\"{} is a vowel\".format(ch))\n",
        "    else:\n",
        "        print(\"{} is not a vowel\".format(ch))"
      ]
    },
    {
      "cell_type": "markdown",
      "id": "5d9c75ff-73f2-4e88-95ac-d2724aabee29",
      "metadata": {
        "id": "5d9c75ff-73f2-4e88-95ac-d2724aabee29"
      },
      "source": [
        "## List"
      ]
    },
    {
      "cell_type": "code",
      "execution_count": null,
      "id": "34ea23f1-ee07-4262-b096-ed4e1a153ce8",
      "metadata": {
        "id": "34ea23f1-ee07-4262-b096-ed4e1a153ce8",
        "outputId": "206cf531-692a-48a9-ce25-beb944caa20d"
      },
      "outputs": [
        {
          "data": {
            "text/plain": [
              "list"
            ]
          },
          "execution_count": 89,
          "metadata": {},
          "output_type": "execute_result"
        }
      ],
      "source": [
        "type([])"
      ]
    },
    {
      "cell_type": "code",
      "execution_count": null,
      "id": "1e1f832c-f3f0-40c0-947a-70aa9e76904b",
      "metadata": {
        "id": "1e1f832c-f3f0-40c0-947a-70aa9e76904b",
        "outputId": "9a02436a-8dae-4ac3-941e-b59513ae30c4"
      },
      "outputs": [
        {
          "data": {
            "text/plain": [
              "['Krish', 'Naik', 'Pwskills', 32]"
            ]
          },
          "execution_count": 90,
          "metadata": {},
          "output_type": "execute_result"
        }
      ],
      "source": [
        "[\"Krish\",\"Naik\",\"Pwskills\",32]"
      ]
    },
    {
      "cell_type": "code",
      "execution_count": null,
      "id": "9436cb77-e161-4046-9d42-a0a291408e91",
      "metadata": {
        "id": "9436cb77-e161-4046-9d42-a0a291408e91",
        "outputId": "762d2e1a-4bb0-4a77-9c74-02abd105a021"
      },
      "outputs": [
        {
          "data": {
            "text/plain": [
              "[1, 2, 3, 4, 5]"
            ]
          },
          "execution_count": 91,
          "metadata": {},
          "output_type": "execute_result"
        }
      ],
      "source": [
        "list([1,2,3,4,5])"
      ]
    },
    {
      "cell_type": "code",
      "execution_count": null,
      "id": "396162c6-d896-4e58-84ce-33ff9c750e2d",
      "metadata": {
        "id": "396162c6-d896-4e58-84ce-33ff9c750e2d",
        "outputId": "d2044db3-53c8-4e7c-b5ee-e42662a08810"
      },
      "outputs": [
        {
          "data": {
            "text/plain": [
              "'pwskills'"
            ]
          },
          "execution_count": 93,
          "metadata": {},
          "output_type": "execute_result"
        }
      ],
      "source": [
        "str2"
      ]
    },
    {
      "cell_type": "code",
      "execution_count": null,
      "id": "c80b070a-4fe5-4676-a962-d8bb57a35021",
      "metadata": {
        "id": "c80b070a-4fe5-4676-a962-d8bb57a35021",
        "outputId": "e5a91de2-905d-4309-b1f0-864cd6cf3aa8"
      },
      "outputs": [
        {
          "data": {
            "text/plain": [
              "['p', 'w', 's', 'k', 'i', 'l', 'l', 's']"
            ]
          },
          "execution_count": 94,
          "metadata": {},
          "output_type": "execute_result"
        }
      ],
      "source": [
        "list(str2)"
      ]
    },
    {
      "cell_type": "code",
      "execution_count": null,
      "id": "782b3916-fb13-4133-93eb-50f43eae0280",
      "metadata": {
        "id": "782b3916-fb13-4133-93eb-50f43eae0280"
      },
      "outputs": [],
      "source": [
        "str1=\"PW skills Data science masters\""
      ]
    },
    {
      "cell_type": "code",
      "execution_count": null,
      "id": "1bc366f1-ec0b-4f64-a047-ccc8554b645c",
      "metadata": {
        "id": "1bc366f1-ec0b-4f64-a047-ccc8554b645c",
        "outputId": "6d236b89-ae50-4bee-baa5-0d2828e83378"
      },
      "outputs": [
        {
          "data": {
            "text/plain": [
              "['PW', 'skills', 'Data', 'science', 'masters']"
            ]
          },
          "execution_count": 96,
          "metadata": {},
          "output_type": "execute_result"
        }
      ],
      "source": [
        "list(str1.split(\" \"))"
      ]
    },
    {
      "cell_type": "code",
      "execution_count": null,
      "id": "558e7dc7-255d-4bb2-b877-b50cdc1ee9f0",
      "metadata": {
        "id": "558e7dc7-255d-4bb2-b877-b50cdc1ee9f0"
      },
      "outputs": [],
      "source": [
        "lst1=str1.split(\" \")"
      ]
    },
    {
      "cell_type": "code",
      "execution_count": null,
      "id": "2de9a3d7-1905-4ce9-b9ad-1174093f28b9",
      "metadata": {
        "id": "2de9a3d7-1905-4ce9-b9ad-1174093f28b9",
        "outputId": "fd100650-6e7a-42c6-c80b-9d8c3ac327f5"
      },
      "outputs": [
        {
          "data": {
            "text/plain": [
              "['skills', 'Data', 'science', 'masters']"
            ]
          },
          "execution_count": 101,
          "metadata": {},
          "output_type": "execute_result"
        }
      ],
      "source": [
        "lst1[1:]"
      ]
    },
    {
      "cell_type": "code",
      "execution_count": null,
      "id": "ab21d66b-cf2e-47bf-8766-235d37d918e8",
      "metadata": {
        "id": "ab21d66b-cf2e-47bf-8766-235d37d918e8"
      },
      "outputs": [],
      "source": [
        "lst1[2]=\"Datas\""
      ]
    },
    {
      "cell_type": "code",
      "execution_count": null,
      "id": "be2542ed-9820-4928-9d38-af351b27a56b",
      "metadata": {
        "id": "be2542ed-9820-4928-9d38-af351b27a56b",
        "outputId": "4770fcac-3d26-40d5-a952-b0ea32113183"
      },
      "outputs": [
        {
          "data": {
            "text/plain": [
              "['PW', 'skills', 'Datas', 'science', 'masters']"
            ]
          },
          "execution_count": 104,
          "metadata": {},
          "output_type": "execute_result"
        }
      ],
      "source": [
        "lst1"
      ]
    },
    {
      "cell_type": "code",
      "execution_count": null,
      "id": "67eebcc9-97c7-4ab1-9644-7e49df22cb2e",
      "metadata": {
        "id": "67eebcc9-97c7-4ab1-9644-7e49df22cb2e",
        "outputId": "4bd44742-0273-4915-f4d8-52f646446c7b"
      },
      "outputs": [
        {
          "data": {
            "text/plain": [
              "['masters', 'Datas', 'PW']"
            ]
          },
          "execution_count": 108,
          "metadata": {},
          "output_type": "execute_result"
        }
      ],
      "source": [
        "lst1[::-2]"
      ]
    },
    {
      "cell_type": "code",
      "execution_count": null,
      "id": "81aa852e-fbd4-4c58-9f5b-94658abe409e",
      "metadata": {
        "id": "81aa852e-fbd4-4c58-9f5b-94658abe409e",
        "outputId": "0c38099e-55e8-4367-91d6-d1557888422e"
      },
      "outputs": [
        {
          "data": {
            "text/plain": [
              "['PW']"
            ]
          },
          "execution_count": 112,
          "metadata": {},
          "output_type": "execute_result"
        }
      ],
      "source": [
        "lst1[-5::-2]"
      ]
    },
    {
      "cell_type": "code",
      "execution_count": null,
      "id": "afff9864-9cd6-4382-af08-520707e3e4ef",
      "metadata": {
        "id": "afff9864-9cd6-4382-af08-520707e3e4ef",
        "outputId": "d50b5d05-a100-45b5-e0d8-bd9236f858fc"
      },
      "outputs": [
        {
          "data": {
            "text/plain": [
              "['PW', 'skills', 'Datas', 'science', 'masters']"
            ]
          },
          "execution_count": 114,
          "metadata": {},
          "output_type": "execute_result"
        }
      ],
      "source": [
        "lst1"
      ]
    },
    {
      "cell_type": "code",
      "execution_count": null,
      "id": "8c136007-e5c4-4286-ad01-1c298276ab9d",
      "metadata": {
        "id": "8c136007-e5c4-4286-ad01-1c298276ab9d",
        "outputId": "bdb8ebb3-3a96-404a-e12e-a566ffe2390a"
      },
      "outputs": [
        {
          "data": {
            "text/plain": [
              "['PW', 'skills', 'Datas', 'science', 'masters', 'new element', 3]"
            ]
          },
          "execution_count": 118,
          "metadata": {},
          "output_type": "execute_result"
        }
      ],
      "source": [
        "## concatenation operation\n",
        "lst1 + ['new element',3]"
      ]
    },
    {
      "cell_type": "code",
      "execution_count": null,
      "id": "f6304597-f7c8-43b7-bf77-7566353672bd",
      "metadata": {
        "id": "f6304597-f7c8-43b7-bf77-7566353672bd"
      },
      "outputs": [],
      "source": [
        "## concatenation operation\n",
        "lst2=lst1 + [['new element',3]]"
      ]
    },
    {
      "cell_type": "code",
      "execution_count": null,
      "id": "fb0db352-da0b-47b6-a4bd-f88bdef65fce",
      "metadata": {
        "id": "fb0db352-da0b-47b6-a4bd-f88bdef65fce",
        "outputId": "379208a1-f13c-451c-97ae-752206ff0dba"
      },
      "outputs": [
        {
          "data": {
            "text/plain": [
              "'new element'"
            ]
          },
          "execution_count": 124,
          "metadata": {},
          "output_type": "execute_result"
        }
      ],
      "source": [
        "lst2[-1][0]"
      ]
    },
    {
      "cell_type": "code",
      "execution_count": null,
      "id": "461c4c8f-23cf-41ac-a68a-8eb06adc9129",
      "metadata": {
        "id": "461c4c8f-23cf-41ac-a68a-8eb06adc9129",
        "outputId": "42881ee3-b718-455d-c2e6-a36df1da9a9c"
      },
      "outputs": [
        {
          "data": {
            "text/plain": [
              "['PW',\n",
              " 'skills',\n",
              " 'Datas',\n",
              " 'science',\n",
              " 'masters',\n",
              " 'PW',\n",
              " 'skills',\n",
              " 'Datas',\n",
              " 'science',\n",
              " 'masters']"
            ]
          },
          "execution_count": 127,
          "metadata": {},
          "output_type": "execute_result"
        }
      ],
      "source": [
        "lst1 * 2"
      ]
    },
    {
      "cell_type": "code",
      "execution_count": null,
      "id": "c68366eb-7bdf-4d47-8f61-55f4a7ec0e2d",
      "metadata": {
        "id": "c68366eb-7bdf-4d47-8f61-55f4a7ec0e2d",
        "outputId": "17ee9175-7b2d-44a1-d805-72965c7925a2"
      },
      "outputs": [
        {
          "data": {
            "text/plain": [
              "['PW', 'skills', 'Datas', 'science', 'masters']"
            ]
          },
          "execution_count": 128,
          "metadata": {},
          "output_type": "execute_result"
        }
      ],
      "source": [
        "lst1"
      ]
    },
    {
      "cell_type": "code",
      "execution_count": null,
      "id": "105737df-9b9d-42f3-8ae5-3a31243169ee",
      "metadata": {
        "id": "105737df-9b9d-42f3-8ae5-3a31243169ee",
        "outputId": "4fbc2c2a-a732-471c-d10c-2e74f9447d99"
      },
      "outputs": [
        {
          "name": "stdout",
          "output_type": "stream",
          "text": [
            "Present\n"
          ]
        }
      ],
      "source": [
        "if \"science\" in lst1:\n",
        "    print(\"Present\")"
      ]
    },
    {
      "cell_type": "code",
      "execution_count": null,
      "id": "7ba31690-b43f-42c8-ac7d-48298af174b6",
      "metadata": {
        "id": "7ba31690-b43f-42c8-ac7d-48298af174b6",
        "outputId": "9617f9d2-2ef3-44e8-9724-30bc1e4a48bf"
      },
      "outputs": [
        {
          "name": "stdout",
          "output_type": "stream",
          "text": [
            "science\n"
          ]
        }
      ],
      "source": [
        "for elements in lst1:\n",
        "    if elements==\"science\":\n",
        "        print(elements)\n",
        "        break"
      ]
    },
    {
      "cell_type": "code",
      "execution_count": null,
      "id": "835b2e11-71d7-4dd2-9e38-25b0267d6c41",
      "metadata": {
        "id": "835b2e11-71d7-4dd2-9e38-25b0267d6c41",
        "outputId": "fad7768b-57b4-4d3e-ef92-a4f2afc29f99"
      },
      "outputs": [
        {
          "data": {
            "text/plain": [
              "True"
            ]
          },
          "execution_count": 140,
          "metadata": {},
          "output_type": "execute_result"
        }
      ],
      "source": [
        "## check elements inside a list\n",
        "lst=[1,2,3,4]\n",
        "4 in lst"
      ]
    },
    {
      "cell_type": "code",
      "execution_count": null,
      "id": "feb232dc-57db-4ef6-9c13-b9c72ac1327e",
      "metadata": {
        "id": "feb232dc-57db-4ef6-9c13-b9c72ac1327e",
        "outputId": "48180fad-ce2d-49b6-a0d7-844029603e6e"
      },
      "outputs": [
        {
          "data": {
            "text/plain": [
              "True"
            ]
          },
          "execution_count": 141,
          "metadata": {},
          "output_type": "execute_result"
        }
      ],
      "source": [
        "2.0 in lst"
      ]
    },
    {
      "cell_type": "code",
      "execution_count": null,
      "id": "cda9674b-2ad6-4a8f-99d4-5c650f9e1bbd",
      "metadata": {
        "id": "cda9674b-2ad6-4a8f-99d4-5c650f9e1bbd"
      },
      "outputs": [],
      "source": [
        "lst1=[\"Zebra\",\"Monkey\",\"Donkey\",\"Lion\"]\n",
        "lst2=[5,6,2,9,5,8,6]"
      ]
    },
    {
      "cell_type": "code",
      "execution_count": null,
      "id": "4df177a1-9364-4040-9bf5-3a611220d8d6",
      "metadata": {
        "id": "4df177a1-9364-4040-9bf5-3a611220d8d6",
        "outputId": "98944551-dc57-4b73-ca17-e4fa3e2d3f9b"
      },
      "outputs": [
        {
          "name": "stdout",
          "output_type": "stream",
          "text": [
            "Zebra\n"
          ]
        }
      ],
      "source": [
        "print(max(lst1))"
      ]
    },
    {
      "cell_type": "code",
      "execution_count": null,
      "id": "e3b707c6-4e1f-49a2-b599-3afb54ff5d85",
      "metadata": {
        "id": "e3b707c6-4e1f-49a2-b599-3afb54ff5d85",
        "outputId": "42c11b89-ae7a-415b-f5b4-cb25f1a4179a"
      },
      "outputs": [
        {
          "data": {
            "text/plain": [
              "9"
            ]
          },
          "execution_count": 144,
          "metadata": {},
          "output_type": "execute_result"
        }
      ],
      "source": [
        "max(lst2)"
      ]
    },
    {
      "cell_type": "code",
      "execution_count": null,
      "id": "4b3d7bf3-2a2d-4f71-a060-8532e18ab42b",
      "metadata": {
        "id": "4b3d7bf3-2a2d-4f71-a060-8532e18ab42b",
        "outputId": "e27bf8e0-695c-49e8-953a-d2b2af6b7334"
      },
      "outputs": [
        {
          "data": {
            "text/plain": [
              "'Donkey'"
            ]
          },
          "execution_count": 145,
          "metadata": {},
          "output_type": "execute_result"
        }
      ],
      "source": [
        "min(lst1)"
      ]
    },
    {
      "cell_type": "code",
      "execution_count": null,
      "id": "57ba0f95-8cef-461d-8ab7-95ff0ff17525",
      "metadata": {
        "id": "57ba0f95-8cef-461d-8ab7-95ff0ff17525",
        "outputId": "20ab2494-a39c-4d98-8b56-190829d86caa"
      },
      "outputs": [
        {
          "data": {
            "text/plain": [
              "2"
            ]
          },
          "execution_count": 146,
          "metadata": {},
          "output_type": "execute_result"
        }
      ],
      "source": [
        "min(lst2)"
      ]
    },
    {
      "cell_type": "code",
      "execution_count": null,
      "id": "21a8cd16-23b1-43cb-9f67-3952d16de52d",
      "metadata": {
        "id": "21a8cd16-23b1-43cb-9f67-3952d16de52d",
        "outputId": "5a1e9ef0-1117-4319-fabb-5fb0026fba5e"
      },
      "outputs": [
        {
          "data": {
            "text/plain": [
              "True"
            ]
          },
          "execution_count": 149,
          "metadata": {},
          "output_type": "execute_result"
        }
      ],
      "source": [
        "1.9999999999999999 in [2, 4, 5]\n"
      ]
    },
    {
      "cell_type": "code",
      "execution_count": null,
      "id": "13e83260-7145-4dd0-8688-bb66efb198b5",
      "metadata": {
        "id": "13e83260-7145-4dd0-8688-bb66efb198b5",
        "outputId": "e7f3960d-3b34-493a-eb8f-41b99ffd710f"
      },
      "outputs": [
        {
          "data": {
            "text/plain": [
              "True"
            ]
          },
          "execution_count": 148,
          "metadata": {},
          "output_type": "execute_result"
        }
      ],
      "source": [
        "5==5.0"
      ]
    },
    {
      "cell_type": "code",
      "execution_count": null,
      "id": "bbc8d5c0-fa87-4949-9412-8fe9251d3453",
      "metadata": {
        "id": "bbc8d5c0-fa87-4949-9412-8fe9251d3453"
      },
      "outputs": [],
      "source": [
        "lst3=[5,6,2,9,5,8,6]\n",
        "type(lst3[0])  ## output is integer\n",
        "type(5.0)  ### output is float\n",
        "5.0 in lst3 ## output is TRUE\n"
      ]
    },
    {
      "cell_type": "code",
      "execution_count": null,
      "id": "a974f5de-61d0-4d63-acd5-4be46eba2e13",
      "metadata": {
        "id": "a974f5de-61d0-4d63-acd5-4be46eba2e13"
      },
      "outputs": [],
      "source": [
        "## Append"
      ]
    },
    {
      "cell_type": "code",
      "execution_count": null,
      "id": "342379a6-dfa1-4737-ab25-64877fe131d9",
      "metadata": {
        "id": "342379a6-dfa1-4737-ab25-64877fe131d9"
      },
      "outputs": [],
      "source": [
        "lst=[1,2,3,4,5,6]"
      ]
    },
    {
      "cell_type": "code",
      "execution_count": null,
      "id": "7775d7c7-3b2c-4baf-ae12-4bec259cf987",
      "metadata": {
        "id": "7775d7c7-3b2c-4baf-ae12-4bec259cf987",
        "outputId": "e3e9f4f8-f016-4e05-e8bf-178ba0c42864"
      },
      "outputs": [
        {
          "data": {
            "text/plain": [
              "[1, 2, 3, 4, 5, 6]"
            ]
          },
          "execution_count": 151,
          "metadata": {},
          "output_type": "execute_result"
        }
      ],
      "source": [
        "lst"
      ]
    },
    {
      "cell_type": "code",
      "execution_count": null,
      "id": "e43924c6-1a51-46b0-9130-2f8830e45e07",
      "metadata": {
        "id": "e43924c6-1a51-46b0-9130-2f8830e45e07"
      },
      "outputs": [],
      "source": [
        "lst.append(\"Pwskills\")"
      ]
    },
    {
      "cell_type": "code",
      "execution_count": null,
      "id": "cbe06e31-9079-4c79-a5aa-34d4c248a5d1",
      "metadata": {
        "id": "cbe06e31-9079-4c79-a5aa-34d4c248a5d1",
        "outputId": "25b5022d-8708-43f4-f793-01fbc2ea28ff"
      },
      "outputs": [
        {
          "data": {
            "text/plain": [
              "[1, 2, 3, 4, 5, 6, 'Pwskills']"
            ]
          },
          "execution_count": 154,
          "metadata": {},
          "output_type": "execute_result"
        }
      ],
      "source": [
        "lst"
      ]
    },
    {
      "cell_type": "code",
      "execution_count": null,
      "id": "59ee96ba-aaf3-498d-a0ab-f52b2ff3daea",
      "metadata": {
        "id": "59ee96ba-aaf3-498d-a0ab-f52b2ff3daea"
      },
      "outputs": [],
      "source": [
        "lst.append(['Data','Science','Masters'])"
      ]
    },
    {
      "cell_type": "code",
      "execution_count": null,
      "id": "ac805a18-8c1b-4609-8cab-4ed22027e552",
      "metadata": {
        "id": "ac805a18-8c1b-4609-8cab-4ed22027e552",
        "outputId": "c291483c-13ab-4db1-f5e1-471e572c2f97"
      },
      "outputs": [
        {
          "data": {
            "text/plain": [
              "[1, 2, 3, 4, 5, 6, 'Pwskills', ['Data', 'Science', 'Masters']]"
            ]
          },
          "execution_count": 156,
          "metadata": {},
          "output_type": "execute_result"
        }
      ],
      "source": [
        "lst"
      ]
    },
    {
      "cell_type": "code",
      "execution_count": null,
      "id": "d79fff96-a3fd-4833-b01c-b82687566fc5",
      "metadata": {
        "id": "d79fff96-a3fd-4833-b01c-b82687566fc5"
      },
      "outputs": [],
      "source": [
        "lst1=[\"Zebra\",\"Monkey\",\"Donkey\",\"Lion\"]"
      ]
    },
    {
      "cell_type": "code",
      "execution_count": null,
      "id": "f32841d3-8268-421a-8e6a-d6fe2f89e597",
      "metadata": {
        "id": "f32841d3-8268-421a-8e6a-d6fe2f89e597",
        "outputId": "3810a763-7928-4561-a863-385bf81264a5"
      },
      "outputs": [
        {
          "data": {
            "text/plain": [
              "'Lion'"
            ]
          },
          "execution_count": 159,
          "metadata": {},
          "output_type": "execute_result"
        }
      ],
      "source": [
        "lst1.pop()"
      ]
    },
    {
      "cell_type": "code",
      "execution_count": null,
      "id": "639b1fda-3948-4bda-9b0c-f8dcd1b65f93",
      "metadata": {
        "id": "639b1fda-3948-4bda-9b0c-f8dcd1b65f93",
        "outputId": "9bc42863-66f3-4d88-d083-05198d5644af"
      },
      "outputs": [
        {
          "data": {
            "text/plain": [
              "'Donkey'"
            ]
          },
          "execution_count": 162,
          "metadata": {},
          "output_type": "execute_result"
        }
      ],
      "source": [
        "lst1.pop(2)"
      ]
    },
    {
      "cell_type": "code",
      "execution_count": null,
      "id": "5f448ae8-f06a-4901-87d4-5a589606c69d",
      "metadata": {
        "id": "5f448ae8-f06a-4901-87d4-5a589606c69d",
        "outputId": "4ec8ebe3-0999-4d5a-cb25-85f718ff5107"
      },
      "outputs": [
        {
          "data": {
            "text/plain": [
              "['Zebra', 'Monkey']"
            ]
          },
          "execution_count": 163,
          "metadata": {},
          "output_type": "execute_result"
        }
      ],
      "source": [
        "lst1"
      ]
    },
    {
      "cell_type": "code",
      "execution_count": null,
      "id": "d22153fd-9e54-4c4d-aa63-2efa8961322b",
      "metadata": {
        "id": "d22153fd-9e54-4c4d-aa63-2efa8961322b"
      },
      "outputs": [],
      "source": [
        "lst1=[\"Zebra\",\"Monkey\",\"Donkey\",\"Lion\"]"
      ]
    },
    {
      "cell_type": "code",
      "execution_count": null,
      "id": "320291bf-adbf-4687-a147-94c81ac3589f",
      "metadata": {
        "id": "320291bf-adbf-4687-a147-94c81ac3589f",
        "outputId": "326edd5f-fd92-45c7-cc99-520833a65259"
      },
      "outputs": [
        {
          "data": {
            "text/plain": [
              "'Zebra'"
            ]
          },
          "execution_count": 165,
          "metadata": {},
          "output_type": "execute_result"
        }
      ],
      "source": [
        "removed_element=lst1.pop(0)\n",
        "removed_element\n"
      ]
    },
    {
      "cell_type": "code",
      "execution_count": null,
      "id": "72260adc-9779-414a-8595-8a15e2520d0f",
      "metadata": {
        "id": "72260adc-9779-414a-8595-8a15e2520d0f",
        "outputId": "4c685a05-1464-4ae3-aa20-27d5fca8c5bb"
      },
      "outputs": [
        {
          "ename": "IndexError",
          "evalue": "list index out of range",
          "output_type": "error",
          "traceback": [
            "\u001b[0;31m---------------------------------------------------------------------------\u001b[0m",
            "\u001b[0;31mIndexError\u001b[0m                                Traceback (most recent call last)",
            "Cell \u001b[0;32mIn[167], line 1\u001b[0m\n\u001b[0;32m----> 1\u001b[0m \u001b[43mlst1\u001b[49m\u001b[43m[\u001b[49m\u001b[38;5;241;43m100\u001b[39;49m\u001b[43m]\u001b[49m\n",
            "\u001b[0;31mIndexError\u001b[0m: list index out of range"
          ]
        }
      ],
      "source": [
        "lst1[100]"
      ]
    },
    {
      "cell_type": "code",
      "execution_count": null,
      "id": "923b4e4d-9c33-4622-9407-e86ef507f7a3",
      "metadata": {
        "id": "923b4e4d-9c33-4622-9407-e86ef507f7a3"
      },
      "outputs": [],
      "source": [
        "## Sorting and Reverse method in list"
      ]
    },
    {
      "cell_type": "code",
      "execution_count": null,
      "id": "8dea02ce-e317-4415-a406-80db2133f00e",
      "metadata": {
        "id": "8dea02ce-e317-4415-a406-80db2133f00e",
        "outputId": "6212487e-38a6-421f-e17d-2b1eaedc4283"
      },
      "outputs": [
        {
          "data": {
            "text/plain": [
              "['q', 'e', 'f', 's', 't', 'u']"
            ]
          },
          "execution_count": 169,
          "metadata": {},
          "output_type": "execute_result"
        }
      ],
      "source": [
        "new_list=['q','e','f','s','t','u']\n",
        "new_list"
      ]
    },
    {
      "cell_type": "code",
      "execution_count": null,
      "id": "727be269-ee57-4409-8c20-c1abe48d209d",
      "metadata": {
        "id": "727be269-ee57-4409-8c20-c1abe48d209d",
        "outputId": "0e942c84-ae97-4efb-afbd-76f01f03df11"
      },
      "outputs": [
        {
          "data": {
            "text/plain": [
              "['u', 't', 's', 'f', 'e', 'q']"
            ]
          },
          "execution_count": 170,
          "metadata": {},
          "output_type": "execute_result"
        }
      ],
      "source": [
        "new_list[::-1]"
      ]
    },
    {
      "cell_type": "code",
      "execution_count": null,
      "id": "a56bee5c-a9e4-4655-8755-66325e069116",
      "metadata": {
        "id": "a56bee5c-a9e4-4655-8755-66325e069116"
      },
      "outputs": [],
      "source": [
        "## inplace\n",
        "new_list.reverse()"
      ]
    },
    {
      "cell_type": "code",
      "execution_count": null,
      "id": "1297c213-d7fe-4688-ab3a-8f071821a26b",
      "metadata": {
        "id": "1297c213-d7fe-4688-ab3a-8f071821a26b",
        "outputId": "965c0340-ebe7-45a6-9232-8f041fe145e2"
      },
      "outputs": [
        {
          "data": {
            "text/plain": [
              "['u', 't', 's', 'f', 'e', 'q']"
            ]
          },
          "execution_count": 173,
          "metadata": {},
          "output_type": "execute_result"
        }
      ],
      "source": [
        "new_list"
      ]
    },
    {
      "cell_type": "code",
      "execution_count": null,
      "id": "a2281e92-24d4-4591-bd03-2e4c5aac21c7",
      "metadata": {
        "id": "a2281e92-24d4-4591-bd03-2e4c5aac21c7"
      },
      "outputs": [],
      "source": [
        "new_list.sort()"
      ]
    },
    {
      "cell_type": "code",
      "execution_count": null,
      "id": "7a71c1ab-cf30-4fce-b6a8-c3e188aa711f",
      "metadata": {
        "id": "7a71c1ab-cf30-4fce-b6a8-c3e188aa711f",
        "outputId": "ac230f53-61dc-41f9-aed5-8c086eeeb168"
      },
      "outputs": [
        {
          "data": {
            "text/plain": [
              "['e', 'f', 'q', 's', 't', 'u']"
            ]
          },
          "execution_count": 175,
          "metadata": {},
          "output_type": "execute_result"
        }
      ],
      "source": [
        "new_list"
      ]
    },
    {
      "cell_type": "code",
      "execution_count": null,
      "id": "f0c1ed7d-c39d-4734-8bdc-ce4780988df6",
      "metadata": {
        "id": "f0c1ed7d-c39d-4734-8bdc-ce4780988df6"
      },
      "outputs": [],
      "source": [
        "new_list.sort(reverse=True)"
      ]
    },
    {
      "cell_type": "code",
      "execution_count": null,
      "id": "d014df4b-2161-43c8-ae50-674dd3bb102a",
      "metadata": {
        "id": "d014df4b-2161-43c8-ae50-674dd3bb102a",
        "outputId": "c99557bd-adbf-41a0-9876-0da7906608b9"
      },
      "outputs": [
        {
          "data": {
            "text/plain": [
              "['u', 't', 's', 'q', 'f', 'e']"
            ]
          },
          "execution_count": 185,
          "metadata": {},
          "output_type": "execute_result"
        }
      ],
      "source": [
        "new_list"
      ]
    },
    {
      "cell_type": "code",
      "execution_count": null,
      "id": "98b794c8-cb9b-4add-bbde-10a20c427aad",
      "metadata": {
        "id": "98b794c8-cb9b-4add-bbde-10a20c427aad"
      },
      "outputs": [],
      "source": [
        "lst=[1,2,3,4,5,6]\n",
        "lst.append(10)"
      ]
    },
    {
      "cell_type": "code",
      "execution_count": null,
      "id": "ad4c6dbe-eec0-48b0-b416-60e29da852ba",
      "metadata": {
        "id": "ad4c6dbe-eec0-48b0-b416-60e29da852ba"
      },
      "outputs": [],
      "source": [
        "lst.append(['PW','Skills'])\n"
      ]
    },
    {
      "cell_type": "code",
      "execution_count": null,
      "id": "50aa1068-d051-46ee-809b-eb21f3b4e599",
      "metadata": {
        "id": "50aa1068-d051-46ee-809b-eb21f3b4e599"
      },
      "outputs": [],
      "source": [
        "lst.extend(['PW','Skills'])"
      ]
    },
    {
      "cell_type": "code",
      "execution_count": null,
      "id": "e9c387d1-6469-4ccd-b3dd-b0a6f3f8605d",
      "metadata": {
        "id": "e9c387d1-6469-4ccd-b3dd-b0a6f3f8605d",
        "outputId": "813fa829-172d-482a-ea3f-3f6b3bd6c468"
      },
      "outputs": [
        {
          "data": {
            "text/plain": [
              "[1, 2, 3, 4, 5, 6, 10, 'PW', 'Skills']"
            ]
          },
          "execution_count": 183,
          "metadata": {},
          "output_type": "execute_result"
        }
      ],
      "source": [
        "lst"
      ]
    },
    {
      "cell_type": "markdown",
      "id": "130cbd71-5c1d-4622-a4c5-2d21a252b088",
      "metadata": {
        "id": "130cbd71-5c1d-4622-a4c5-2d21a252b088"
      },
      "source": [
        "## Nested List"
      ]
    },
    {
      "cell_type": "code",
      "execution_count": null,
      "id": "c8c4097a-9e1d-4fc9-83c7-61f2a94372f3",
      "metadata": {
        "id": "c8c4097a-9e1d-4fc9-83c7-61f2a94372f3"
      },
      "outputs": [],
      "source": [
        "# Let's make three lists\n",
        "lst_1=[1,2,3]\n",
        "lst_2=[4,5,6]\n",
        "lst_3=[7,8,9]\n",
        "\n",
        "# Make a list of lists to form a matrix\n",
        "matrix = [lst_1,lst_2,lst_3]"
      ]
    },
    {
      "cell_type": "code",
      "execution_count": null,
      "id": "0b3dc20a-83a3-4e3f-8fbb-ded0afa07703",
      "metadata": {
        "id": "0b3dc20a-83a3-4e3f-8fbb-ded0afa07703",
        "outputId": "b68c15bc-8587-4acc-ae7a-b2a2bc2d89ae"
      },
      "outputs": [
        {
          "data": {
            "text/plain": [
              "[[1, 2, 3], [4, 5, 6], [7, 8, 9]]"
            ]
          },
          "execution_count": 187,
          "metadata": {},
          "output_type": "execute_result"
        }
      ],
      "source": [
        "matrix"
      ]
    },
    {
      "cell_type": "code",
      "execution_count": null,
      "id": "98ebfcc4-83f8-436c-a631-2a7d0a73011f",
      "metadata": {
        "id": "98ebfcc4-83f8-436c-a631-2a7d0a73011f",
        "outputId": "6d01e5d6-0257-4473-9881-3a22fe9db4db"
      },
      "outputs": [
        {
          "data": {
            "text/plain": [
              "6"
            ]
          },
          "execution_count": 190,
          "metadata": {},
          "output_type": "execute_result"
        }
      ],
      "source": [
        "matrix[1][2]"
      ]
    },
    {
      "cell_type": "code",
      "execution_count": null,
      "id": "28e411da-e6c5-4ece-8003-efbcecade45d",
      "metadata": {
        "id": "28e411da-e6c5-4ece-8003-efbcecade45d",
        "outputId": "c8905be8-523c-4f40-ec9d-d4dd8357aa8d"
      },
      "outputs": [
        {
          "data": {
            "text/plain": [
              "[8, 9]"
            ]
          },
          "execution_count": 191,
          "metadata": {},
          "output_type": "execute_result"
        }
      ],
      "source": [
        "matrix[2][1:]"
      ]
    },
    {
      "cell_type": "code",
      "execution_count": null,
      "id": "e6564aef-fa0a-4881-ba93-e09825f0ae96",
      "metadata": {
        "id": "e6564aef-fa0a-4881-ba93-e09825f0ae96",
        "outputId": "bcd968c9-d82a-47c0-8230-178dba658126"
      },
      "outputs": [
        {
          "data": {
            "text/plain": [
              "[0, 1, 2, 3, 4, 5, 6, 7, 8, 9, 10, 11, 12, 13, 14, 15, 16, 17, 18, 19]"
            ]
          },
          "execution_count": 204,
          "metadata": {},
          "output_type": "execute_result"
        }
      ],
      "source": [
        "## List Comprehension\n",
        "[i for i in range(20)]"
      ]
    },
    {
      "cell_type": "code",
      "execution_count": null,
      "id": "3447b287-75a7-4aa8-bcd3-5d82339e9c53",
      "metadata": {
        "id": "3447b287-75a7-4aa8-bcd3-5d82339e9c53",
        "outputId": "4b80f5dc-c0e4-446f-effd-9c3063ff4778"
      },
      "outputs": [
        {
          "data": {
            "text/plain": [
              "[0,\n",
              " 'ODD',\n",
              " 2,\n",
              " 'ODD',\n",
              " 4,\n",
              " 'ODD',\n",
              " 6,\n",
              " 'ODD',\n",
              " 8,\n",
              " 'ODD',\n",
              " 10,\n",
              " 'ODD',\n",
              " 12,\n",
              " 'ODD',\n",
              " 14,\n",
              " 'ODD',\n",
              " 16,\n",
              " 'ODD',\n",
              " 18,\n",
              " 'ODD']"
            ]
          },
          "execution_count": 211,
          "metadata": {},
          "output_type": "execute_result"
        }
      ],
      "source": [
        "## List Comprehension\n",
        "## Even numbers\n",
        "[i if i%2==0 else \"ODD\" for i in range(0,20)]"
      ]
    },
    {
      "cell_type": "code",
      "execution_count": null,
      "id": "4282592a-9154-423a-80c5-5b3078816eca",
      "metadata": {
        "id": "4282592a-9154-423a-80c5-5b3078816eca"
      },
      "outputs": [],
      "source": [
        "## Assignment\n",
        "## Sum of even numbers and odd numbers\n",
        "lst=[1,2,3,4,5,6,7,8]\n"
      ]
    },
    {
      "cell_type": "code",
      "execution_count": null,
      "id": "e86ab3bf-46c0-4c97-b49f-4e2e2cade2cd",
      "metadata": {
        "id": "e86ab3bf-46c0-4c97-b49f-4e2e2cade2cd",
        "outputId": "e0bb262b-63f1-4810-cb11-254960eedd5a"
      },
      "outputs": [
        {
          "name": "stdout",
          "output_type": "stream",
          "text": [
            "20\n",
            "16\n"
          ]
        }
      ],
      "source": [
        "lst = [1,2,3,4,5,6,7,8]\n",
        "\n",
        "even_sum = 0\n",
        "odd_sum = 0\n",
        "for i in lst:\n",
        "    if i % 2 ==0:\n",
        "        even_sum += i\n",
        "    else:\n",
        "        odd_sum += i\n",
        "\n",
        "print(even_sum)\n",
        "print(odd_sum)\n"
      ]
    },
    {
      "cell_type": "code",
      "execution_count": null,
      "id": "88e4c644-8e40-42d6-8140-870806947749",
      "metadata": {
        "id": "88e4c644-8e40-42d6-8140-870806947749"
      },
      "outputs": [],
      "source": [
        "even_sum=sum([num for num in lst if num%2==0])"
      ]
    },
    {
      "cell_type": "code",
      "execution_count": null,
      "id": "b69a4753-3fad-4085-b1c3-fae94c4849bb",
      "metadata": {
        "id": "b69a4753-3fad-4085-b1c3-fae94c4849bb",
        "outputId": "13640e38-102a-4906-a6de-5b61add647a1"
      },
      "outputs": [
        {
          "data": {
            "text/plain": [
              "20"
            ]
          },
          "execution_count": 217,
          "metadata": {},
          "output_type": "execute_result"
        }
      ],
      "source": [
        "even_sum"
      ]
    },
    {
      "cell_type": "code",
      "execution_count": null,
      "id": "656a51c4-cf55-4650-bdd8-6f6418a9c445",
      "metadata": {
        "id": "656a51c4-cf55-4650-bdd8-6f6418a9c445",
        "outputId": "fd8f1b44-c463-482e-fa1f-992e0cf8d14b"
      },
      "outputs": [
        {
          "data": {
            "text/plain": [
              "16"
            ]
          },
          "execution_count": 218,
          "metadata": {},
          "output_type": "execute_result"
        }
      ],
      "source": [
        "odd_sum=sum([num for num in lst if num%2!=0])\n",
        "odd_sum"
      ]
    },
    {
      "cell_type": "code",
      "execution_count": null,
      "id": "9ca6fae4-d0b6-434d-a53b-7b1aa899d263",
      "metadata": {
        "id": "9ca6fae4-d0b6-434d-a53b-7b1aa899d263",
        "outputId": "e4ad7312-a1ae-45bd-9758-f5e0e68dcac5"
      },
      "outputs": [
        {
          "data": {
            "text/plain": [
              "[1, 4, 9, 16, 25, 36, 49, 64, 81, 100]"
            ]
          },
          "execution_count": 219,
          "metadata": {},
          "output_type": "execute_result"
        }
      ],
      "source": [
        "lst=[1,2,3,4,5,6,7,8,9,10]\n",
        "[num**2 for num in lst]"
      ]
    },
    {
      "cell_type": "code",
      "execution_count": null,
      "id": "f02850df-57bd-4be5-b65f-e60452c4f35d",
      "metadata": {
        "id": "f02850df-57bd-4be5-b65f-e60452c4f35d",
        "outputId": "b8b949f7-8091-4a65-d26d-bb45f535916e"
      },
      "outputs": [
        {
          "data": {
            "text/plain": [
              "[1, 2, 3, 4]"
            ]
          },
          "execution_count": 220,
          "metadata": {},
          "output_type": "execute_result"
        }
      ],
      "source": [
        "# Example 2: Create a list of only the positive numbers from a given list\n",
        "numbers = [-2, -1, 0, 1, 2, 3, 4]\n",
        "[num for num in numbers if num > 0]"
      ]
    },
    {
      "cell_type": "code",
      "execution_count": null,
      "id": "bc3e40e6-58dd-4f3d-b35c-139f963848a5",
      "metadata": {
        "id": "bc3e40e6-58dd-4f3d-b35c-139f963848a5",
        "outputId": "be6f3c52-f648-49a5-e94a-88d6511acfd1"
      },
      "outputs": [
        {
          "data": {
            "text/plain": [
              "['a', 'b', 'c', 'd']"
            ]
          },
          "execution_count": 221,
          "metadata": {},
          "output_type": "execute_result"
        }
      ],
      "source": [
        "# Example 3: Create a list of only the first letters of words in a list\n",
        "words = ['apple', 'banana', 'cherry', 'date']\n",
        "[word[0] for word in words]"
      ]
    },
    {
      "cell_type": "code",
      "execution_count": null,
      "id": "3f16f1b6-3338-471a-9b3c-0447ae9f6d17",
      "metadata": {
        "id": "3f16f1b6-3338-471a-9b3c-0447ae9f6d17"
      },
      "outputs": [],
      "source": [
        "(9/5)*temp+32"
      ]
    },
    {
      "cell_type": "code",
      "execution_count": null,
      "id": "b930955e-f776-4b50-b1e3-a53181ab048e",
      "metadata": {
        "id": "b930955e-f776-4b50-b1e3-a53181ab048e"
      },
      "outputs": [],
      "source": [
        "# Example 4: Convert a list of temperatures from Celsius to Fahrenheit uing list comprehesnion\n",
        "celsius_temperatures = [0, 10, 20, 30, 40, 50]"
      ]
    },
    {
      "cell_type": "code",
      "execution_count": null,
      "id": "a31cca96-8f4c-49cc-86cf-1f103729d2f9",
      "metadata": {
        "id": "a31cca96-8f4c-49cc-86cf-1f103729d2f9",
        "outputId": "f9f3dfea-22b2-4494-9858-3105baa58a5d"
      },
      "outputs": [
        {
          "data": {
            "text/plain": [
              "[32.0, 50.0, 68.0, 86.0, 104.0, 122.0]"
            ]
          },
          "execution_count": 223,
          "metadata": {},
          "output_type": "execute_result"
        }
      ],
      "source": [
        "[(9/5)*temp + 32 for temp in celsius_temperatures]"
      ]
    },
    {
      "cell_type": "code",
      "execution_count": null,
      "id": "28fd6b8b-0680-4586-a4bc-9e2c706413c5",
      "metadata": {
        "id": "28fd6b8b-0680-4586-a4bc-9e2c706413c5"
      },
      "outputs": [],
      "source": [
        "# Example 5: Flatten a list of lists into a single list\n",
        "lists = [[1, 2, 3], [4, 5, 6], [7, 8, 9]]"
      ]
    },
    {
      "cell_type": "code",
      "execution_count": null,
      "id": "00f26d35-9cc5-4165-b6e4-5e27e795e951",
      "metadata": {
        "id": "00f26d35-9cc5-4165-b6e4-5e27e795e951",
        "outputId": "7039d9c0-c01a-411e-81c3-34ec9fb65580"
      },
      "outputs": [
        {
          "data": {
            "text/plain": [
              "[1, 2, 3, 4, 5, 6, 7, 8, 9]"
            ]
          },
          "execution_count": 228,
          "metadata": {},
          "output_type": "execute_result"
        }
      ],
      "source": [
        "[j for i in lists for j in i]"
      ]
    },
    {
      "cell_type": "code",
      "execution_count": null,
      "id": "6cf53d9d-ba8e-44b3-8e9b-4d994d40d6e9",
      "metadata": {
        "id": "6cf53d9d-ba8e-44b3-8e9b-4d994d40d6e9"
      },
      "outputs": [],
      "source": [
        "## Assignment\n",
        "## Using both code and list comprehesnion\n",
        "# Example 2: Create a list of only the prime numbers from a given list\n",
        "numbers = [1, 2, 3, 4, 5, 6, 7, 8, 9, 10]"
      ]
    },
    {
      "cell_type": "code",
      "execution_count": null,
      "id": "f675dd98-6908-4f39-91e8-6b4fd9f8c6cb",
      "metadata": {
        "id": "f675dd98-6908-4f39-91e8-6b4fd9f8c6cb"
      },
      "outputs": [],
      "source": [
        "# Example 3: Create a list of all the possible combinations of 2 elements from a list\n",
        "numbers = [1, 2, 3, 4, 5]"
      ]
    },
    {
      "cell_type": "code",
      "execution_count": null,
      "id": "a0ac2faa-453b-4fda-95eb-f88b0707e089",
      "metadata": {
        "id": "a0ac2faa-453b-4fda-95eb-f88b0707e089",
        "outputId": "541af69f-04a1-4447-d55a-4bb951f5ddff"
      },
      "outputs": [
        {
          "data": {
            "text/plain": [
              "((1, 2), (1, 3))"
            ]
          },
          "execution_count": 229,
          "metadata": {},
          "output_type": "execute_result"
        }
      ],
      "source": [
        "(1,2),(1,3)"
      ]
    },
    {
      "cell_type": "code",
      "execution_count": null,
      "id": "9a7a9a8d-17bb-491b-a8e3-9e5a79b17634",
      "metadata": {
        "id": "9a7a9a8d-17bb-491b-a8e3-9e5a79b17634",
        "outputId": "5646a508-c089-4a54-cc53-9a975de3decb"
      },
      "outputs": [
        {
          "data": {
            "text/plain": [
              "[1, 2, 3, 4, 5, 6, 7, 8, 9, 10]"
            ]
          },
          "execution_count": 230,
          "metadata": {},
          "output_type": "execute_result"
        }
      ],
      "source": [
        "lst"
      ]
    },
    {
      "cell_type": "code",
      "execution_count": null,
      "id": "15cff215-718e-423e-9129-5dfc0c4ad40b",
      "metadata": {
        "id": "15cff215-718e-423e-9129-5dfc0c4ad40b"
      },
      "outputs": [],
      "source": [
        "lst.insert()"
      ]
    },
    {
      "cell_type": "code",
      "execution_count": null,
      "id": "a2e4d793-767b-4c68-b366-13d4fe7660a3",
      "metadata": {
        "id": "a2e4d793-767b-4c68-b366-13d4fe7660a3"
      },
      "outputs": [],
      "source": [
        "c=1+2j"
      ]
    },
    {
      "cell_type": "code",
      "execution_count": null,
      "id": "b1436805-a8aa-403c-b239-e1308a73cb4d",
      "metadata": {
        "id": "b1436805-a8aa-403c-b239-e1308a73cb4d",
        "outputId": "d04639ce-7c54-4dca-c767-184deb159695"
      },
      "outputs": [
        {
          "data": {
            "text/plain": [
              "1.0"
            ]
          },
          "execution_count": 234,
          "metadata": {},
          "output_type": "execute_result"
        }
      ],
      "source": [
        "c.real"
      ]
    },
    {
      "cell_type": "code",
      "execution_count": null,
      "id": "2645f96c-fbc8-44d6-ae57-cd35e2c9a4d9",
      "metadata": {
        "id": "2645f96c-fbc8-44d6-ae57-cd35e2c9a4d9"
      },
      "outputs": [],
      "source": []
    }
  ],
  "metadata": {
    "kernelspec": {
      "display_name": "Python 3 (ipykernel)",
      "language": "python",
      "name": "python3"
    },
    "language_info": {
      "codemirror_mode": {
        "name": "ipython",
        "version": 3
      },
      "file_extension": ".py",
      "mimetype": "text/x-python",
      "name": "python",
      "nbconvert_exporter": "python",
      "pygments_lexer": "ipython3",
      "version": "3.10.8"
    },
    "colab": {
      "provenance": [],
      "include_colab_link": true
    }
  },
  "nbformat": 4,
  "nbformat_minor": 5
}