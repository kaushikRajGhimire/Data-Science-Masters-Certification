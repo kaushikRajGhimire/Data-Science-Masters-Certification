{
  "cells": [
    {
      "cell_type": "markdown",
      "metadata": {
        "id": "view-in-github",
        "colab_type": "text"
      },
      "source": [
        "<a href=\"https://colab.research.google.com/github/kaushikRajGhimire/Data-Science-Masters-Certification/blob/main/Dict_Eng.ipynb\" target=\"_parent\"><img src=\"https://colab.research.google.com/assets/colab-badge.svg\" alt=\"Open In Colab\"/></a>"
      ]
    },
    {
      "cell_type": "code",
      "execution_count": null,
      "id": "e4d37a25-68dc-4893-a9de-440d85eb1a7c",
      "metadata": {
        "id": "e4d37a25-68dc-4893-a9de-440d85eb1a7c"
      },
      "outputs": [],
      "source": [
        "d = {}"
      ]
    },
    {
      "cell_type": "code",
      "execution_count": null,
      "id": "6093f8c5-1902-473f-9457-f5f4c7d07f59",
      "metadata": {
        "id": "6093f8c5-1902-473f-9457-f5f4c7d07f59",
        "outputId": "ab8cb56d-a4ad-438b-d94a-6f4b64a9687b"
      },
      "outputs": [
        {
          "data": {
            "text/plain": [
              "dict"
            ]
          },
          "execution_count": 2,
          "metadata": {},
          "output_type": "execute_result"
        }
      ],
      "source": [
        "type(d)"
      ]
    },
    {
      "cell_type": "code",
      "execution_count": null,
      "id": "c94b17d2-c073-405b-92c7-82cdfbc8c575",
      "metadata": {
        "id": "c94b17d2-c073-405b-92c7-82cdfbc8c575"
      },
      "outputs": [],
      "source": [
        "d1 = {\"name\" : \"sudh\" , \"emiil_id\" : \"ss@gmail.com\" , \"number\" :234324}"
      ]
    },
    {
      "cell_type": "code",
      "execution_count": null,
      "id": "54360e2f-839d-4af6-83de-31e97369d317",
      "metadata": {
        "id": "54360e2f-839d-4af6-83de-31e97369d317",
        "outputId": "b370b759-646c-4035-ee3b-f1bc05a4ed9c"
      },
      "outputs": [
        {
          "data": {
            "text/plain": [
              "dict"
            ]
          },
          "execution_count": 4,
          "metadata": {},
          "output_type": "execute_result"
        }
      ],
      "source": [
        "type(d1)"
      ]
    },
    {
      "cell_type": "code",
      "execution_count": null,
      "id": "9cc3e3d1-7a61-476b-ae72-ccc5bb205ba5",
      "metadata": {
        "id": "9cc3e3d1-7a61-476b-ae72-ccc5bb205ba5",
        "outputId": "674bb593-9538-47c1-d96d-f9b3486525b7"
      },
      "outputs": [
        {
          "data": {
            "text/plain": [
              "{'name': 'sudh', 'emiil_id': 'ss@gmail.com', 'number': 234324}"
            ]
          },
          "execution_count": 5,
          "metadata": {},
          "output_type": "execute_result"
        }
      ],
      "source": [
        "d1"
      ]
    },
    {
      "cell_type": "code",
      "execution_count": null,
      "id": "9ebd6ff3-1142-491a-b8ce-203118644fd1",
      "metadata": {
        "id": "9ebd6ff3-1142-491a-b8ce-203118644fd1"
      },
      "outputs": [],
      "source": [
        "d2 = {\"name\" : \"sudh\" , \"name\" : \"sudhanshu\"}"
      ]
    },
    {
      "cell_type": "code",
      "execution_count": null,
      "id": "62294f90-6b4f-43eb-ab60-d8d34984a9a2",
      "metadata": {
        "id": "62294f90-6b4f-43eb-ab60-d8d34984a9a2",
        "outputId": "5a8788ec-986c-4f62-8280-ac8835c69bc4"
      },
      "outputs": [
        {
          "data": {
            "text/plain": [
              "{'name': 'sudhanshu'}"
            ]
          },
          "execution_count": 8,
          "metadata": {},
          "output_type": "execute_result"
        }
      ],
      "source": [
        "d2"
      ]
    },
    {
      "cell_type": "code",
      "execution_count": null,
      "id": "ba02f421-8b5a-4d17-8161-6d2978bcbc98",
      "metadata": {
        "id": "ba02f421-8b5a-4d17-8161-6d2978bcbc98"
      },
      "outputs": [],
      "source": [
        "d3 = {234234 : \"abc\"}"
      ]
    },
    {
      "cell_type": "code",
      "execution_count": null,
      "id": "58416be4-b2fb-4ca7-8e91-4306694f88fc",
      "metadata": {
        "id": "58416be4-b2fb-4ca7-8e91-4306694f88fc",
        "outputId": "80033673-3eb7-4600-ca1c-9576d4af13ed"
      },
      "outputs": [
        {
          "data": {
            "text/plain": [
              "{234234: 'abc'}"
            ]
          },
          "execution_count": 10,
          "metadata": {},
          "output_type": "execute_result"
        }
      ],
      "source": [
        "d3"
      ]
    },
    {
      "cell_type": "code",
      "execution_count": null,
      "id": "a6a3cca0-f8a1-46c2-8f61-ba54c928ae2c",
      "metadata": {
        "id": "a6a3cca0-f8a1-46c2-8f61-ba54c928ae2c"
      },
      "outputs": [],
      "source": [
        "d4 = {234.45 : \"abc\"}"
      ]
    },
    {
      "cell_type": "code",
      "execution_count": null,
      "id": "c0f574ed-a56d-46ab-bae6-c32756a7a9a2",
      "metadata": {
        "id": "c0f574ed-a56d-46ab-bae6-c32756a7a9a2",
        "outputId": "c427e353-4154-42ff-c2fe-d2352f37b083"
      },
      "outputs": [
        {
          "data": {
            "text/plain": [
              "{234.45: 'abc'}"
            ]
          },
          "execution_count": 12,
          "metadata": {},
          "output_type": "execute_result"
        }
      ],
      "source": [
        "d4"
      ]
    },
    {
      "cell_type": "code",
      "execution_count": null,
      "id": "cbde0921-f3dc-41aa-86b7-45bd05353382",
      "metadata": {
        "id": "cbde0921-f3dc-41aa-86b7-45bd05353382"
      },
      "outputs": [],
      "source": [
        "d5 = {True : \"abc\"}"
      ]
    },
    {
      "cell_type": "code",
      "execution_count": null,
      "id": "69898587-5796-4ded-a8de-0224bd98c1b1",
      "metadata": {
        "id": "69898587-5796-4ded-a8de-0224bd98c1b1",
        "outputId": "f0257b6a-e9c7-4aec-e25c-395889edda35"
      },
      "outputs": [
        {
          "data": {
            "text/plain": [
              "{True: 'abc'}"
            ]
          },
          "execution_count": 14,
          "metadata": {},
          "output_type": "execute_result"
        }
      ],
      "source": [
        "d5"
      ]
    },
    {
      "cell_type": "code",
      "execution_count": null,
      "id": "3a62712c-f609-4321-a5ef-025bc6fa434c",
      "metadata": {
        "id": "3a62712c-f609-4321-a5ef-025bc6fa434c",
        "outputId": "f5e10e69-5469-4fc4-acd8-398830ba6acc"
      },
      "outputs": [
        {
          "ename": "SyntaxError",
          "evalue": "incomplete input (36680248.py, line 1)",
          "output_type": "error",
          "traceback": [
            "\u001b[0;36m  Cell \u001b[0;32mIn[15], line 1\u001b[0;36m\u001b[0m\n\u001b[0;31m    d6 = {# : \"abc\"}\u001b[0m\n\u001b[0m                    ^\u001b[0m\n\u001b[0;31mSyntaxError\u001b[0m\u001b[0;31m:\u001b[0m incomplete input\n"
          ]
        }
      ],
      "source": [
        "d6 = {# : \"abc\"}"
      ]
    },
    {
      "cell_type": "code",
      "execution_count": null,
      "id": "1bc08c3d-008e-4b07-8f9e-0e997a29da66",
      "metadata": {
        "id": "1bc08c3d-008e-4b07-8f9e-0e997a29da66",
        "outputId": "3c1b5c1b-d4f5-46ae-88e2-2f9223c512e9"
      },
      "outputs": [
        {
          "ename": "SyntaxError",
          "evalue": "invalid syntax (183635709.py, line 1)",
          "output_type": "error",
          "traceback": [
            "\u001b[0;36m  Cell \u001b[0;32mIn[16], line 1\u001b[0;36m\u001b[0m\n\u001b[0;31m    d7 = {@ : \"abc\"}\u001b[0m\n\u001b[0m          ^\u001b[0m\n\u001b[0;31mSyntaxError\u001b[0m\u001b[0;31m:\u001b[0m invalid syntax\n"
          ]
        }
      ],
      "source": [
        "d7 = {@ : \"abc\"}"
      ]
    },
    {
      "cell_type": "code",
      "execution_count": null,
      "id": "befce4d7-cd45-4a95-ab90-4ce24802dd9d",
      "metadata": {
        "id": "befce4d7-cd45-4a95-ab90-4ce24802dd9d",
        "outputId": "27e94cef-e193-4842-955f-eb4e6e0b181d"
      },
      "outputs": [
        {
          "ename": "TypeError",
          "evalue": "unhashable type: 'list'",
          "output_type": "error",
          "traceback": [
            "\u001b[0;31m---------------------------------------------------------------------------\u001b[0m",
            "\u001b[0;31mTypeError\u001b[0m                                 Traceback (most recent call last)",
            "Cell \u001b[0;32mIn[17], line 1\u001b[0m\n\u001b[0;32m----> 1\u001b[0m d8 \u001b[38;5;241m=\u001b[39m {[\u001b[38;5;241m1\u001b[39m,\u001b[38;5;241m2\u001b[39m,\u001b[38;5;241m3\u001b[39m] :\u001b[38;5;124m\"\u001b[39m\u001b[38;5;124mabc\u001b[39m\u001b[38;5;124m\"\u001b[39m}\n",
            "\u001b[0;31mTypeError\u001b[0m: unhashable type: 'list'"
          ]
        }
      ],
      "source": [
        "d8 = {[1,2,3] :\"abc\"}"
      ]
    },
    {
      "cell_type": "code",
      "execution_count": null,
      "id": "f27f8c4a-a794-433c-84c1-9df323ea589e",
      "metadata": {
        "id": "f27f8c4a-a794-433c-84c1-9df323ea589e"
      },
      "outputs": [],
      "source": [
        "d9 = {(1,2,3) : \"abc\"}"
      ]
    },
    {
      "cell_type": "code",
      "execution_count": null,
      "id": "d4146528-fa01-4435-a05a-d48339c64ed3",
      "metadata": {
        "id": "d4146528-fa01-4435-a05a-d48339c64ed3",
        "outputId": "0a916758-2fff-4ff6-c369-4f223a29de8f"
      },
      "outputs": [
        {
          "data": {
            "text/plain": [
              "{(1, 2, 3): 'abc'}"
            ]
          },
          "execution_count": 19,
          "metadata": {},
          "output_type": "execute_result"
        }
      ],
      "source": [
        "d9"
      ]
    },
    {
      "cell_type": "code",
      "execution_count": null,
      "id": "7c5568a7-651b-46a6-8bd5-9af3f35c9a73",
      "metadata": {
        "id": "7c5568a7-651b-46a6-8bd5-9af3f35c9a73",
        "outputId": "27fc74b5-a52d-44ea-905b-4808bd177151"
      },
      "outputs": [
        {
          "ename": "TypeError",
          "evalue": "unhashable type: 'set'",
          "output_type": "error",
          "traceback": [
            "\u001b[0;31m---------------------------------------------------------------------------\u001b[0m",
            "\u001b[0;31mTypeError\u001b[0m                                 Traceback (most recent call last)",
            "Cell \u001b[0;32mIn[20], line 1\u001b[0m\n\u001b[0;32m----> 1\u001b[0m d10 \u001b[38;5;241m=\u001b[39m {{\u001b[38;5;241m1\u001b[39m,\u001b[38;5;241m2\u001b[39m,\u001b[38;5;241m3\u001b[39m} :\u001b[38;5;124m\"\u001b[39m\u001b[38;5;124mabc\u001b[39m\u001b[38;5;124m\"\u001b[39m} \n",
            "\u001b[0;31mTypeError\u001b[0m: unhashable type: 'set'"
          ]
        }
      ],
      "source": [
        "d10 = {{1,2,3} :\"abc\"}"
      ]
    },
    {
      "cell_type": "code",
      "execution_count": null,
      "id": "ebd2fec5-f953-446e-9665-d1a955e20819",
      "metadata": {
        "id": "ebd2fec5-f953-446e-9665-d1a955e20819",
        "outputId": "75ff69b9-d9d3-4ba2-8bf0-ba749ddd038a"
      },
      "outputs": [
        {
          "ename": "TypeError",
          "evalue": "unhashable type: 'dict'",
          "output_type": "error",
          "traceback": [
            "\u001b[0;31m---------------------------------------------------------------------------\u001b[0m",
            "\u001b[0;31mTypeError\u001b[0m                                 Traceback (most recent call last)",
            "Cell \u001b[0;32mIn[21], line 1\u001b[0m\n\u001b[0;32m----> 1\u001b[0m d11 \u001b[38;5;241m=\u001b[39m {{\u001b[38;5;124m\"\u001b[39m\u001b[38;5;124mkey\u001b[39m\u001b[38;5;124m\"\u001b[39m:\u001b[38;5;241m234\u001b[39m} : \u001b[38;5;124m\"\u001b[39m\u001b[38;5;124mabc\u001b[39m\u001b[38;5;124m\"\u001b[39m}\n",
            "\u001b[0;31mTypeError\u001b[0m: unhashable type: 'dict'"
          ]
        }
      ],
      "source": [
        "d11 = {{\"key\":234} : \"abc\"}"
      ]
    },
    {
      "cell_type": "code",
      "execution_count": null,
      "id": "298e14ef-657e-4e64-a7c8-9788e0df9251",
      "metadata": {
        "id": "298e14ef-657e-4e64-a7c8-9788e0df9251"
      },
      "outputs": [],
      "source": [
        "d12 = {\"course_name\" : [\"data science master\" , \"web dev\" ,\"java with dsa and system Design\"]}"
      ]
    },
    {
      "cell_type": "code",
      "execution_count": null,
      "id": "4b27f8bc-5d8c-418f-acdf-890384d11624",
      "metadata": {
        "id": "4b27f8bc-5d8c-418f-acdf-890384d11624",
        "outputId": "27bebac9-0050-4914-bfa7-7741794f9c8e"
      },
      "outputs": [
        {
          "data": {
            "text/plain": [
              "{'course_name': ['data science master',\n",
              "  'web dev',\n",
              "  'java with dsa and system Design']}"
            ]
          },
          "execution_count": 23,
          "metadata": {},
          "output_type": "execute_result"
        }
      ],
      "source": [
        "d12"
      ]
    },
    {
      "cell_type": "code",
      "execution_count": null,
      "id": "5729faa7-d79a-4085-84c4-8b0bb94c89d1",
      "metadata": {
        "id": "5729faa7-d79a-4085-84c4-8b0bb94c89d1"
      },
      "outputs": [],
      "source": [
        "d13 = {\"key\" : (1,2,3,4,5)}"
      ]
    },
    {
      "cell_type": "code",
      "execution_count": null,
      "id": "4be9157b-f8e9-4f8f-96d3-599fe9c8b2fe",
      "metadata": {
        "id": "4be9157b-f8e9-4f8f-96d3-599fe9c8b2fe"
      },
      "outputs": [],
      "source": [
        "d14 = {\"key\" :{1,2,3,4}}"
      ]
    },
    {
      "cell_type": "code",
      "execution_count": null,
      "id": "252fa57f-4267-457a-9b22-de70fb5d6506",
      "metadata": {
        "id": "252fa57f-4267-457a-9b22-de70fb5d6506"
      },
      "outputs": [],
      "source": [
        "d15 = {\"key\" : {\"name\" : \"sudhanshu\" , \"class\" : \"DSM\"}}"
      ]
    },
    {
      "cell_type": "code",
      "execution_count": null,
      "id": "8de14c98-2ad4-4661-911b-93212c691e65",
      "metadata": {
        "id": "8de14c98-2ad4-4661-911b-93212c691e65",
        "outputId": "1b1dfb06-613f-44c7-cacc-e40ad7289abd"
      },
      "outputs": [
        {
          "data": {
            "text/plain": [
              "{'key': {'name': 'sudhanshu', 'class': 'DSM'}}"
            ]
          },
          "execution_count": 27,
          "metadata": {},
          "output_type": "execute_result"
        }
      ],
      "source": [
        "d15"
      ]
    },
    {
      "cell_type": "code",
      "execution_count": null,
      "id": "2137aec2-fb68-45c3-bb71-7d8337cfe47f",
      "metadata": {
        "id": "2137aec2-fb68-45c3-bb71-7d8337cfe47f"
      },
      "outputs": [],
      "source": [
        "d16 = {\"batch_name\" :[\"data science masters\" , \"web dev\" , \"JDS\"] , \"start_date\": (28,14,21),\"mentor_name\" : {\"krish naik\", \"sudhanshu\" , \"hitesh\", \"anurag\" , \"navin\",\"hayder\"}}"
      ]
    },
    {
      "cell_type": "code",
      "execution_count": null,
      "id": "835e84fd-992a-4806-801a-9d1fa4d2e1bf",
      "metadata": {
        "id": "835e84fd-992a-4806-801a-9d1fa4d2e1bf",
        "outputId": "d93af30a-7f04-422f-947a-6740e4a88932"
      },
      "outputs": [
        {
          "data": {
            "text/plain": [
              "{'batch_name': ['data science masters', 'web dev', 'JDS'],\n",
              " 'start_date': (28, 14, 21),\n",
              " 'mentor_name': {'anurag',\n",
              "  'hayder',\n",
              "  'hitesh',\n",
              "  'krish naik',\n",
              "  'navin',\n",
              "  'sudhanshu'}}"
            ]
          },
          "execution_count": 31,
          "metadata": {},
          "output_type": "execute_result"
        }
      ],
      "source": [
        "d16"
      ]
    },
    {
      "cell_type": "code",
      "execution_count": null,
      "id": "baf3dce9-0dda-416a-8200-842666d777a6",
      "metadata": {
        "id": "baf3dce9-0dda-416a-8200-842666d777a6"
      },
      "outputs": [],
      "source": [
        "d16[\"timing\"] = (8 , 8 ,8)"
      ]
    },
    {
      "cell_type": "code",
      "execution_count": null,
      "id": "29b85686-3dc4-4c2a-916e-7411b2bb1545",
      "metadata": {
        "id": "29b85686-3dc4-4c2a-916e-7411b2bb1545",
        "outputId": "97f95af8-177d-4b8f-b607-e55f8d982418"
      },
      "outputs": [
        {
          "data": {
            "text/plain": [
              "{'batch_name': ['data science masters', 'web dev', 'JDS'],\n",
              " 'start_date': (28, 14, 21),\n",
              " 'mentor_name': {'anurag',\n",
              "  'hayder',\n",
              "  'hitesh',\n",
              "  'krish naik',\n",
              "  'navin',\n",
              "  'sudhanshu'},\n",
              " 'timing': (8, 8, 8)}"
            ]
          },
          "execution_count": 33,
          "metadata": {},
          "output_type": "execute_result"
        }
      ],
      "source": [
        "d16"
      ]
    },
    {
      "cell_type": "code",
      "execution_count": null,
      "id": "d5fb802b-c422-4211-a05a-33692577f2e5",
      "metadata": {
        "id": "d5fb802b-c422-4211-a05a-33692577f2e5",
        "outputId": "eb806374-f7fb-4822-951c-8cb54b793f3b"
      },
      "outputs": [
        {
          "data": {
            "text/plain": [
              "['data science masters', 'web dev', 'JDS']"
            ]
          },
          "execution_count": 34,
          "metadata": {},
          "output_type": "execute_result"
        }
      ],
      "source": [
        "d16['batch_name']"
      ]
    },
    {
      "cell_type": "code",
      "execution_count": null,
      "id": "ab27303e-2127-4821-9077-a1d9c01f3aa4",
      "metadata": {
        "id": "ab27303e-2127-4821-9077-a1d9c01f3aa4",
        "outputId": "42e56e6b-0c57-4411-fdc1-1ba0d6130133"
      },
      "outputs": [
        {
          "data": {
            "text/plain": [
              "set"
            ]
          },
          "execution_count": 36,
          "metadata": {},
          "output_type": "execute_result"
        }
      ],
      "source": [
        "type(d16['mentor_name'])"
      ]
    },
    {
      "cell_type": "code",
      "execution_count": null,
      "id": "141b9bef-44c2-421a-b185-d5cbbe56afbc",
      "metadata": {
        "id": "141b9bef-44c2-421a-b185-d5cbbe56afbc",
        "outputId": "a02ac727-f17c-462f-f0e4-b581e405905f"
      },
      "outputs": [
        {
          "ename": "KeyError",
          "evalue": "'key'",
          "output_type": "error",
          "traceback": [
            "\u001b[0;31m---------------------------------------------------------------------------\u001b[0m",
            "\u001b[0;31mKeyError\u001b[0m                                  Traceback (most recent call last)",
            "Cell \u001b[0;32mIn[37], line 1\u001b[0m\n\u001b[0;32m----> 1\u001b[0m \u001b[43md16\u001b[49m\u001b[43m[\u001b[49m\u001b[38;5;124;43m\"\u001b[39;49m\u001b[38;5;124;43mkey\u001b[39;49m\u001b[38;5;124;43m\"\u001b[39;49m\u001b[43m]\u001b[49m\n",
            "\u001b[0;31mKeyError\u001b[0m: 'key'"
          ]
        }
      ],
      "source": [
        "d16[\"key\"]"
      ]
    },
    {
      "cell_type": "code",
      "execution_count": null,
      "id": "7e6c702a-cc0e-494f-b2bd-e4f5c6c6e612",
      "metadata": {
        "id": "7e6c702a-cc0e-494f-b2bd-e4f5c6c6e612"
      },
      "outputs": [],
      "source": [
        "d16[\"name\"]  = \"sudhanshu\""
      ]
    },
    {
      "cell_type": "code",
      "execution_count": null,
      "id": "f763481a-dc7b-4274-9acb-3280c8bd116f",
      "metadata": {
        "id": "f763481a-dc7b-4274-9acb-3280c8bd116f",
        "outputId": "3869debc-9a91-42c0-b461-cfb8204ca0b3"
      },
      "outputs": [
        {
          "data": {
            "text/plain": [
              "{'batch_name': ['data science masters', 'web dev', 'JDS'],\n",
              " 'start_date': (28, 14, 21),\n",
              " 'mentor_name': {'anurag',\n",
              "  'hayder',\n",
              "  'hitesh',\n",
              "  'krish naik',\n",
              "  'navin',\n",
              "  'sudhanshu'},\n",
              " 'timing': (8, 8, 8),\n",
              " 'name': 'sudhanshu'}"
            ]
          },
          "execution_count": 41,
          "metadata": {},
          "output_type": "execute_result"
        }
      ],
      "source": [
        "d16"
      ]
    },
    {
      "cell_type": "code",
      "execution_count": null,
      "id": "07aeead2-d0fa-4862-a843-96d6de25ae4c",
      "metadata": {
        "id": "07aeead2-d0fa-4862-a843-96d6de25ae4c",
        "outputId": "0d9a39e8-64ee-424c-85b2-7c1355a97595"
      },
      "outputs": [
        {
          "data": {
            "text/plain": [
              "'SUDHANSHU'"
            ]
          },
          "execution_count": 43,
          "metadata": {},
          "output_type": "execute_result"
        }
      ],
      "source": [
        "d16['name'].upper()"
      ]
    },
    {
      "cell_type": "code",
      "execution_count": null,
      "id": "080301e6-c1fb-4f23-bfff-455d480cafeb",
      "metadata": {
        "id": "080301e6-c1fb-4f23-bfff-455d480cafeb",
        "outputId": "6106dde1-d309-4025-84d6-a1affd2b7328"
      },
      "outputs": [
        {
          "data": {
            "text/plain": [
              "{'key': {'name': 'sudhanshu', 'class': 'DSM'}}"
            ]
          },
          "execution_count": 45,
          "metadata": {},
          "output_type": "execute_result"
        }
      ],
      "source": [
        "d15"
      ]
    },
    {
      "cell_type": "code",
      "execution_count": null,
      "id": "1ebab336-c440-489e-8593-b2f430ac2c10",
      "metadata": {
        "id": "1ebab336-c440-489e-8593-b2f430ac2c10",
        "outputId": "6d7d28b0-16aa-4215-a345-f63fd6f2715d"
      },
      "outputs": [
        {
          "data": {
            "text/plain": [
              "{'name': 'sudhanshu', 'class': 'DSM'}"
            ]
          },
          "execution_count": 46,
          "metadata": {},
          "output_type": "execute_result"
        }
      ],
      "source": [
        "d15['key']"
      ]
    },
    {
      "cell_type": "code",
      "execution_count": null,
      "id": "e321904c-e094-47d4-9a8f-0e183d2f94ef",
      "metadata": {
        "id": "e321904c-e094-47d4-9a8f-0e183d2f94ef",
        "outputId": "1d829538-21eb-490c-8d1b-b5000c296da2"
      },
      "outputs": [
        {
          "data": {
            "text/plain": [
              "dict"
            ]
          },
          "execution_count": 47,
          "metadata": {},
          "output_type": "execute_result"
        }
      ],
      "source": [
        "type(d15['key'])"
      ]
    },
    {
      "cell_type": "code",
      "execution_count": null,
      "id": "4707fb38-edaf-4015-931a-133efe641e34",
      "metadata": {
        "id": "4707fb38-edaf-4015-931a-133efe641e34",
        "outputId": "42a7ad0f-d490-4ac0-e40e-17664b5589af"
      },
      "outputs": [
        {
          "data": {
            "text/plain": [
              "'DSM'"
            ]
          },
          "execution_count": 48,
          "metadata": {},
          "output_type": "execute_result"
        }
      ],
      "source": [
        "d15['key']['class']"
      ]
    },
    {
      "cell_type": "code",
      "execution_count": null,
      "id": "921ad7e8-0924-44d7-897e-c51896ef698f",
      "metadata": {
        "id": "921ad7e8-0924-44d7-897e-c51896ef698f",
        "outputId": "daa663e3-f969-4b1c-8833-766fe89f2e65"
      },
      "outputs": [
        {
          "data": {
            "text/plain": [
              "{'key': {'name': 'sudhanshu', 'class': 'DSM'}}"
            ]
          },
          "execution_count": 49,
          "metadata": {},
          "output_type": "execute_result"
        }
      ],
      "source": [
        "d15"
      ]
    },
    {
      "cell_type": "code",
      "execution_count": null,
      "id": "812864c8-a425-498d-88a6-aca96ca006c6",
      "metadata": {
        "id": "812864c8-a425-498d-88a6-aca96ca006c6"
      },
      "outputs": [],
      "source": [
        "d15[\"key1\"] = \"abc\""
      ]
    },
    {
      "cell_type": "code",
      "execution_count": null,
      "id": "39e719d9-5dcf-4409-9c14-754827698171",
      "metadata": {
        "id": "39e719d9-5dcf-4409-9c14-754827698171",
        "outputId": "93049ea3-67de-4c7d-eec4-cacc61730553"
      },
      "outputs": [
        {
          "data": {
            "text/plain": [
              "{'key': {'name': 'sudhanshu', 'class': 'DSM'}, 'key1': 'abc'}"
            ]
          },
          "execution_count": 52,
          "metadata": {},
          "output_type": "execute_result"
        }
      ],
      "source": [
        "d15"
      ]
    },
    {
      "cell_type": "code",
      "execution_count": null,
      "id": "1bd718b2-4f13-482c-86ae-1aef3cd76151",
      "metadata": {
        "id": "1bd718b2-4f13-482c-86ae-1aef3cd76151"
      },
      "outputs": [],
      "source": [
        "del d15['key1']"
      ]
    },
    {
      "cell_type": "code",
      "execution_count": null,
      "id": "c334b28a-79dc-4c67-a8f3-497c5ca2827a",
      "metadata": {
        "id": "c334b28a-79dc-4c67-a8f3-497c5ca2827a",
        "outputId": "9e13f519-1c00-40a2-b7e7-5345914ef830"
      },
      "outputs": [
        {
          "data": {
            "text/plain": [
              "{'key': {'name': 'sudhanshu', 'class': 'DSM'}}"
            ]
          },
          "execution_count": 54,
          "metadata": {},
          "output_type": "execute_result"
        }
      ],
      "source": [
        "d15"
      ]
    },
    {
      "cell_type": "code",
      "execution_count": null,
      "id": "c507919c-5d86-48c7-95e1-02e2c960c86b",
      "metadata": {
        "id": "c507919c-5d86-48c7-95e1-02e2c960c86b"
      },
      "outputs": [],
      "source": [
        "d15.clear()"
      ]
    },
    {
      "cell_type": "code",
      "execution_count": null,
      "id": "c732b69b-516a-4c45-8223-5216460de583",
      "metadata": {
        "id": "c732b69b-516a-4c45-8223-5216460de583",
        "outputId": "f5ee09d7-6021-418a-bb35-f952f86421b2"
      },
      "outputs": [
        {
          "data": {
            "text/plain": [
              "{}"
            ]
          },
          "execution_count": 56,
          "metadata": {},
          "output_type": "execute_result"
        }
      ],
      "source": [
        "d15"
      ]
    },
    {
      "cell_type": "code",
      "execution_count": null,
      "id": "f2235d2a-8dc5-4e56-9bae-b07f616e819d",
      "metadata": {
        "id": "f2235d2a-8dc5-4e56-9bae-b07f616e819d",
        "outputId": "dd54bbbf-371c-42aa-aa81-ce7457ba9b8e"
      },
      "outputs": [
        {
          "data": {
            "text/plain": [
              "5"
            ]
          },
          "execution_count": 57,
          "metadata": {},
          "output_type": "execute_result"
        }
      ],
      "source": [
        "len(d16)"
      ]
    },
    {
      "cell_type": "code",
      "execution_count": null,
      "id": "32c0c83d-aaa7-4b9a-920d-b4ee0a716ba7",
      "metadata": {
        "id": "32c0c83d-aaa7-4b9a-920d-b4ee0a716ba7",
        "outputId": "43268fa8-6daa-4b01-c94b-3c0051317266"
      },
      "outputs": [
        {
          "data": {
            "text/plain": [
              "{'batch_name': ['data science masters', 'web dev', 'JDS'],\n",
              " 'start_date': (28, 14, 21),\n",
              " 'mentor_name': {'anurag',\n",
              "  'hayder',\n",
              "  'hitesh',\n",
              "  'krish naik',\n",
              "  'navin',\n",
              "  'sudhanshu'},\n",
              " 'timing': (8, 8, 8),\n",
              " 'name': 'sudhanshu'}"
            ]
          },
          "execution_count": 58,
          "metadata": {},
          "output_type": "execute_result"
        }
      ],
      "source": [
        "d16"
      ]
    },
    {
      "cell_type": "code",
      "execution_count": null,
      "id": "5d2fcf87-7440-46e9-9958-adc264cce686",
      "metadata": {
        "id": "5d2fcf87-7440-46e9-9958-adc264cce686",
        "outputId": "cb9518ca-022e-4373-821b-73da9e6d8c07"
      },
      "outputs": [
        {
          "data": {
            "text/plain": [
              "dict_keys(['batch_name', 'start_date', 'mentor_name', 'timing', 'name'])"
            ]
          },
          "execution_count": 59,
          "metadata": {},
          "output_type": "execute_result"
        }
      ],
      "source": [
        "d16.keys()"
      ]
    },
    {
      "cell_type": "code",
      "execution_count": null,
      "id": "5b16bf2a-ab7c-4d78-82f1-9e7a3fd69832",
      "metadata": {
        "id": "5b16bf2a-ab7c-4d78-82f1-9e7a3fd69832",
        "outputId": "36d4df85-efcc-4345-fa50-09904a832f49"
      },
      "outputs": [
        {
          "data": {
            "text/plain": [
              "dict_values([['data science masters', 'web dev', 'JDS'], (28, 14, 21), {'anurag', 'sudhanshu', 'hayder', 'navin', 'krish naik', 'hitesh'}, (8, 8, 8), 'sudhanshu'])"
            ]
          },
          "execution_count": 60,
          "metadata": {},
          "output_type": "execute_result"
        }
      ],
      "source": [
        "d16.values()"
      ]
    },
    {
      "cell_type": "code",
      "execution_count": null,
      "id": "d2fc5147-49ff-44cc-af6b-aaf149e3098c",
      "metadata": {
        "id": "d2fc5147-49ff-44cc-af6b-aaf149e3098c",
        "outputId": "0ba08eeb-91ff-4519-c6be-8f4f20d0998a"
      },
      "outputs": [
        {
          "data": {
            "text/plain": [
              "[['data science masters', 'web dev', 'JDS'],\n",
              " (28, 14, 21),\n",
              " {'anurag', 'hayder', 'hitesh', 'krish naik', 'navin', 'sudhanshu'},\n",
              " (8, 8, 8),\n",
              " 'sudhanshu']"
            ]
          },
          "execution_count": 61,
          "metadata": {},
          "output_type": "execute_result"
        }
      ],
      "source": [
        "list(d16.values())"
      ]
    },
    {
      "cell_type": "code",
      "execution_count": null,
      "id": "84ccc888-a7a8-40ea-9bc9-4e60b0c26408",
      "metadata": {
        "id": "84ccc888-a7a8-40ea-9bc9-4e60b0c26408",
        "outputId": "14198648-5a6c-4ef6-d9d0-99c6b41a9bed"
      },
      "outputs": [
        {
          "data": {
            "text/plain": [
              "['batch_name', 'start_date', 'mentor_name', 'timing', 'name']"
            ]
          },
          "execution_count": 62,
          "metadata": {},
          "output_type": "execute_result"
        }
      ],
      "source": [
        "list(d16.keys())"
      ]
    },
    {
      "cell_type": "code",
      "execution_count": null,
      "id": "7bf7fc4a-b25c-4134-abfc-cdc8c91c643d",
      "metadata": {
        "id": "7bf7fc4a-b25c-4134-abfc-cdc8c91c643d",
        "outputId": "9dce4741-96cc-43e2-e6c9-a4dc6ae557fc"
      },
      "outputs": [
        {
          "data": {
            "text/plain": [
              "[('batch_name', ['data science masters', 'web dev', 'JDS']),\n",
              " ('start_date', (28, 14, 21)),\n",
              " ('mentor_name',\n",
              "  {'anurag', 'hayder', 'hitesh', 'krish naik', 'navin', 'sudhanshu'}),\n",
              " ('timing', (8, 8, 8)),\n",
              " ('name', 'sudhanshu')]"
            ]
          },
          "execution_count": 64,
          "metadata": {},
          "output_type": "execute_result"
        }
      ],
      "source": [
        "list(d16.items())"
      ]
    },
    {
      "cell_type": "code",
      "execution_count": null,
      "id": "0b18d17c-a8d3-4e5d-ac4e-ebab7a38f816",
      "metadata": {
        "id": "0b18d17c-a8d3-4e5d-ac4e-ebab7a38f816",
        "outputId": "3938556b-fbd5-4b97-8d7e-8c80efeb45c6"
      },
      "outputs": [
        {
          "data": {
            "text/plain": [
              "{'batch_name': ['data science masters', 'web dev', 'JDS'],\n",
              " 'start_date': (28, 14, 21),\n",
              " 'mentor_name': {'anurag',\n",
              "  'hayder',\n",
              "  'hitesh',\n",
              "  'krish naik',\n",
              "  'navin',\n",
              "  'sudhanshu'},\n",
              " 'timing': (8, 8, 8),\n",
              " 'name': 'sudhanshu'}"
            ]
          },
          "execution_count": 65,
          "metadata": {},
          "output_type": "execute_result"
        }
      ],
      "source": [
        "d16"
      ]
    },
    {
      "cell_type": "code",
      "execution_count": null,
      "id": "dae688e2-d88b-429c-8ded-4b320e949e45",
      "metadata": {
        "id": "dae688e2-d88b-429c-8ded-4b320e949e45"
      },
      "outputs": [],
      "source": [
        "d17 = d16.copy()"
      ]
    },
    {
      "cell_type": "code",
      "execution_count": null,
      "id": "45f38137-fdcb-45cb-84b8-385b74e7ffeb",
      "metadata": {
        "id": "45f38137-fdcb-45cb-84b8-385b74e7ffeb",
        "outputId": "5db92b4b-a1f0-4780-a1a6-b2b048968950"
      },
      "outputs": [
        {
          "data": {
            "text/plain": [
              "{'batch_name': ['data science masters', 'web dev', 'JDS'],\n",
              " 'start_date': (28, 14, 21),\n",
              " 'mentor_name': {'anurag',\n",
              "  'hayder',\n",
              "  'hitesh',\n",
              "  'krish naik',\n",
              "  'navin',\n",
              "  'sudhanshu'},\n",
              " 'timing': (8, 8, 8),\n",
              " 'name': 'sudhanshu'}"
            ]
          },
          "execution_count": 67,
          "metadata": {},
          "output_type": "execute_result"
        }
      ],
      "source": [
        "d17"
      ]
    },
    {
      "cell_type": "code",
      "execution_count": null,
      "id": "a515ff20-bfca-48c2-b434-c83f70b4a314",
      "metadata": {
        "id": "a515ff20-bfca-48c2-b434-c83f70b4a314"
      },
      "outputs": [],
      "source": [
        "del d16['name']"
      ]
    },
    {
      "cell_type": "code",
      "execution_count": null,
      "id": "bdc63c30-f1da-4a91-bc9e-f2ca893e55c9",
      "metadata": {
        "id": "bdc63c30-f1da-4a91-bc9e-f2ca893e55c9",
        "outputId": "b7051302-31e5-4f48-bcce-2f20a4015030"
      },
      "outputs": [
        {
          "data": {
            "text/plain": [
              "{'batch_name': ['data science masters', 'web dev', 'JDS'],\n",
              " 'start_date': (28, 14, 21),\n",
              " 'mentor_name': {'anurag',\n",
              "  'hayder',\n",
              "  'hitesh',\n",
              "  'krish naik',\n",
              "  'navin',\n",
              "  'sudhanshu'},\n",
              " 'timing': (8, 8, 8)}"
            ]
          },
          "execution_count": 71,
          "metadata": {},
          "output_type": "execute_result"
        }
      ],
      "source": [
        "d16"
      ]
    },
    {
      "cell_type": "code",
      "execution_count": null,
      "id": "d19802a8-9f6d-4f08-a1aa-f5cce99777ca",
      "metadata": {
        "id": "d19802a8-9f6d-4f08-a1aa-f5cce99777ca",
        "outputId": "a01aaa53-be0b-4104-f7f0-13da1417b46c"
      },
      "outputs": [
        {
          "data": {
            "text/plain": [
              "{'batch_name': ['data science masters', 'web dev', 'JDS'],\n",
              " 'start_date': (28, 14, 21),\n",
              " 'mentor_name': {'anurag',\n",
              "  'hayder',\n",
              "  'hitesh',\n",
              "  'krish naik',\n",
              "  'navin',\n",
              "  'sudhanshu'},\n",
              " 'timing': (8, 8, 8),\n",
              " 'name': 'sudhanshu'}"
            ]
          },
          "execution_count": 72,
          "metadata": {},
          "output_type": "execute_result"
        }
      ],
      "source": [
        "d17"
      ]
    },
    {
      "cell_type": "code",
      "execution_count": null,
      "id": "a1d97415-7d80-4495-8338-54bc17fec4bb",
      "metadata": {
        "id": "a1d97415-7d80-4495-8338-54bc17fec4bb"
      },
      "outputs": [],
      "source": [
        "d18 = d16"
      ]
    },
    {
      "cell_type": "code",
      "execution_count": null,
      "id": "6f621697-0638-4c44-982f-6142ecec9fb6",
      "metadata": {
        "id": "6f621697-0638-4c44-982f-6142ecec9fb6",
        "outputId": "4432eaf5-0e78-4593-c071-3d272e6f1750"
      },
      "outputs": [
        {
          "data": {
            "text/plain": [
              "{'batch_name': ['data science masters', 'web dev', 'JDS'],\n",
              " 'start_date': (28, 14, 21),\n",
              " 'mentor_name': {'anurag',\n",
              "  'hayder',\n",
              "  'hitesh',\n",
              "  'krish naik',\n",
              "  'navin',\n",
              "  'sudhanshu'},\n",
              " 'timing': (8, 8, 8)}"
            ]
          },
          "execution_count": 73,
          "metadata": {},
          "output_type": "execute_result"
        }
      ],
      "source": [
        "d18"
      ]
    },
    {
      "cell_type": "code",
      "execution_count": null,
      "id": "0dd83fa8-c47b-47c0-8cf4-7e4aa88f80e3",
      "metadata": {
        "id": "0dd83fa8-c47b-47c0-8cf4-7e4aa88f80e3",
        "outputId": "2e48cd03-d332-4310-e51e-8ce54eb69db6"
      },
      "outputs": [
        {
          "data": {
            "text/plain": [
              "{'batch_name': ['data science masters', 'web dev', 'JDS'],\n",
              " 'start_date': (28, 14, 21),\n",
              " 'mentor_name': {'anurag',\n",
              "  'hayder',\n",
              "  'hitesh',\n",
              "  'krish naik',\n",
              "  'navin',\n",
              "  'sudhanshu'},\n",
              " 'timing': (8, 8, 8)}"
            ]
          },
          "execution_count": 74,
          "metadata": {},
          "output_type": "execute_result"
        }
      ],
      "source": [
        "d16"
      ]
    },
    {
      "cell_type": "code",
      "execution_count": null,
      "id": "5ef2ab57-4cce-4ba9-b847-47f0e520c09d",
      "metadata": {
        "id": "5ef2ab57-4cce-4ba9-b847-47f0e520c09d",
        "outputId": "a7febce3-ed9e-4bf9-9525-93eee1cf2434"
      },
      "outputs": [
        {
          "ename": "TypeError",
          "evalue": "pop expected at least 1 argument, got 0",
          "output_type": "error",
          "traceback": [
            "\u001b[0;31m---------------------------------------------------------------------------\u001b[0m",
            "\u001b[0;31mTypeError\u001b[0m                                 Traceback (most recent call last)",
            "Cell \u001b[0;32mIn[75], line 1\u001b[0m\n\u001b[0;32m----> 1\u001b[0m \u001b[43md16\u001b[49m\u001b[38;5;241;43m.\u001b[39;49m\u001b[43mpop\u001b[49m\u001b[43m(\u001b[49m\u001b[43m)\u001b[49m\n",
            "\u001b[0;31mTypeError\u001b[0m: pop expected at least 1 argument, got 0"
          ]
        }
      ],
      "source": [
        "d16.pop()"
      ]
    },
    {
      "cell_type": "code",
      "execution_count": null,
      "id": "63d46c51-53f4-41ce-8803-ef9434aab714",
      "metadata": {
        "id": "63d46c51-53f4-41ce-8803-ef9434aab714",
        "outputId": "5880337d-5243-48e3-fc9e-0a54905c8180"
      },
      "outputs": [
        {
          "data": {
            "text/plain": [
              "(8, 8, 8)"
            ]
          },
          "execution_count": 76,
          "metadata": {},
          "output_type": "execute_result"
        }
      ],
      "source": [
        "d16.pop('timing')"
      ]
    },
    {
      "cell_type": "code",
      "execution_count": null,
      "id": "f8fe9a1c-fa43-485f-bd2e-b80c805e05e4",
      "metadata": {
        "id": "f8fe9a1c-fa43-485f-bd2e-b80c805e05e4",
        "outputId": "6f23afea-9296-47be-9d57-e4bb37875d83"
      },
      "outputs": [
        {
          "data": {
            "text/plain": [
              "{'batch_name': ['data science masters', 'web dev', 'JDS'],\n",
              " 'start_date': (28, 14, 21),\n",
              " 'mentor_name': {'anurag',\n",
              "  'hayder',\n",
              "  'hitesh',\n",
              "  'krish naik',\n",
              "  'navin',\n",
              "  'sudhanshu'}}"
            ]
          },
          "execution_count": 77,
          "metadata": {},
          "output_type": "execute_result"
        }
      ],
      "source": [
        "d16"
      ]
    },
    {
      "cell_type": "code",
      "execution_count": null,
      "id": "e2c4637d-ad39-4120-95ed-dc65e1b40a1c",
      "metadata": {
        "id": "e2c4637d-ad39-4120-95ed-dc65e1b40a1c",
        "outputId": "bb405fe3-04e0-492e-924b-fd205dfb5b35"
      },
      "outputs": [
        {
          "data": {
            "text/plain": [
              "{'anurag', 'hayder', 'hitesh', 'krish naik', 'navin', 'sudhanshu'}"
            ]
          },
          "execution_count": 78,
          "metadata": {},
          "output_type": "execute_result"
        }
      ],
      "source": [
        "d16.pop('mentor_name')"
      ]
    },
    {
      "cell_type": "code",
      "execution_count": null,
      "id": "6fa660e1-4447-46f9-b131-74b3d5eed4c7",
      "metadata": {
        "id": "6fa660e1-4447-46f9-b131-74b3d5eed4c7",
        "outputId": "ae94fc7e-7751-4569-d91c-ac02ef1fd353"
      },
      "outputs": [
        {
          "data": {
            "text/plain": [
              "{'batch_name': ['data science masters', 'web dev', 'JDS'],\n",
              " 'start_date': (28, 14, 21)}"
            ]
          },
          "execution_count": 79,
          "metadata": {},
          "output_type": "execute_result"
        }
      ],
      "source": [
        "d16"
      ]
    },
    {
      "cell_type": "code",
      "execution_count": null,
      "id": "627febc5-7595-48a2-9b3b-9f5c026c4e4c",
      "metadata": {
        "id": "627febc5-7595-48a2-9b3b-9f5c026c4e4c",
        "outputId": "72fd8390-def1-486d-9078-53f5513cfb30"
      },
      "outputs": [
        {
          "data": {
            "text/plain": [
              "{1: ('a', 'b', 'c'), 2: ('a', 'b', 'c'), 3: ('a', 'b', 'c')}"
            ]
          },
          "execution_count": 80,
          "metadata": {},
          "output_type": "execute_result"
        }
      ],
      "source": [
        "d.fromkeys((1,2,3) , ('a','b','c'))"
      ]
    },
    {
      "cell_type": "code",
      "execution_count": null,
      "id": "9ff1a27b-674d-4147-8f11-d562480b7d4d",
      "metadata": {
        "id": "9ff1a27b-674d-4147-8f11-d562480b7d4d"
      },
      "outputs": [],
      "source": [
        "d19 = {\"key1\" : \"value\" , \"key2\" : \"value2\"}\n",
        "d20 = {\"key3\" : \"value3\" , \"key4\" :\"value4\"}"
      ]
    },
    {
      "cell_type": "code",
      "execution_count": null,
      "id": "93cd01a1-c9ee-45f5-8b5f-1ae7c353a49a",
      "metadata": {
        "id": "93cd01a1-c9ee-45f5-8b5f-1ae7c353a49a",
        "outputId": "4a2433ce-78a3-4e8f-b3ab-8b74d79ba7a0"
      },
      "outputs": [
        {
          "data": {
            "text/plain": [
              "({'key1': 'value', 'key2': 'value2'}, {'key3': 'value3', 'key4': 'value4'})"
            ]
          },
          "execution_count": 82,
          "metadata": {},
          "output_type": "execute_result"
        }
      ],
      "source": [
        "(d19,d20)"
      ]
    },
    {
      "cell_type": "code",
      "execution_count": null,
      "id": "f4b4bc9f-c75c-4ba4-9502-dbb51a4c213b",
      "metadata": {
        "id": "f4b4bc9f-c75c-4ba4-9502-dbb51a4c213b"
      },
      "outputs": [],
      "source": [
        "d19.update(d20)"
      ]
    },
    {
      "cell_type": "code",
      "execution_count": null,
      "id": "4acfa6eb-a378-41c8-9ebe-839119e77916",
      "metadata": {
        "id": "4acfa6eb-a378-41c8-9ebe-839119e77916",
        "outputId": "c8edd7f0-c7ca-43d8-85ab-690b975ec74f"
      },
      "outputs": [
        {
          "data": {
            "text/plain": [
              "{'key1': 'value', 'key2': 'value2', 'key3': 'value3', 'key4': 'value4'}"
            ]
          },
          "execution_count": 84,
          "metadata": {},
          "output_type": "execute_result"
        }
      ],
      "source": [
        "d19"
      ]
    },
    {
      "cell_type": "code",
      "execution_count": null,
      "id": "f9f8c7e5-fd82-47e2-92fe-ab1be1e21916",
      "metadata": {
        "id": "f9f8c7e5-fd82-47e2-92fe-ab1be1e21916",
        "outputId": "47ac2bd6-ce64-4dc1-ebfa-7cad0b9ab619"
      },
      "outputs": [
        {
          "data": {
            "text/plain": [
              "{'key3': 'value3', 'key4': 'value4'}"
            ]
          },
          "execution_count": 85,
          "metadata": {},
          "output_type": "execute_result"
        }
      ],
      "source": [
        "d20"
      ]
    },
    {
      "cell_type": "code",
      "execution_count": null,
      "id": "606bbed3-8025-4205-ac93-8b02fd195484",
      "metadata": {
        "id": "606bbed3-8025-4205-ac93-8b02fd195484"
      },
      "outputs": [],
      "source": [
        "d20.update(d19)"
      ]
    },
    {
      "cell_type": "code",
      "execution_count": null,
      "id": "f5ad9e0b-74ac-49c6-b5a4-8f3b33f35642",
      "metadata": {
        "id": "f5ad9e0b-74ac-49c6-b5a4-8f3b33f35642",
        "outputId": "6bccb722-760b-442a-b7cd-bff6172049bf"
      },
      "outputs": [
        {
          "data": {
            "text/plain": [
              "{'key3': 'value3', 'key4': 'value4', 'key1': 'value', 'key2': 'value2'}"
            ]
          },
          "execution_count": 87,
          "metadata": {},
          "output_type": "execute_result"
        }
      ],
      "source": [
        "d20"
      ]
    },
    {
      "cell_type": "code",
      "execution_count": null,
      "id": "c1444366-3cdc-4eab-8d0b-17c72c57f262",
      "metadata": {
        "id": "c1444366-3cdc-4eab-8d0b-17c72c57f262"
      },
      "outputs": [],
      "source": [
        "d20.get(\"sudh\")"
      ]
    },
    {
      "cell_type": "code",
      "execution_count": null,
      "id": "4c391885-8935-4578-92ff-2238e4e93ec3",
      "metadata": {
        "id": "4c391885-8935-4578-92ff-2238e4e93ec3",
        "outputId": "f6c2d18f-abb9-410c-9724-c1f0b92843a5"
      },
      "outputs": [
        {
          "data": {
            "text/plain": [
              "'value3'"
            ]
          },
          "execution_count": 90,
          "metadata": {},
          "output_type": "execute_result"
        }
      ],
      "source": [
        "d20.get(\"key3\")"
      ]
    },
    {
      "cell_type": "code",
      "execution_count": null,
      "id": "5056dde6-b18b-4fea-8a9d-a804ab65e5f9",
      "metadata": {
        "id": "5056dde6-b18b-4fea-8a9d-a804ab65e5f9",
        "outputId": "954111f4-02d3-4b9b-b524-cc7130b7bfb1"
      },
      "outputs": [
        {
          "data": {
            "text/plain": [
              "'value3'"
            ]
          },
          "execution_count": 91,
          "metadata": {},
          "output_type": "execute_result"
        }
      ],
      "source": [
        "d20[\"key3\"]"
      ]
    },
    {
      "cell_type": "code",
      "execution_count": null,
      "id": "d03d4933-a2c4-49cc-b089-a825f481ff57",
      "metadata": {
        "id": "d03d4933-a2c4-49cc-b089-a825f481ff57",
        "outputId": "4525f7d8-402f-4275-9768-a9c945c7920d"
      },
      "outputs": [
        {
          "ename": "KeyError",
          "evalue": "'sudh'",
          "output_type": "error",
          "traceback": [
            "\u001b[0;31m---------------------------------------------------------------------------\u001b[0m",
            "\u001b[0;31mKeyError\u001b[0m                                  Traceback (most recent call last)",
            "Cell \u001b[0;32mIn[92], line 1\u001b[0m\n\u001b[0;32m----> 1\u001b[0m \u001b[43md20\u001b[49m\u001b[43m[\u001b[49m\u001b[38;5;124;43m\"\u001b[39;49m\u001b[38;5;124;43msudh\u001b[39;49m\u001b[38;5;124;43m\"\u001b[39;49m\u001b[43m]\u001b[49m\n",
            "\u001b[0;31mKeyError\u001b[0m: 'sudh'"
          ]
        }
      ],
      "source": [
        "d20[\"sudh\"]"
      ]
    },
    {
      "cell_type": "markdown",
      "id": "f3cdefe5-89c2-497e-802f-69232ab3eb0d",
      "metadata": {
        "id": "f3cdefe5-89c2-497e-802f-69232ab3eb0d"
      },
      "source": [
        "Dictionary Comprehensions"
      ]
    },
    {
      "cell_type": "code",
      "execution_count": null,
      "id": "cbec9e65-e344-427e-80b5-dd806acf0dbe",
      "metadata": {
        "id": "cbec9e65-e344-427e-80b5-dd806acf0dbe",
        "outputId": "d6496af5-9166-4f6e-dab0-c8dafbf02701"
      },
      "outputs": [
        {
          "data": {
            "text/plain": [
              "{1: 1, 2: 4, 3: 9, 4: 16, 5: 25, 6: 36, 7: 49, 8: 64, 9: 81, 10: 100}"
            ]
          },
          "execution_count": 94,
          "metadata": {},
          "output_type": "execute_result"
        }
      ],
      "source": [
        "{i : i**2 for i in range(1,11)}"
      ]
    },
    {
      "cell_type": "code",
      "execution_count": null,
      "id": "5e69a7a4-9f4f-4e4a-bd4e-6f9fdf2a4a60",
      "metadata": {
        "id": "5e69a7a4-9f4f-4e4a-bd4e-6f9fdf2a4a60",
        "outputId": "0686d403-f6b6-4fd9-f9fc-4fe7e9b650f4"
      },
      "outputs": [
        {
          "data": {
            "text/plain": [
              "[1, 2, 3, 4, 5, 6, 7, 8, 9, 10]"
            ]
          },
          "execution_count": 93,
          "metadata": {},
          "output_type": "execute_result"
        }
      ],
      "source": [
        "list(range(1,11))"
      ]
    },
    {
      "cell_type": "code",
      "execution_count": null,
      "id": "089afbd0-e19e-477a-b490-995b2438aa00",
      "metadata": {
        "id": "089afbd0-e19e-477a-b490-995b2438aa00",
        "outputId": "a4e13919-cf86-4c99-c1c5-98a703d40773"
      },
      "outputs": [
        {
          "data": {
            "text/plain": [
              "{1: 11, 2: 12, 3: 13, 4: 14, 5: 15, 6: 16, 7: 17, 8: 18, 9: 19, 10: 20}"
            ]
          },
          "execution_count": 95,
          "metadata": {},
          "output_type": "execute_result"
        }
      ],
      "source": [
        "{i : i+10 for i in range(1,11)}"
      ]
    },
    {
      "cell_type": "code",
      "execution_count": null,
      "id": "8bdee747-00d5-410d-8a38-736d394ac022",
      "metadata": {
        "id": "8bdee747-00d5-410d-8a38-736d394ac022"
      },
      "outputs": [],
      "source": [
        "import math\n",
        "d21 = {i :math.log10(i) for i in range(1,11)}"
      ]
    },
    {
      "cell_type": "code",
      "execution_count": null,
      "id": "ba2271ac-5c70-4553-abef-08dfdee630e5",
      "metadata": {
        "id": "ba2271ac-5c70-4553-abef-08dfdee630e5",
        "outputId": "f70a13ac-5e45-4361-bcae-9a34f4c53e0b"
      },
      "outputs": [
        {
          "data": {
            "text/plain": [
              "{'batch_name': ['data science masters', 'web dev', 'JDS'],\n",
              " 'start_date': (28, 14, 21)}"
            ]
          },
          "execution_count": 97,
          "metadata": {},
          "output_type": "execute_result"
        }
      ],
      "source": [
        "d16"
      ]
    },
    {
      "cell_type": "code",
      "execution_count": null,
      "id": "742fb622-6b82-4e1d-aa3e-974c7cdce39e",
      "metadata": {
        "id": "742fb622-6b82-4e1d-aa3e-974c7cdce39e",
        "outputId": "b8cd5892-a6d7-43bb-a603-81e978f7e5ca"
      },
      "outputs": [
        {
          "data": {
            "text/plain": [
              "True"
            ]
          },
          "execution_count": 98,
          "metadata": {},
          "output_type": "execute_result"
        }
      ],
      "source": [
        "'batch_name' in d16"
      ]
    },
    {
      "cell_type": "code",
      "execution_count": null,
      "id": "5f4efd76-ec46-41c9-a114-ca2ffa7474ed",
      "metadata": {
        "id": "5f4efd76-ec46-41c9-a114-ca2ffa7474ed",
        "outputId": "7f059c90-e04a-41f6-a288-da1b56560772"
      },
      "outputs": [
        {
          "data": {
            "text/plain": [
              "{1: 0.0,\n",
              " 2: 0.3010299956639812,\n",
              " 3: 0.47712125471966244,\n",
              " 4: 0.6020599913279624,\n",
              " 5: 0.6989700043360189,\n",
              " 6: 0.7781512503836436,\n",
              " 7: 0.8450980400142568,\n",
              " 8: 0.9030899869919435,\n",
              " 9: 0.9542425094393249,\n",
              " 10: 1.0}"
            ]
          },
          "execution_count": 100,
          "metadata": {},
          "output_type": "execute_result"
        }
      ],
      "source": [
        "d21"
      ]
    },
    {
      "cell_type": "code",
      "execution_count": null,
      "id": "2c0a27b7-3882-4223-ac6f-33f711c4b590",
      "metadata": {
        "id": "2c0a27b7-3882-4223-ac6f-33f711c4b590",
        "outputId": "1b1a6212-efc7-4004-e220-e2e80da3d6ff"
      },
      "outputs": [
        {
          "data": {
            "text/plain": [
              "dict_keys([1, 2, 3, 4, 5, 6, 7, 8, 9, 10])"
            ]
          },
          "execution_count": 101,
          "metadata": {},
          "output_type": "execute_result"
        }
      ],
      "source": [
        "d21.keys()"
      ]
    },
    {
      "cell_type": "code",
      "execution_count": null,
      "id": "dfcd9147-c0b0-4f4b-a8aa-fcf8e853bf34",
      "metadata": {
        "id": "dfcd9147-c0b0-4f4b-a8aa-fcf8e853bf34",
        "outputId": "da8d06a2-4e90-47aa-bb94-89c6559e9cbe"
      },
      "outputs": [
        {
          "name": "stdout",
          "output_type": "stream",
          "text": [
            "0.3010299956639812\n",
            "0.6020599913279624\n",
            "0.7781512503836436\n",
            "0.9030899869919435\n",
            "1.0\n"
          ]
        }
      ],
      "source": [
        "for i in d21.keys():\n",
        "    if i % 2 == 0 :\n",
        "        print(d21[i])\n",
        ""
      ]
    },
    {
      "cell_type": "code",
      "execution_count": null,
      "id": "537b736b-4b27-4103-8365-db042814c943",
      "metadata": {
        "id": "537b736b-4b27-4103-8365-db042814c943"
      },
      "outputs": [],
      "source": []
    }
  ],
  "metadata": {
    "kernelspec": {
      "display_name": "Python 3 (ipykernel)",
      "language": "python",
      "name": "python3"
    },
    "language_info": {
      "codemirror_mode": {
        "name": "ipython",
        "version": 3
      },
      "file_extension": ".py",
      "mimetype": "text/x-python",
      "name": "python",
      "nbconvert_exporter": "python",
      "pygments_lexer": "ipython3",
      "version": "3.10.8"
    },
    "colab": {
      "provenance": [],
      "include_colab_link": true
    }
  },
  "nbformat": 4,
  "nbformat_minor": 5
}