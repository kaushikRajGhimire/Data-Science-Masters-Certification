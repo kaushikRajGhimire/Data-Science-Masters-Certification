{
  "cells": [
    {
      "cell_type": "markdown",
      "metadata": {
        "id": "view-in-github",
        "colab_type": "text"
      },
      "source": [
        "<a href=\"https://colab.research.google.com/github/kaushikRajGhimire/Data-Science-Masters-Certification/blob/main/Function_part_1_eng.ipynb\" target=\"_parent\"><img src=\"https://colab.research.google.com/assets/colab-badge.svg\" alt=\"Open In Colab\"/></a>"
      ]
    },
    {
      "cell_type": "code",
      "execution_count": null,
      "id": "c0986513-1fdf-43eb-b8ee-39f55a213d9f",
      "metadata": {
        "id": "c0986513-1fdf-43eb-b8ee-39f55a213d9f",
        "outputId": "e704a923-9530-4c4a-8f26-8f171c64c2ca"
      },
      "outputs": [
        {
          "name": "stdout",
          "output_type": "stream",
          "text": [
            "this is my prog\n"
          ]
        }
      ],
      "source": [
        "print(\"this is my prog\")"
      ]
    },
    {
      "cell_type": "code",
      "execution_count": null,
      "id": "788a76a7-cad0-47bb-ab3d-e9c9fe5a888d",
      "metadata": {
        "id": "788a76a7-cad0-47bb-ab3d-e9c9fe5a888d"
      },
      "outputs": [],
      "source": [
        "l = [1,2,3,4,5]"
      ]
    },
    {
      "cell_type": "code",
      "execution_count": null,
      "id": "16e776d7-1323-41a3-975d-d7b17304f7b8",
      "metadata": {
        "id": "16e776d7-1323-41a3-975d-d7b17304f7b8",
        "outputId": "d6930766-b7f9-417c-ff8a-2e3255bf13d2"
      },
      "outputs": [
        {
          "data": {
            "text/plain": [
              "5"
            ]
          },
          "execution_count": 3,
          "metadata": {},
          "output_type": "execute_result"
        }
      ],
      "source": [
        "len(l)"
      ]
    },
    {
      "cell_type": "code",
      "execution_count": null,
      "id": "241d59b1-da14-40ba-9765-e33236137e65",
      "metadata": {
        "id": "241d59b1-da14-40ba-9765-e33236137e65"
      },
      "outputs": [],
      "source": [
        "def test():\n",
        "    pass\n",
        ""
      ]
    },
    {
      "cell_type": "code",
      "execution_count": null,
      "id": "197b8f0c-ae4b-4532-b7e4-98e8bb33194d",
      "metadata": {
        "id": "197b8f0c-ae4b-4532-b7e4-98e8bb33194d"
      },
      "outputs": [],
      "source": [
        "def test1():\n",
        "    print(\"this is my very very first fun\")"
      ]
    },
    {
      "cell_type": "code",
      "execution_count": null,
      "id": "f8f01b58-ecdd-43fc-96a2-d522459d614f",
      "metadata": {
        "id": "f8f01b58-ecdd-43fc-96a2-d522459d614f",
        "outputId": "b339f512-8b8d-46d7-e75f-4351d006f095"
      },
      "outputs": [
        {
          "name": "stdout",
          "output_type": "stream",
          "text": [
            "this is my very very first fun\n"
          ]
        }
      ],
      "source": [
        "test1()"
      ]
    },
    {
      "cell_type": "code",
      "execution_count": null,
      "id": "4963eb40-7053-4525-b606-24ed19a28445",
      "metadata": {
        "id": "4963eb40-7053-4525-b606-24ed19a28445",
        "outputId": "8c0fa63b-c200-4ac5-978c-db0b784d3471"
      },
      "outputs": [
        {
          "name": "stdout",
          "output_type": "stream",
          "text": [
            "this is my very very first fun\n"
          ]
        }
      ],
      "source": [
        "test1()"
      ]
    },
    {
      "cell_type": "code",
      "execution_count": null,
      "id": "505a1080-1dca-4202-99ba-696f7d397d85",
      "metadata": {
        "id": "505a1080-1dca-4202-99ba-696f7d397d85",
        "outputId": "0ea7c347-be77-44de-e089-c068742e02c0"
      },
      "outputs": [
        {
          "name": "stdout",
          "output_type": "stream",
          "text": [
            "this is my very very first fun\n"
          ]
        },
        {
          "ename": "TypeError",
          "evalue": "unsupported operand type(s) for +: 'NoneType' and 'str'",
          "output_type": "error",
          "traceback": [
            "\u001b[0;31m---------------------------------------------------------------------------\u001b[0m",
            "\u001b[0;31mTypeError\u001b[0m                                 Traceback (most recent call last)",
            "Cell \u001b[0;32mIn[9], line 1\u001b[0m\n\u001b[0;32m----> 1\u001b[0m \u001b[43mtest1\u001b[49m\u001b[43m(\u001b[49m\u001b[43m)\u001b[49m\u001b[43m \u001b[49m\u001b[38;5;241;43m+\u001b[39;49m\u001b[43m \u001b[49m\u001b[38;5;124;43m\"\u001b[39;49m\u001b[38;5;124;43msudh\u001b[39;49m\u001b[38;5;124;43m\"\u001b[39;49m\n",
            "\u001b[0;31mTypeError\u001b[0m: unsupported operand type(s) for +: 'NoneType' and 'str'"
          ]
        }
      ],
      "source": [
        "test1() + \"sudh\""
      ]
    },
    {
      "cell_type": "code",
      "execution_count": null,
      "id": "0490401b-d2dc-45c8-96e4-97028334deb2",
      "metadata": {
        "id": "0490401b-d2dc-45c8-96e4-97028334deb2"
      },
      "outputs": [],
      "source": [
        "def test2():\n",
        "    return \"this is my fun with return \""
      ]
    },
    {
      "cell_type": "code",
      "execution_count": null,
      "id": "3112470b-2dce-43e4-896f-73245cd715f4",
      "metadata": {
        "id": "3112470b-2dce-43e4-896f-73245cd715f4",
        "outputId": "a74f1d3f-2e90-4131-bd6e-cd086d3c11a2"
      },
      "outputs": [
        {
          "data": {
            "text/plain": [
              "'this is my fun with return '"
            ]
          },
          "execution_count": 11,
          "metadata": {},
          "output_type": "execute_result"
        }
      ],
      "source": [
        "test2()"
      ]
    },
    {
      "cell_type": "code",
      "execution_count": null,
      "id": "c1321e2f-8bea-4dd2-8b79-07e4a4a4028d",
      "metadata": {
        "id": "c1321e2f-8bea-4dd2-8b79-07e4a4a4028d",
        "outputId": "ccca6d86-1ce4-4399-d15e-c86533579afa"
      },
      "outputs": [
        {
          "data": {
            "text/plain": [
              "'this is my fun with return sudh'"
            ]
          },
          "execution_count": 12,
          "metadata": {},
          "output_type": "execute_result"
        }
      ],
      "source": [
        "test2() + \"sudh\""
      ]
    },
    {
      "cell_type": "code",
      "execution_count": null,
      "id": "a2137c77-718b-4e6b-b6db-90a8dfb744f8",
      "metadata": {
        "id": "a2137c77-718b-4e6b-b6db-90a8dfb744f8"
      },
      "outputs": [],
      "source": [
        "def test3():\n",
        "    return 1, 4, \"pwskills\" , 34.56"
      ]
    },
    {
      "cell_type": "code",
      "execution_count": null,
      "id": "7c1b8315-df8f-43f7-bd12-abdeef418ad3",
      "metadata": {
        "id": "7c1b8315-df8f-43f7-bd12-abdeef418ad3",
        "outputId": "f7cba541-1721-4e0b-adb0-b6b0e6c588ea"
      },
      "outputs": [
        {
          "data": {
            "text/plain": [
              "(1, 4, 'pwskills', 34.56)"
            ]
          },
          "execution_count": 15,
          "metadata": {},
          "output_type": "execute_result"
        }
      ],
      "source": [
        "test3()"
      ]
    },
    {
      "cell_type": "code",
      "execution_count": null,
      "id": "0310e759-0c3f-4187-89e2-bbffe6a9803e",
      "metadata": {
        "id": "0310e759-0c3f-4187-89e2-bbffe6a9803e"
      },
      "outputs": [],
      "source": [
        "a = 1,2,3,4,5"
      ]
    },
    {
      "cell_type": "code",
      "execution_count": null,
      "id": "0ed70565-bce5-4405-8916-d77f91ff96df",
      "metadata": {
        "id": "0ed70565-bce5-4405-8916-d77f91ff96df",
        "outputId": "9b71e08f-f55f-49f1-861c-bf7495734857"
      },
      "outputs": [
        {
          "data": {
            "text/plain": [
              "(1, 2, 3, 4, 5)"
            ]
          },
          "execution_count": 17,
          "metadata": {},
          "output_type": "execute_result"
        }
      ],
      "source": [
        "a"
      ]
    },
    {
      "cell_type": "code",
      "execution_count": null,
      "id": "c73f3ce0-b75d-44c8-8ca9-4c8fe3bf8e7d",
      "metadata": {
        "id": "c73f3ce0-b75d-44c8-8ca9-4c8fe3bf8e7d"
      },
      "outputs": [],
      "source": [
        "a,b,c,d = 1,2,34.56,True"
      ]
    },
    {
      "cell_type": "code",
      "execution_count": null,
      "id": "425f5cbf-9fb7-43d8-86e7-097d8a679669",
      "metadata": {
        "id": "425f5cbf-9fb7-43d8-86e7-097d8a679669",
        "outputId": "9568f639-b8a9-49b9-a073-eac8ed61f9a8"
      },
      "outputs": [
        {
          "data": {
            "text/plain": [
              "1"
            ]
          },
          "execution_count": 19,
          "metadata": {},
          "output_type": "execute_result"
        }
      ],
      "source": [
        "a"
      ]
    },
    {
      "cell_type": "code",
      "execution_count": null,
      "id": "010b86e5-12fb-477e-881c-c2fb83a82b08",
      "metadata": {
        "id": "010b86e5-12fb-477e-881c-c2fb83a82b08",
        "outputId": "ced10116-dfdb-4d6c-f8ce-a7a4067ac3a1"
      },
      "outputs": [
        {
          "data": {
            "text/plain": [
              "2"
            ]
          },
          "execution_count": 20,
          "metadata": {},
          "output_type": "execute_result"
        }
      ],
      "source": [
        "b"
      ]
    },
    {
      "cell_type": "code",
      "execution_count": null,
      "id": "c8d07499-264c-4fc2-b18c-ad02b773cabe",
      "metadata": {
        "id": "c8d07499-264c-4fc2-b18c-ad02b773cabe",
        "outputId": "383e99b6-fede-4ac2-e77a-c7eec745808f"
      },
      "outputs": [
        {
          "data": {
            "text/plain": [
              "34.56"
            ]
          },
          "execution_count": 21,
          "metadata": {},
          "output_type": "execute_result"
        }
      ],
      "source": [
        "c"
      ]
    },
    {
      "cell_type": "code",
      "execution_count": null,
      "id": "980b587d-88cc-4151-984e-ccdd6ae1b6d4",
      "metadata": {
        "id": "980b587d-88cc-4151-984e-ccdd6ae1b6d4",
        "outputId": "5f1c2d2a-31b1-482b-b5dd-61af88aa8139"
      },
      "outputs": [
        {
          "data": {
            "text/plain": [
              "True"
            ]
          },
          "execution_count": 22,
          "metadata": {},
          "output_type": "execute_result"
        }
      ],
      "source": [
        "d"
      ]
    },
    {
      "cell_type": "code",
      "execution_count": null,
      "id": "d5f36b9c-f26e-49e2-b046-afeceeb5b632",
      "metadata": {
        "id": "d5f36b9c-f26e-49e2-b046-afeceeb5b632",
        "outputId": "ee7ea36c-1d5a-4b50-ba85-b8c3d445ba4d"
      },
      "outputs": [
        {
          "data": {
            "text/plain": [
              "(1, 4, 'pwskills', 34.56)"
            ]
          },
          "execution_count": 23,
          "metadata": {},
          "output_type": "execute_result"
        }
      ],
      "source": [
        "test3()"
      ]
    },
    {
      "cell_type": "code",
      "execution_count": null,
      "id": "b489e50f-02cc-431b-b6fa-7dc72d3c87ba",
      "metadata": {
        "id": "b489e50f-02cc-431b-b6fa-7dc72d3c87ba",
        "outputId": "a3b7ed19-98ad-4085-9686-1c70da8675e1"
      },
      "outputs": [
        {
          "data": {
            "text/plain": [
              "1"
            ]
          },
          "execution_count": 24,
          "metadata": {},
          "output_type": "execute_result"
        }
      ],
      "source": [
        "test3()[0]"
      ]
    },
    {
      "cell_type": "code",
      "execution_count": null,
      "id": "993c6809-eb45-467d-9fc3-f88dd4c784a8",
      "metadata": {
        "id": "993c6809-eb45-467d-9fc3-f88dd4c784a8",
        "outputId": "be14c1b9-11fa-4900-db38-a0ea774d9b50"
      },
      "outputs": [
        {
          "data": {
            "text/plain": [
              "4"
            ]
          },
          "execution_count": 26,
          "metadata": {},
          "output_type": "execute_result"
        }
      ],
      "source": [
        "test3()[1]"
      ]
    },
    {
      "cell_type": "code",
      "execution_count": null,
      "id": "02b73ade-58cf-4adc-8b56-f9b946b7f183",
      "metadata": {
        "id": "02b73ade-58cf-4adc-8b56-f9b946b7f183",
        "outputId": "4d651ed8-dbae-4def-a070-f4c9606eae8f"
      },
      "outputs": [
        {
          "data": {
            "text/plain": [
              "'pwskills'"
            ]
          },
          "execution_count": 27,
          "metadata": {},
          "output_type": "execute_result"
        }
      ],
      "source": [
        "test3()[2]"
      ]
    },
    {
      "cell_type": "code",
      "execution_count": null,
      "id": "91d30ad7-2fbc-45ef-9f72-d0e70499a1e2",
      "metadata": {
        "id": "91d30ad7-2fbc-45ef-9f72-d0e70499a1e2"
      },
      "outputs": [],
      "source": [
        "a,b,c,d = test3()"
      ]
    },
    {
      "cell_type": "code",
      "execution_count": null,
      "id": "e5a5329e-5369-4c45-a550-60a930fc59c8",
      "metadata": {
        "id": "e5a5329e-5369-4c45-a550-60a930fc59c8",
        "outputId": "3ebf91c2-2ddd-4733-b94f-ccc59d22187f"
      },
      "outputs": [
        {
          "data": {
            "text/plain": [
              "1"
            ]
          },
          "execution_count": 30,
          "metadata": {},
          "output_type": "execute_result"
        }
      ],
      "source": [
        "a"
      ]
    },
    {
      "cell_type": "code",
      "execution_count": null,
      "id": "92d52d06-e107-4c95-80f5-8d0c51b74b88",
      "metadata": {
        "id": "92d52d06-e107-4c95-80f5-8d0c51b74b88",
        "outputId": "72c9c0f8-ffbf-4f22-c0f4-e8797ab2af89"
      },
      "outputs": [
        {
          "data": {
            "text/plain": [
              "4"
            ]
          },
          "execution_count": 31,
          "metadata": {},
          "output_type": "execute_result"
        }
      ],
      "source": [
        "b"
      ]
    },
    {
      "cell_type": "code",
      "execution_count": null,
      "id": "e4edc97d-0801-4113-9a6c-e11fae4ca686",
      "metadata": {
        "id": "e4edc97d-0801-4113-9a6c-e11fae4ca686",
        "outputId": "cf2c2f2d-6097-4c78-ae4e-1d2a0bec0ec8"
      },
      "outputs": [
        {
          "data": {
            "text/plain": [
              "'pwskills'"
            ]
          },
          "execution_count": 32,
          "metadata": {},
          "output_type": "execute_result"
        }
      ],
      "source": [
        "c"
      ]
    },
    {
      "cell_type": "code",
      "execution_count": null,
      "id": "8f236cc1-acd9-4043-ac66-3d925ef1a226",
      "metadata": {
        "id": "8f236cc1-acd9-4043-ac66-3d925ef1a226",
        "outputId": "7a64bc77-997f-4e8b-a741-5cff2fe63e63"
      },
      "outputs": [
        {
          "data": {
            "text/plain": [
              "34.56"
            ]
          },
          "execution_count": 33,
          "metadata": {},
          "output_type": "execute_result"
        }
      ],
      "source": [
        "d"
      ]
    },
    {
      "cell_type": "code",
      "execution_count": null,
      "id": "c402b074-90b9-47e9-8b02-aa449b9152ee",
      "metadata": {
        "id": "c402b074-90b9-47e9-8b02-aa449b9152ee"
      },
      "outputs": [],
      "source": [
        "def test4():\n",
        "    a = 3*4 +5\n",
        "    return a"
      ]
    },
    {
      "cell_type": "code",
      "execution_count": null,
      "id": "bb40e142-10c2-4103-b385-057b2a75b5b9",
      "metadata": {
        "id": "bb40e142-10c2-4103-b385-057b2a75b5b9",
        "outputId": "19edd46e-06b4-4348-9f19-61e154d4d90c"
      },
      "outputs": [
        {
          "data": {
            "text/plain": [
              "int"
            ]
          },
          "execution_count": 36,
          "metadata": {},
          "output_type": "execute_result"
        }
      ],
      "source": [
        "type(test4())"
      ]
    },
    {
      "cell_type": "code",
      "execution_count": null,
      "id": "818052c8-a7be-4865-87b6-801d98cb6e1d",
      "metadata": {
        "id": "818052c8-a7be-4865-87b6-801d98cb6e1d"
      },
      "outputs": [],
      "source": [
        "def test5(a,b):\n",
        "    c = a +b\n",
        "    return c"
      ]
    },
    {
      "cell_type": "code",
      "execution_count": null,
      "id": "ef512a0c-a6e4-49ca-a8d5-a0c7add2d914",
      "metadata": {
        "id": "ef512a0c-a6e4-49ca-a8d5-a0c7add2d914",
        "outputId": "0cf2770c-ce18-49f3-ce89-939c19313681"
      },
      "outputs": [
        {
          "data": {
            "text/plain": [
              "4"
            ]
          },
          "execution_count": 39,
          "metadata": {},
          "output_type": "execute_result"
        }
      ],
      "source": [
        "test5(1,3)"
      ]
    },
    {
      "cell_type": "code",
      "execution_count": null,
      "id": "b2effb36-250a-4475-832e-6cdf381e3254",
      "metadata": {
        "id": "b2effb36-250a-4475-832e-6cdf381e3254",
        "outputId": "0166bba1-3e71-473c-d3a0-37f216754761"
      },
      "outputs": [
        {
          "data": {
            "text/plain": [
              "'sudhkumar'"
            ]
          },
          "execution_count": 41,
          "metadata": {},
          "output_type": "execute_result"
        }
      ],
      "source": [
        "test5(\"sudh\" , \"kumar\" )"
      ]
    },
    {
      "cell_type": "code",
      "execution_count": null,
      "id": "8fe896bf-bfe7-41c0-a7b4-8d053dbd38fb",
      "metadata": {
        "id": "8fe896bf-bfe7-41c0-a7b4-8d053dbd38fb",
        "outputId": "af2bd408-4314-4bda-95fb-c0c308dc8392"
      },
      "outputs": [
        {
          "data": {
            "text/plain": [
              "[1, 2, 3, 4, 4, 5, 6, 7, 8]"
            ]
          },
          "execution_count": 42,
          "metadata": {},
          "output_type": "execute_result"
        }
      ],
      "source": [
        "test5([1,2,3,4] , [4,5,6,7,8])"
      ]
    },
    {
      "cell_type": "code",
      "execution_count": null,
      "id": "cff2043d-b735-4daa-ac9c-9b62317a5805",
      "metadata": {
        "id": "cff2043d-b735-4daa-ac9c-9b62317a5805",
        "outputId": "b912af18-f45b-4f28-a861-fee0c17560ec"
      },
      "outputs": [
        {
          "data": {
            "text/plain": [
              "'kumarsudh '"
            ]
          },
          "execution_count": 43,
          "metadata": {},
          "output_type": "execute_result"
        }
      ],
      "source": [
        "test5(b = \"sudh \" , a = \"kumar\")"
      ]
    },
    {
      "cell_type": "code",
      "execution_count": null,
      "id": "74c096ad-403f-49d3-a1cc-46eb16d0c5bb",
      "metadata": {
        "id": "74c096ad-403f-49d3-a1cc-46eb16d0c5bb"
      },
      "outputs": [],
      "source": [
        "l = [1,2,3,4,5,\"sudh\" , \"pwskills\" , [1,2,3,34,45]]"
      ]
    },
    {
      "cell_type": "code",
      "execution_count": null,
      "id": "39d3c591-d6d7-4547-8c18-a794d19d79a4",
      "metadata": {
        "id": "39d3c591-d6d7-4547-8c18-a794d19d79a4"
      },
      "outputs": [],
      "source": [
        "#create a function which will take list as a input and give me a final list with all the numeric value"
      ]
    },
    {
      "cell_type": "code",
      "execution_count": null,
      "id": "6b08f2a0-6b62-4584-8c3c-95c345578b3b",
      "metadata": {
        "id": "6b08f2a0-6b62-4584-8c3c-95c345578b3b"
      },
      "outputs": [],
      "source": [
        "def test6(a):\n",
        "    n  = []\n",
        "    for i in a :\n",
        "        if type(i) == int or type(i) == float :\n",
        "            n.append(i)\n",
        "    return n"
      ]
    },
    {
      "cell_type": "code",
      "execution_count": null,
      "id": "aeda1e1a-6c70-4163-95a2-baf3f2b35ea9",
      "metadata": {
        "id": "aeda1e1a-6c70-4163-95a2-baf3f2b35ea9",
        "outputId": "8b78a9b3-7e4b-47e1-9aa4-23934dbf8908"
      },
      "outputs": [
        {
          "data": {
            "text/plain": [
              "[1, 2, 3, 4, 5]"
            ]
          },
          "execution_count": 47,
          "metadata": {},
          "output_type": "execute_result"
        }
      ],
      "source": [
        "test6(l)"
      ]
    },
    {
      "cell_type": "code",
      "execution_count": null,
      "id": "120b254e-4e49-4b6c-80bd-bfd8a2962e26",
      "metadata": {
        "id": "120b254e-4e49-4b6c-80bd-bfd8a2962e26",
        "outputId": "378f7aac-f1e5-4978-86b2-8cb8d5fe3cbb"
      },
      "outputs": [
        {
          "data": {
            "text/plain": [
              "[1, 2, 3, 4, 5, 'sudh', 'pwskills', [1, 2, 3, 34, 45]]"
            ]
          },
          "execution_count": 48,
          "metadata": {},
          "output_type": "execute_result"
        }
      ],
      "source": [
        "l"
      ]
    },
    {
      "cell_type": "code",
      "execution_count": null,
      "id": "0592d5d7-2f86-49b3-8e9c-3ce95e986f43",
      "metadata": {
        "id": "0592d5d7-2f86-49b3-8e9c-3ce95e986f43"
      },
      "outputs": [],
      "source": [
        "def test7(a) :\n",
        "    n = []\n",
        "    for i in a :\n",
        "        if type(i) == list :\n",
        "            for j in i :\n",
        "                if type(j) == int or type(j) == float :\n",
        "                    n.append(j)\n",
        "        else :\n",
        "            if type(i) == int or type(i) == float :\n",
        "                n.append(i)\n",
        "    return n\n",
        "\n",
        ""
      ]
    },
    {
      "cell_type": "code",
      "execution_count": null,
      "id": "6140b43d-745a-4c5f-969d-f71ccecc4159",
      "metadata": {
        "id": "6140b43d-745a-4c5f-969d-f71ccecc4159",
        "outputId": "3443efff-4cec-4bb1-b696-d522eef42400"
      },
      "outputs": [
        {
          "data": {
            "text/plain": [
              "[1, 2, 3, 4, 5, 1, 2, 3, 34, 45]"
            ]
          },
          "execution_count": 50,
          "metadata": {},
          "output_type": "execute_result"
        }
      ],
      "source": [
        "test7(l)"
      ]
    },
    {
      "cell_type": "code",
      "execution_count": null,
      "id": "34007b2f-daf0-4589-9bfe-62a508535527",
      "metadata": {
        "id": "34007b2f-daf0-4589-9bfe-62a508535527",
        "outputId": "f9f84187-9dcb-40d7-c12d-c83a18b6d3ee"
      },
      "outputs": [
        {
          "data": {
            "text/plain": [
              "[1, 2, 3, 4, 5, 'sudh', 'pwskills', [1, 2, 3, 34, 45]]"
            ]
          },
          "execution_count": 51,
          "metadata": {},
          "output_type": "execute_result"
        }
      ],
      "source": [
        "l"
      ]
    },
    {
      "cell_type": "code",
      "execution_count": null,
      "id": "4c708d80-0b64-451b-9aa8-2a832993e171",
      "metadata": {
        "id": "4c708d80-0b64-451b-9aa8-2a832993e171"
      },
      "outputs": [],
      "source": []
    }
  ],
  "metadata": {
    "kernelspec": {
      "display_name": "Python 3 (ipykernel)",
      "language": "python",
      "name": "python3"
    },
    "language_info": {
      "codemirror_mode": {
        "name": "ipython",
        "version": 3
      },
      "file_extension": ".py",
      "mimetype": "text/x-python",
      "name": "python",
      "nbconvert_exporter": "python",
      "pygments_lexer": "ipython3",
      "version": "3.10.8"
    },
    "colab": {
      "provenance": [],
      "include_colab_link": true
    }
  },
  "nbformat": 4,
  "nbformat_minor": 5
}