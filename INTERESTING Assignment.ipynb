{
  "nbformat": 4,
  "nbformat_minor": 0,
  "metadata": {
    "colab": {
      "provenance": [],
      "authorship_tag": "ABX9TyOIObu6vP1NKQDGngpdn95h",
      "include_colab_link": true
    },
    "kernelspec": {
      "name": "python3",
      "display_name": "Python 3"
    },
    "language_info": {
      "name": "python"
    }
  },
  "cells": [
    {
      "cell_type": "markdown",
      "metadata": {
        "id": "view-in-github",
        "colab_type": "text"
      },
      "source": [
        "<a href=\"https://colab.research.google.com/github/kaushikRajGhimire/Data-Science-Masters-Certification/blob/main/INTERESTING%20Assignment.ipynb\" target=\"_parent\"><img src=\"https://colab.research.google.com/assets/colab-badge.svg\" alt=\"Open In Colab\"/></a>"
      ]
    },
    {
      "cell_type": "markdown",
      "source": [
        "Q1. You are writing code for a company. The requirement of the company is that you create a python\n",
        "function that will check whether the password entered by the user is correct or not. The function should\n",
        "take the password as input and return the string “Valid Password” if the entered password follows the\n",
        "below-given password guidelines else it should return “Invalid Password”.\n",
        "Note: 1. The Password should contain at least two uppercase letters and at least two lowercase letters.\n",
        "2. The Password should contain at least a number and three special characters.\n",
        "3. The length of the password should be 10 characters long.\n",
        "\n",
        "def check_password(password):\n",
        "    # Check the length of the password\n",
        "    if len(password) < 10:\n",
        "        return \"Invalid Password\"\n",
        "    \n",
        "    # Count uppercase letters\n",
        "    uppercase_count = sum(1 for char in password if char.isupper())\n",
        "    # Count lowercase letters\n",
        "    lowercase_count = sum(1 for char in password if char.islower())\n",
        "    # Count digits\n",
        "    digit_count = sum(1 for char in password if char.isdigit())\n",
        "    # Count special characters\n",
        "    special_count = sum(1 for char in password if not char.isalnum())\n",
        "    \n",
        "    # Check if all conditions are met\n",
        "    if (uppercase_count >= 2 and\n",
        "        lowercase_count >= 2 and\n",
        "        digit_count >= 1 and\n",
        "        special_count >= 3):\n",
        "        return \"Valid Password\"\n",
        "    else:\n",
        "        return \"Invalid Password\"\n",
        "\n",
        "# Example usage\n",
        "user_password = input(\"Enter your password: \")\n",
        "result = check_password(user_password)\n",
        "print(result)\n"
      ],
      "metadata": {
        "id": "NqkWc89n_wLj"
      }
    },
    {
      "cell_type": "markdown",
      "source": [
        "Q2. Solve the below-given questions using at least one of the following:\n",
        "1. Lambda function\n",
        "2. Filter function\n",
        "3. Map function\n",
        "4. List ComprehensioI\n",
        "B Check if the string starts with a particular letterY\n",
        "B Check if the string is numericY\n",
        "B Sort a list of tuples having fruit names and their quantity. [(\"mango\",99),(\"orange\",80), (\"grapes\", 1000)-\n",
        "B Find the squares of numbers from 1 to 10Y\n",
        "B Find the cube root of numbers from 1 to 10Y\n",
        "B Check if a given number is evenY\n",
        "B Filter odd numbers from the given list.\n",
        "[1,2,3,4,5,6,7,8,9,10-\n",
        "B Sort a list of integers into positive and negative integers lists.\n",
        "[1,2,3,4,5,6,-1,-2,-3,-4,-5,0]"
      ],
      "metadata": {
        "id": "gldEfsVI_3za"
      }
    },
    {
      "cell_type": "markdown",
      "source": [
        "1. starts_with = lambda s, letter: s.startswith(letter)\n",
        "print(starts_with(\"hello\", \"h\"))  # Output: True\n"
      ],
      "metadata": {
        "id": "ACnBLsRQAetM"
      }
    },
    {
      "cell_type": "markdown",
      "source": [
        "3. fruits = [(\"mango\", 99), (\"orange\", 80), (\"grapes\", 1000)]\n",
        "sorted_fruits = sorted(fruits, key=lambda x: x[1])\n",
        "print(sorted_fruits)  # Output: [('orange', 80), ('mango', 99), ('grapes', 1000)]\n"
      ],
      "metadata": {
        "id": "2uQJUD5EAzmN"
      }
    },
    {
      "cell_type": "markdown",
      "source": [
        "2. is_numeric = lambda s: s.isdigit()\n",
        "print(is_numeric(\"12345\"))  # Output: True\n",
        "print(is_numeric(\"abc\"))     # Output: False\n"
      ],
      "metadata": {
        "id": "y9GvEZO0Ahwm"
      }
    },
    {
      "cell_type": "markdown",
      "source": [
        "3. squares = [x**2 for x in range(1, 11)]\n",
        "print(squares)  # Output: [1, 4, 9, 16, 25, 36, 49, 64, 81, 100]\n"
      ],
      "metadata": {
        "id": "ykEqU6SMA4V8"
      }
    },
    {
      "cell_type": "markdown",
      "source": [
        "cube_roots = list(map(lambda x: round(x ** (1/3), 2), range(1, 11)))\n",
        "print(cube_roots)  # Output: [1.0, 1.26, 1.44, 1.58, 1.71, 1.82, 1.93, 2.0, 2.08, 2.15]\n"
      ],
      "metadata": {
        "id": "HwWzxuEVA9-7"
      }
    },
    {
      "cell_type": "markdown",
      "source": [
        "numbers = [1, 2, 3, 4, 5, 6, 7, 8, 9, 10]\n",
        "odd_numbers = list(filter(lambda x: x % 2 != 0, numbers))\n",
        "print(odd_numbers)  # Output: [1, 3, 5, 7, 9]\n"
      ],
      "metadata": {
        "id": "YgtAy_BOBDbB"
      }
    },
    {
      "cell_type": "markdown",
      "source": [
        "int_list = [1, 2, 3, 4, 5, 6, -1, -2, -3, -4, -5, 0]\n",
        "positive_integers = sorted(filter(lambda x: x > 0, int_list))\n",
        "negative_integers = sorted(filter(lambda x: x < 0, int_list))\n",
        "print(\"Positive Integers:\", positive_integers)  # Output: [1, 2, 3, 4, 5, 6]\n",
        "print(\"Negative Integers:\", negative_integers)  # Output: [-5, -4, -3, -2, -1]\n"
      ],
      "metadata": {
        "id": "EU7Alg8IBGjN"
      }
    },
    {
      "cell_type": "markdown",
      "source": [],
      "metadata": {
        "id": "3Ujx7YX_AxoV"
      }
    }
  ]
}