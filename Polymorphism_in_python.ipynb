{
  "cells": [
    {
      "cell_type": "markdown",
      "metadata": {
        "id": "view-in-github",
        "colab_type": "text"
      },
      "source": [
        "<a href=\"https://colab.research.google.com/github/kaushikRajGhimire/Data-Science-Masters-Certification/blob/main/Polymorphism_in_python.ipynb\" target=\"_parent\"><img src=\"https://colab.research.google.com/assets/colab-badge.svg\" alt=\"Open In Colab\"/></a>"
      ]
    },
    {
      "cell_type": "code",
      "execution_count": null,
      "id": "8ab79159-8af1-4478-a867-13e908004fb1",
      "metadata": {
        "id": "8ab79159-8af1-4478-a867-13e908004fb1"
      },
      "outputs": [],
      "source": [
        "def test(a,b) :\n",
        "    return a+b"
      ]
    },
    {
      "cell_type": "code",
      "execution_count": null,
      "id": "f2116d18-7ace-450b-af8a-ce6b3827dff6",
      "metadata": {
        "id": "f2116d18-7ace-450b-af8a-ce6b3827dff6",
        "outputId": "b2df6583-01c6-40ca-b807-134fef880129"
      },
      "outputs": [
        {
          "data": {
            "text/plain": [
              "9"
            ]
          },
          "execution_count": 2,
          "metadata": {},
          "output_type": "execute_result"
        }
      ],
      "source": [
        "test(4,5)"
      ]
    },
    {
      "cell_type": "code",
      "execution_count": null,
      "id": "240ced4b-7b1e-492c-a95f-adee1f1b2661",
      "metadata": {
        "id": "240ced4b-7b1e-492c-a95f-adee1f1b2661",
        "outputId": "b2982fce-2aa3-459c-ef25-7e6f84eb7b53"
      },
      "outputs": [
        {
          "data": {
            "text/plain": [
              "'sudh kumar'"
            ]
          },
          "execution_count": 3,
          "metadata": {},
          "output_type": "execute_result"
        }
      ],
      "source": [
        "test(\"sudh \" , \"kumar\")"
      ]
    },
    {
      "cell_type": "code",
      "execution_count": null,
      "id": "24d11ddd-f000-48a4-b203-e21f091e3e33",
      "metadata": {
        "id": "24d11ddd-f000-48a4-b203-e21f091e3e33",
        "outputId": "f604e9de-b93a-4819-b29f-31b90a0c4179"
      },
      "outputs": [
        {
          "data": {
            "text/plain": [
              "[2, 3, 4, 5, 5, 4, 5, 6, 7]"
            ]
          },
          "execution_count": 4,
          "metadata": {},
          "output_type": "execute_result"
        }
      ],
      "source": [
        "test([2,3,4,5,5] , [4,5,6,7])"
      ]
    },
    {
      "cell_type": "code",
      "execution_count": null,
      "id": "6d164d89-f591-4af7-9192-a8d33e783ffa",
      "metadata": {
        "id": "6d164d89-f591-4af7-9192-a8d33e783ffa"
      },
      "outputs": [],
      "source": [
        "class data_science:\n",
        "    def syllabus(self) :\n",
        "        print(\"this is my method for data science syllbaus \" )"
      ]
    },
    {
      "cell_type": "code",
      "execution_count": null,
      "id": "299f0818-3a64-4f83-b6e9-e337f3afb8b6",
      "metadata": {
        "id": "299f0818-3a64-4f83-b6e9-e337f3afb8b6"
      },
      "outputs": [],
      "source": [
        "class web_dev :\n",
        "    def syllabus(self) :\n",
        "        print(\"this is my method for web dev \" )"
      ]
    },
    {
      "cell_type": "code",
      "execution_count": null,
      "id": "45dd5348-cde8-4f95-9fa6-e274b65030a4",
      "metadata": {
        "id": "45dd5348-cde8-4f95-9fa6-e274b65030a4"
      },
      "outputs": [],
      "source": [
        "def class_parcer(class_obj) :\n",
        "    for i in class_obj :\n",
        "        i.syllabus()"
      ]
    },
    {
      "cell_type": "code",
      "execution_count": null,
      "id": "778679dd-f697-46b9-afe6-4970ba4a3c2b",
      "metadata": {
        "id": "778679dd-f697-46b9-afe6-4970ba4a3c2b"
      },
      "outputs": [],
      "source": [
        "obj_data_science= data_science()"
      ]
    },
    {
      "cell_type": "code",
      "execution_count": null,
      "id": "3d486158-770a-49c9-a733-ed9327f054d6",
      "metadata": {
        "id": "3d486158-770a-49c9-a733-ed9327f054d6"
      },
      "outputs": [],
      "source": [
        "obj_web_dev = web_dev()"
      ]
    },
    {
      "cell_type": "code",
      "execution_count": null,
      "id": "c803ea82-0def-4071-a8b1-556198dde473",
      "metadata": {
        "id": "c803ea82-0def-4071-a8b1-556198dde473"
      },
      "outputs": [],
      "source": [
        "class_ojb = [obj_data_science , obj_web_dev]"
      ]
    },
    {
      "cell_type": "code",
      "execution_count": null,
      "id": "478dc022-ab61-4c2b-bada-36ce81e98bd9",
      "metadata": {
        "id": "478dc022-ab61-4c2b-bada-36ce81e98bd9",
        "outputId": "fa139a86-e256-48b5-8133-c1d1f9110a6c"
      },
      "outputs": [
        {
          "name": "stdout",
          "output_type": "stream",
          "text": [
            "this is my method for data science syllbaus \n",
            "this is my method for web dev \n"
          ]
        }
      ],
      "source": [
        "class_parcer(class_ojb)"
      ]
    },
    {
      "cell_type": "code",
      "execution_count": null,
      "id": "e8a8c542-5198-4e7c-9597-914451bbaa34",
      "metadata": {
        "id": "e8a8c542-5198-4e7c-9597-914451bbaa34"
      },
      "outputs": [],
      "source": []
    }
  ],
  "metadata": {
    "kernelspec": {
      "display_name": "Python 3 (ipykernel)",
      "language": "python",
      "name": "python3"
    },
    "language_info": {
      "codemirror_mode": {
        "name": "ipython",
        "version": 3
      },
      "file_extension": ".py",
      "mimetype": "text/x-python",
      "name": "python",
      "nbconvert_exporter": "python",
      "pygments_lexer": "ipython3",
      "version": "3.10.8"
    },
    "colab": {
      "provenance": [],
      "include_colab_link": true
    }
  },
  "nbformat": 4,
  "nbformat_minor": 5
}