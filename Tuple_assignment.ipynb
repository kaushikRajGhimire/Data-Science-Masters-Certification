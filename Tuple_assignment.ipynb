{
  "nbformat": 4,
  "nbformat_minor": 0,
  "metadata": {
    "colab": {
      "provenance": [],
      "authorship_tag": "ABX9TyNaDwsY/xHFWQptH7v9UyT5",
      "include_colab_link": true
    },
    "kernelspec": {
      "name": "python3",
      "display_name": "Python 3"
    },
    "language_info": {
      "name": "python"
    }
  },
  "cells": [
    {
      "cell_type": "markdown",
      "metadata": {
        "id": "view-in-github",
        "colab_type": "text"
      },
      "source": [
        "<a href=\"https://colab.research.google.com/github/kaushikRajGhimire/Data-Science-Masters-Certification/blob/main/Tuple_assignment.ipynb\" target=\"_parent\"><img src=\"https://colab.research.google.com/assets/colab-badge.svg\" alt=\"Open In Colab\"/></a>"
      ]
    },
    {
      "cell_type": "markdown",
      "source": [
        "Q1. What are the characteristics of tuples? Is tuple immutable?\n",
        "Characteristics of Tuples:\n",
        "\n",
        "Ordered: Tuples maintain the order of elements, meaning the position of each element is fixed.\n",
        "\n",
        "Indexed: Elements in a tuple can be accessed by their index, starting from 0.\n",
        "\n",
        "Heterogeneous: Tuples can store different data types like integers, strings, floats, etc.\n",
        "\n",
        "Allow Duplicates: Tuples can contain duplicate values.\n",
        "\n",
        "Immutable: Tuples cannot be modified after creation, meaning elements cannot be added, removed, or changed.\n",
        "\n",
        "Yes, tuples are immutable, which means once a tuple is created, its elements cannot be modified."
      ],
      "metadata": {
        "id": "6LR5MuVuYXer"
      }
    },
    {
      "cell_type": "markdown",
      "source": [
        "Q2. What are the two tuple methods in Python? Give an example of each method. Give a reason why tuples have only two in-built methods compared to lists.\n",
        "The two tuple methods in Python are:\n",
        "\n",
        "count(): This method returns the number of times a specified value occurs in a tuple.\n",
        "\n",
        "Example:\n",
        "\n",
        "\n",
        "my_tuple = (1, 2, 3, 2, 2, 4)\n",
        "print(my_tuple.count(2))  # Output: 3\n",
        "index(): This method returns the index of the first occurrence of a specified value.\n",
        "\n",
        "Example:\n",
        "\n",
        "my_tuple = (1, 2, 3, 4)\n",
        "print(my_tuple.index(3))  # Output: 2"
      ],
      "metadata": {
        "id": "9BjshvQGZokH"
      }
    },
    {
      "cell_type": "markdown",
      "source": [
        "Q3. Which collection datatypes in Python do not allow duplicate items? Write a code using a set to remove duplicates from the given list.\n",
        "Sets in Python do not allow duplicate items.\n",
        "\n",
        "Code to remove duplicates from the given list using a set:\n",
        "\n",
        "List = [1, 1, 1, 2, 1, 3, 1, 4, 2, 1, 2, 2, 2, 3, 2, 4, 3, 1, 3, 2, 3, 3, 3, 4, 4, 1, 4, 2, 4, 3, 4, 4]\n",
        "unique_list = list(set(List))\n",
        "print(unique_list)  # Output will have unique items only\n",
        "\n",
        "Q4. Explain the difference between the union() and update() methods for a set. Give an example of each method.\n",
        "union(): Returns a new set containing all elements from both sets without modifying the original sets.\n",
        "\n",
        "Example:\n",
        "\n",
        "set1 = {1, 2, 3}\n",
        "set2 = {3, 4, 5}\n",
        "result = set1.union(set2)\n",
        "print(result)  # Output: {1, 2, 3, 4, 5}\n",
        "print(set1)    # Original set1 remains unchanged\n",
        "update(): Adds all elements from another set (or iterable) to the original set, modifying it in place.\n",
        "\n",
        "Example:\n",
        "\n",
        "set1 = {1, 2, 3}\n",
        "set2 = {3, 4, 5}\n",
        "set1.update(set2)\n",
        "print(set1)  # Output: {1, 2, 3, 4, 5} (set1 is modified)"
      ],
      "metadata": {
        "id": "sRcALc0AszJi"
      }
    },
    {
      "cell_type": "markdown",
      "source": [
        "Q5. What is a dictionary? Give an example. Also, state whether a dictionary is ordered or unordered.\n",
        "A dictionary in Python is a collection of key-value pairs where each key is unique, and keys are used to retrieve their corresponding values.\n",
        "\n",
        "Since Python 3.7, dictionaries maintain the order in which items were inserted (i.e., they are ordered).\n",
        "\n",
        "Example:\n",
        "\n",
        "\n",
        "my_dict = {'name': 'Alice', 'age': 25, 'city': 'New York'}"
      ],
      "metadata": {
        "id": "ORvcOtzns_NL"
      }
    },
    {
      "cell_type": "markdown",
      "source": [
        "Q6. Can we create a nested dictionary? If so, please give an example by creating a simple one-level nested dictionary.\n",
        "Yes, we can create a nested dictionary where a dictionary contains other dictionaries.\n",
        "\n",
        "Example:\n",
        "\n",
        "nested_dict = {\n",
        "    'person1': {'name': 'Alice', 'age': 25},\n",
        "    'person2': {'name': 'Bob', 'age': 30}\n",
        "}"
      ],
      "metadata": {
        "id": "uMXdGGeutFwP"
      }
    },
    {
      "cell_type": "markdown",
      "source": [
        "Q7. Using setdefault() method, create a key named topics in the given dictionary and also add the value of the key as this list ['Python', 'Machine Learning', 'Deep Learning'].\n",
        "Code:\n",
        "\n",
        "\n",
        "dict1 = {'language': 'Python', 'course': 'Data Science Masters'}\n",
        "dict1.setdefault('topics', ['Python', 'Machine Learning', 'Deep Learning'])\n",
        "print(dict1)\n",
        "# Output: {'language': 'Python', 'course': 'Data Science Masters', 'topics': ['Python', 'Machine Learning', 'Deep Learning']}"
      ],
      "metadata": {
        "id": "DyH-UTLgtK2-"
      }
    },
    {
      "cell_type": "markdown",
      "source": [
        "Q8. What are the three view objects in dictionaries? Use the three in-built methods in Python to display these three view objects for the given dictionary.\n",
        "The three view objects in dictionaries are:\n",
        "\n",
        "Keys view (keys()): Returns a view of the dictionary's keys.\n",
        "Values view (values()): Returns a view of the dictionary's values.\n",
        "Items view (items()): Returns a view of the dictionary's key-value pairs as tuples.\n",
        "Code:\n",
        "\n",
        "\n",
        "dict1 = {'Sport': 'Cricket', 'Teams': ['India', 'Australia', 'England', 'South Africa', 'Sri Lanka', 'New Zealand']}\n",
        "\n",
        "# Keys view\n",
        "print(dict1.keys())  # Output: dict_keys(['Sport', 'Teams'])\n",
        "\n",
        "# Values view\n",
        "print(dict1.values())  # Output: dict_values(['Cricket', ['India', 'Australia', 'England', 'South Africa', 'Sri Lanka', 'New Zealand']])\n",
        "\n",
        "# Items view\n",
        "print(dict1.items())  # Output: dict_items([('Sport', 'Cricket'), ('Teams', ['India', 'Australia', 'England', 'South Africa', 'Sri Lanka', 'New Zealand']])\n"
      ],
      "metadata": {
        "id": "TQz-vQB9tUvX"
      }
    },
    {
      "cell_type": "markdown",
      "source": [],
      "metadata": {
        "id": "IGD3o_JvtnVd"
      }
    }
  ]
}