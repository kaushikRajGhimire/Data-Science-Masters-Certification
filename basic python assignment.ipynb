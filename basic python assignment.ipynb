{
  "nbformat": 4,
  "nbformat_minor": 0,
  "metadata": {
    "colab": {
      "provenance": [],
      "authorship_tag": "ABX9TyM5eDtP9/cjyRyrJi4wR5IK",
      "include_colab_link": true
    },
    "kernelspec": {
      "name": "python3",
      "display_name": "Python 3"
    },
    "language_info": {
      "name": "python"
    }
  },
  "cells": [
    {
      "cell_type": "markdown",
      "metadata": {
        "id": "view-in-github",
        "colab_type": "text"
      },
      "source": [
        "<a href=\"https://colab.research.google.com/github/kaushikRajGhimire/Data-Science-Masters-Certification/blob/main/basic%20python%20assignment.ipynb\" target=\"_parent\"><img src=\"https://colab.research.google.com/assets/colab-badge.svg\" alt=\"Open In Colab\"/></a>"
      ]
    },
    {
      "cell_type": "markdown",
      "source": [
        "1. Guido van Rossum\n",
        "2. pp,oops,fp,ip etc.\n",
        "3. yes case sensitive\n",
        "4. .py for python script and .ipynb for jupyter notebook\n",
        "5.interpreted\n",
        "6.functions,classes,if-else,loops\n",
        "7. #\n",
        "8. import sys\n",
        "print(sys.version)\n",
        "9. lambda function\n",
        "10. pip stands for \"Pip Installs Packages\" and is the standard package manager for Python. It allows you to install, update, and manage external libraries and packages that are not included in the Python standard library.\n",
        "11. print(),len(),append(),add(),pop(),count()\n",
        "12. Readability and Simplicity: Python's clear and concise syntax makes it easy to read and write, promoting better understanding and collaboration among developers.\n",
        "\n",
        "Versatility: Python is a multi-paradigm language, supporting procedural, object-oriented, and functional programming styles, making it suitable for various applications.\n",
        "\n",
        "Rich Ecosystem: Python has a vast standard library and a large collection of third-party packages available through pip, enabling developers to easily implement a wide range of functionalities.\n",
        "\n",
        "Cross-Platform Compatibility: Python is platform-independent and can run on various operating systems like Windows, macOS, and Linux without modification.\n",
        "\n",
        "Strong Community Support: Python has a large and active community, providing extensive documentation, tutorials, and forums for assistance and collaboration.\n",
        "\n",
        "Rapid Development: Python’s simplicity and powerful libraries allow for faster development cycles, making it ideal for prototyping and iterative development.\n",
        "\n",
        "Integration Capabilities: Python can easily integrate with other languages (like C/C++, Java) and technologies, allowing for versatile application development.\n",
        "\n",
        "Popular in Data Science and AI: Python is widely used in data analysis, machine learning, and artificial intelligence due to its powerful libraries like NumPy, pandas, TensorFlow, and scikit-learn.\n",
        "\n",
        "Web Development: Frameworks like Django and Flask make web development straightforward and efficient, allowing for quick deployment of web applications.\n",
        "\n",
        "Strong Support for Automation and Scripting: Python is an excellent choice for automation tasks, scripting, and system administration, streamlining repetitive tasks.\n",
        "\n",
        "13. Reference Counting: Each object keeps track of how many references point to it. When the reference count reaches zero, the memory is freed.\n",
        "\n",
        "Garbage Collection: Python automatically detects and cleans up objects with circular references that cannot be handled by reference counting.\n",
        "\n",
        "Memory Pools: Python uses a specialized allocator (pymalloc) for small objects to improve efficiency.\n",
        "\n",
        "Object-Specific Allocators: Built-in types (like lists and dictionaries) have their own memory management strategies for better performance.\n",
        "\n",
        "Memory Leaks: While Python helps prevent memory leaks, they can still occur. Tools like the gc module can be used to manage garbage collection manually\n",
        "\n",
        "14. python has indentation"
      ],
      "metadata": {
        "id": "JJnTeQR6ylZn"
      }
    }
  ]
}