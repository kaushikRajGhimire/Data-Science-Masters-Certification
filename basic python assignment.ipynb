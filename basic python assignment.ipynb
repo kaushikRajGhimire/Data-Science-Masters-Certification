{
  "nbformat": 4,
  "nbformat_minor": 0,
  "metadata": {
    "colab": {
      "provenance": [],
      "authorship_tag": "ABX9TyOkNqiNgPchMvMgFn52n2BX",
      "include_colab_link": true
    },
    "kernelspec": {
      "name": "python3",
      "display_name": "Python 3"
    },
    "language_info": {
      "name": "python"
    }
  },
  "cells": [
    {
      "cell_type": "markdown",
      "metadata": {
        "id": "view-in-github",
        "colab_type": "text"
      },
      "source": [
        "<a href=\"https://colab.research.google.com/github/kaushikRajGhimire/Data-Science-Masters-Certification/blob/main/basic%20python%20assignment.ipynb\" target=\"_parent\"><img src=\"https://colab.research.google.com/assets/colab-badge.svg\" alt=\"Open In Colab\"/></a>"
      ]
    },
    {
      "cell_type": "markdown",
      "source": [
        "def calculate_grade():\n",
        "\n",
        "    percentage = float(input(\"Enter your percentage: \"))\n",
        "    if percentage >= 90:\n",
        "        grade = \"A\"\n",
        "    elif percentage >= 80:\n",
        "        grade = \"B\"\n",
        "    elif percentage >= 70:\n",
        "        grade = \"C\"\n",
        "    elif percentage >= 60:\n",
        "        grade = \"D\"\n",
        "    elif percentage >= 50:\n",
        "        grade = \"E\"\n",
        "    else:\n",
        "        grade = \"F\"\n",
        "    print(f\"Your grade is: {grade}\\n\")\n",
        "\n",
        "\n",
        "\n",
        "def calculate_road_tax():\n",
        "\n",
        "    cost_price = float(input(\"Enter the cost price of the bike: \"))\n",
        "    if cost_price < 50000:\n",
        "        road_tax = cost_price * 0.05\n",
        "    elif cost_price < 100000:\n",
        "        road_tax = cost_price * 0.1\n",
        "    else:\n",
        "        road_tax = cost_price * 0.15\n",
        "    print(f\"Road tax to pay: {road_tax}\\n\")\n",
        "\n",
        "def important_places_in_city():\n",
        "\n",
        "    city = input(\"Enter the city name: \").lower()\n",
        "    places = {\n",
        "        \"mumbai\": \"Gateway of India, Marine Drive, Chhatrapati Shivaji Terminus\",\n",
        "        \"delhi\": \"India Gate, Red Fort, Qutub Minar\",\n",
        "        \"bangalore\": \"Vidhana Soudha, Lalbagh Botanical Garden, Bangalore Palace\",\n",
        "        \"chennai\": \"Marina Beach, Kapaleeshwarar Temple, Fort St. George\",\n",
        "        \"kolkata\": \"Victoria Memorial, Howrah Bridge, Dakshineswar Kali Temple\"\n",
        "    }\n",
        "    important_places = places.get(city, \"Important places not found for this city.\")\n",
        "    print(f\"Important places in {city.capitalize()}: {important_places}\\n\")\n",
        "\n",
        "def divide_by_three():\n",
        "\n",
        "    number = int(input(\"Enter a number: \"))\n",
        "    count = 0\n",
        "    while number >= 10:\n",
        "        number /= 3\n",
        "        count += 1\n",
        "    print(f\"The number can be divided by 3 {count} times before it becomes less than 10.\\n\")\n",
        "\n",
        "# Run the functions\n",
        "calculate_grade()\n",
        "calculate_road_tax()\n",
        "important_places_in_city()\n",
        "divide_by_three()\n"
      ],
      "metadata": {
        "id": "jz4AieC72-Gz"
      }
    }
  ]
}