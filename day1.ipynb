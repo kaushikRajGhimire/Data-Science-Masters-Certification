{
 "cells": [
  {
   "cell_type": "code",
   "execution_count": 1,
   "id": "0d21e397-20a7-47f6-8fd4-46ac295345de",
   "metadata": {},
   "outputs": [
    {
     "name": "stdout",
     "output_type": "stream",
     "text": [
      "hello world\n"
     ]
    }
   ],
   "source": [
    "print(\"hello world\")"
   ]
  },
  {
   "cell_type": "markdown",
   "id": "7e8759e6-c9c2-46c0-94dd-8b75e6ad2913",
   "metadata": {},
   "source": [
    "this is my first class\n"
   ]
  },
  {
   "cell_type": "markdown",
   "id": "625f1479-f994-48fc-86f6-41358a5024c1",
   "metadata": {},
   "source": [
    "#welcome"
   ]
  },
  {
   "cell_type": "markdown",
   "id": "fc156d44-8f32-4699-a54e-9b19bc1d930c",
   "metadata": {},
   "source": [
    "## welcome\n"
   ]
  },
  {
   "cell_type": "code",
   "execution_count": 6,
   "id": "5cf0f113-8b04-4fa2-b321-20c108080bca",
   "metadata": {},
   "outputs": [],
   "source": [
    "#wels"
   ]
  },
  {
   "cell_type": "markdown",
   "id": "7193aa38-a51e-43e2-b02d-b555fbcb8802",
   "metadata": {},
   "source": [
    "# thanks"
   ]
  },
  {
   "cell_type": "code",
   "execution_count": 7,
   "id": "14d4e5c1-c7a7-4f01-bd32-88d23e8ecdfe",
   "metadata": {},
   "outputs": [
    {
     "data": {
      "text/plain": [
       "2"
      ]
     },
     "execution_count": 7,
     "metadata": {},
     "output_type": "execute_result"
    }
   ],
   "source": [
    "1+1\n"
   ]
  },
  {
   "cell_type": "markdown",
   "id": "fe125792-c519-4ffb-9b34-4780c9425b92",
   "metadata": {},
   "source": [
    "# how to become a data scientist\n"
   ]
  },
  {
   "cell_type": "code",
   "execution_count": null,
   "id": "4dd61578-42a4-44ad-8cd1-2c404dd33078",
   "metadata": {},
   "outputs": [],
   "source": []
  },
  {
   "cell_type": "code",
   "execution_count": 7,
   "id": "e51acadb-29f7-4574-9a1a-dfcc7ae68d81",
   "metadata": {},
   "outputs": [
    {
     "data": {
      "text/plain": [
       "2"
      ]
     },
     "execution_count": 7,
     "metadata": {},
     "output_type": "execute_result"
    }
   ],
   "source": [
    "1+1\n"
   ]
  },
  {
   "cell_type": "code",
   "execution_count": 7,
   "id": "6e0fac8b-65b1-445e-bb8e-c97fceb03241",
   "metadata": {},
   "outputs": [
    {
     "data": {
      "text/plain": [
       "2"
      ]
     },
     "execution_count": 7,
     "metadata": {},
     "output_type": "execute_result"
    }
   ],
   "source": [
    "1+1\n"
   ]
  },
  {
   "cell_type": "code",
   "execution_count": 8,
   "id": "e1e914ca-6444-464c-9abd-4de024439969",
   "metadata": {},
   "outputs": [],
   "source": [
    "# is the single line commnt"
   ]
  },
  {
   "cell_type": "code",
   "execution_count": 10,
   "id": "cf08eb5e-1310-4753-9a4b-14825e7a2d06",
   "metadata": {},
   "outputs": [
    {
     "data": {
      "text/plain": [
       "' \\nmy name \\nis kaushik \\nage 20 \\ncse engg \\n'"
      ]
     },
     "execution_count": 10,
     "metadata": {},
     "output_type": "execute_result"
    }
   ],
   "source": [
    "\"\"\" \n",
    "my name \n",
    "is kaushik \n",
    "age 20 \n",
    "cse engg \n",
    "\"\"\""
   ]
  },
  {
   "cell_type": "code",
   "execution_count": 11,
   "id": "2ac4879b-bcda-4a46-9eb8-36849d8e8f84",
   "metadata": {},
   "outputs": [
    {
     "data": {
      "text/plain": [
       "2"
      ]
     },
     "execution_count": 11,
     "metadata": {},
     "output_type": "execute_result"
    }
   ],
   "source": [
    "a=2\n",
    "a\n"
   ]
  },
  {
   "cell_type": "code",
   "execution_count": 12,
   "id": "3fbcc994-acda-46e5-abab-e6d1611592fb",
   "metadata": {},
   "outputs": [
    {
     "name": "stdout",
     "output_type": "stream",
     "text": [
      "1\n"
     ]
    }
   ],
   "source": [
    "a=1 \n",
    "print(a)"
   ]
  },
  {
   "cell_type": "code",
   "execution_count": 14,
   "id": "660279f3-4bf5-4498-88cc-7097bd559f0b",
   "metadata": {},
   "outputs": [
    {
     "name": "stdout",
     "output_type": "stream",
     "text": [
      "kaushikprashna\n"
     ]
    }
   ],
   "source": [
    "king=\"kaushik\"\n",
    "queen=\"prashna\"\n",
    "print(king+queen)"
   ]
  },
  {
   "cell_type": "code",
   "execution_count": 15,
   "id": "eb167bc5-d937-4b5a-9c4d-753a518707dc",
   "metadata": {},
   "outputs": [
    {
     "name": "stdout",
     "output_type": "stream",
     "text": [
      "kaushikriya\n"
     ]
    }
   ],
   "source": [
    "queen=\"riya\"\n",
    "print(king+queen)"
   ]
  },
  {
   "cell_type": "code",
   "execution_count": 17,
   "id": "21be0ee7-c2ef-40f9-b68f-08150e30c4ca",
   "metadata": {},
   "outputs": [
    {
     "data": {
      "text/plain": [
       "str"
      ]
     },
     "execution_count": 17,
     "metadata": {},
     "output_type": "execute_result"
    }
   ],
   "source": [
    "type(queen)"
   ]
  },
  {
   "cell_type": "code",
   "execution_count": 19,
   "id": "e5627e47-e86c-4bd2-b7fb-ef19035c50e7",
   "metadata": {},
   "outputs": [
    {
     "data": {
      "text/plain": [
       "False"
      ]
     },
     "execution_count": 19,
     "metadata": {},
     "output_type": "execute_result"
    }
   ],
   "source": [
    "bool( 0)"
   ]
  },
  {
   "cell_type": "code",
   "execution_count": 21,
   "id": "7120dd3a-f85b-4108-b599-a12de12dbf49",
   "metadata": {},
   "outputs": [
    {
     "data": {
      "text/plain": [
       "True"
      ]
     },
     "execution_count": 21,
     "metadata": {},
     "output_type": "execute_result"
    }
   ],
   "source": [
    "bool(-1)"
   ]
  },
  {
   "cell_type": "code",
   "execution_count": 24,
   "id": "9d8be11f-307e-46dd-a2b9-b70d51ab5868",
   "metadata": {},
   "outputs": [
    {
     "name": "stdout",
     "output_type": "stream",
     "text": [
      "fuck\n"
     ]
    }
   ],
   "source": [
    "abc=-2\n",
    "if bool(abc)==True:\n",
    "    print('fuck')"
   ]
  },
  {
   "cell_type": "code",
   "execution_count": null,
   "id": "528bb1a9-5ed9-42d9-baa6-857b78b872b1",
   "metadata": {},
   "outputs": [],
   "source": []
  }
 ],
 "metadata": {
  "kernelspec": {
   "display_name": "Python 3 (ipykernel)",
   "language": "python",
   "name": "python3"
  },
  "language_info": {
   "codemirror_mode": {
    "name": "ipython",
    "version": 3
   },
   "file_extension": ".py",
   "mimetype": "text/x-python",
   "name": "python",
   "nbconvert_exporter": "python",
   "pygments_lexer": "ipython3",
   "version": "3.10.8"
  }
 },
 "nbformat": 4,
 "nbformat_minor": 5
}
