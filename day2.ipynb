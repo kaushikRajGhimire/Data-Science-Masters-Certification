{
 "cells": [
  {
   "cell_type": "code",
   "execution_count": 1,
   "id": "1881ed07-bfa2-44df-8f72-e47b61815440",
   "metadata": {},
   "outputs": [
    {
     "name": "stdout",
     "output_type": "stream",
     "text": [
      "my age is: 20\n"
     ]
    }
   ],
   "source": [
    "age =20\n",
    "print(f\"my age is: {age}\")"
   ]
  },
  {
   "cell_type": "code",
   "execution_count": 2,
   "id": "62a85bcb-1a46-423d-bfd5-65618efe91df",
   "metadata": {},
   "outputs": [
    {
     "name": "stdout",
     "output_type": "stream",
     "text": [
      "my age is: 17\n"
     ]
    }
   ],
   "source": [
    "age=17\n",
    "print(\"my age is:\",age)\n"
   ]
  },
  {
   "cell_type": "code",
   "execution_count": 3,
   "id": "580148d9-d0c1-43ea-95da-d0add88100aa",
   "metadata": {},
   "outputs": [
    {
     "name": "stdout",
     "output_type": "stream",
     "text": [
      "the name kaushik and the age 20\n"
     ]
    }
   ],
   "source": [
    "age=20\n",
    "name =\"kaushik\"\n",
    "print(\"the name {} and the age {}\".format(name,age))"
   ]
  },
  {
   "cell_type": "code",
   "execution_count": 6,
   "id": "3e07e201-1af0-449c-88de-9521feb9ab2c",
   "metadata": {},
   "outputs": [
    {
     "name": "stdout",
     "output_type": "stream",
     "text": [
      "the name kaushik and the age 20\n"
     ]
    }
   ],
   "source": [
    "age=20 #placeholder\n",
    "name =\"kaushik\"\n",
    "print(\"the name {a} and the age {b}\".format(b=age,a=name))"
   ]
  },
  {
   "cell_type": "code",
   "execution_count": 7,
   "id": "21555334-ea54-4964-bf11-391021d4bb28",
   "metadata": {},
   "outputs": [
    {
     "name": "stdout",
     "output_type": "stream",
     "text": [
      "my age is 20 and my drgree is : BE with the name of kaushik\n"
     ]
    }
   ],
   "source": [
    "name=\"kaushik\"\n",
    "age=20\n",
    "degree=\"BE\"\n",
    "print(\"my age is {} and my drgree is : {} with the name of {}\".format(age,degree,name))"
   ]
  },
  {
   "cell_type": "code",
   "execution_count": 10,
   "id": "a6af8ed1-f17c-42d0-84a0-01779b52e6f4",
   "metadata": {},
   "outputs": [
    {
     "name": "stdout",
     "output_type": "stream",
     "text": [
      "my age is 20 and my degree is BE with the name kaushik\n"
     ]
    }
   ],
   "source": [
    "#fstring format\n",
    "name=\"kaushik\"\n",
    "age=20\n",
    "degree=\"BE\"\n",
    "print(f\"my age is {age} and my degree is {degree} with the name {name}\")"
   ]
  },
  {
   "cell_type": "markdown",
   "id": "7024489e-cf7a-462b-ad4f-7de84d2b1bf8",
   "metadata": {},
   "source": [
    "## control flow \n",
    "### decision making statements"
   ]
  },
  {
   "cell_type": "code",
   "execution_count": 12,
   "id": "872b7ac0-8ba0-4d10-9075-3eb6df78590c",
   "metadata": {},
   "outputs": [
    {
     "name": "stdout",
     "output_type": "stream",
     "text": [
      "you are not eligible to vote\n"
     ]
    }
   ],
   "source": [
    "age=18\n",
    "if age<18:\n",
    "    print(\"you are not eligible to vote\")"
   ]
  },
  {
   "cell_type": "code",
   "execution_count": 13,
   "id": "f79e7b09-1d6a-40f4-b08c-af7e19ec36ac",
   "metadata": {},
   "outputs": [
    {
     "name": "stdin",
     "output_type": "stream",
     "text": [
      "enter your name krg\n"
     ]
    },
    {
     "name": "stdout",
     "output_type": "stream",
     "text": [
      "krg\n"
     ]
    }
   ],
   "source": [
    "name=input(\"enter your name\")\n",
    "print(name)"
   ]
  },
  {
   "cell_type": "code",
   "execution_count": 19,
   "id": "3186f281-e2e4-4932-b5b8-cbb54caa6ac0",
   "metadata": {},
   "outputs": [
    {
     "name": "stdin",
     "output_type": "stream",
     "text": [
      "enter your age 50\n"
     ]
    },
    {
     "name": "stdout",
     "output_type": "stream",
     "text": [
      "50\n",
      "invalid\n"
     ]
    }
   ],
   "source": [
    "name=int(input(\"enter your age\"))\n",
    "print(name)\n",
    "if name>=18 and name<=45:\n",
    "    print(\"you are a young blood\")\n",
    "else:\n",
    "    print(\"invalid\")"
   ]
  },
  {
   "cell_type": "code",
   "execution_count": 18,
   "id": "8881971b-d7c4-45f8-b1a6-150fbef1a663",
   "metadata": {},
   "outputs": [
    {
     "data": {
      "text/plain": [
       "True"
      ]
     },
     "execution_count": 18,
     "metadata": {},
     "output_type": "execute_result"
    }
   ],
   "source": [
    "20<40\n"
   ]
  },
  {
   "cell_type": "code",
   "execution_count": 25,
   "id": "50d85605-3860-4ce2-85c9-4d83c163ef78",
   "metadata": {},
   "outputs": [
    {
     "name": "stdin",
     "output_type": "stream",
     "text": [
      "enter the product price 999\n"
     ]
    },
    {
     "name": "stdout",
     "output_type": "stream",
     "text": [
      "you will get a suitcase\n",
      "699.3\n"
     ]
    }
   ],
   "source": [
    "price=int(input(\"enter the product price\"))\n",
    "if price>1000:\n",
    "    \n",
    "    price=price-0.2*price\n",
    "    print(price)\n",
    "elif price<=1000:\n",
    "    if price==999:\n",
    "        print('you will get a suitcase')\n",
    "    price=price-0.3*price\n",
    "    print(price)\n",
    "        "
   ]
  },
  {
   "cell_type": "code",
   "execution_count": 28,
   "id": "0ad975f6-36c4-4795-9bc0-7568a7fa3326",
   "metadata": {},
   "outputs": [
    {
     "name": "stdout",
     "output_type": "stream",
     "text": [
      "21\n",
      "22\n",
      "23\n",
      "24\n",
      "25\n",
      "26\n",
      "27\n",
      "28\n",
      "29\n",
      "30\n",
      "31\n",
      "32\n",
      "33\n",
      "34\n",
      "35\n",
      "36\n"
     ]
    }
   ],
   "source": [
    "# while loop\n",
    "age=20\n",
    "while age<=35:\n",
    "    age=age+1\n",
    "    print(age)"
   ]
  },
  {
   "cell_type": "code",
   "execution_count": 1,
   "id": "dac10afc-21f4-4fe9-8b2b-11f64082ec72",
   "metadata": {},
   "outputs": [],
   "source": [
    "lst=[1,2,3,'kaushik']"
   ]
  },
  {
   "cell_type": "code",
   "execution_count": 2,
   "id": "b047a323-aece-46e8-a2a2-9e5df8571558",
   "metadata": {},
   "outputs": [
    {
     "data": {
      "text/plain": [
       "list"
      ]
     },
     "execution_count": 2,
     "metadata": {},
     "output_type": "execute_result"
    }
   ],
   "source": [
    "type(lst)"
   ]
  },
  {
   "cell_type": "code",
   "execution_count": 3,
   "id": "11c101b3-07ad-47fa-893d-19c8991daf0f",
   "metadata": {},
   "outputs": [
    {
     "data": {
      "text/plain": [
       "list[3]"
      ]
     },
     "execution_count": 3,
     "metadata": {},
     "output_type": "execute_result"
    }
   ],
   "source": [
    "list[3]"
   ]
  },
  {
   "cell_type": "code",
   "execution_count": 4,
   "id": "a8b2397f-250c-4b8d-99b1-513de5d16016",
   "metadata": {},
   "outputs": [
    {
     "data": {
      "text/plain": [
       "'kaushik'"
      ]
     },
     "execution_count": 4,
     "metadata": {},
     "output_type": "execute_result"
    }
   ],
   "source": [
    "lst[3]"
   ]
  },
  {
   "cell_type": "code",
   "execution_count": 5,
   "id": "c19aedda-68c5-4dcc-9a1c-7b1ffc46b39c",
   "metadata": {},
   "outputs": [
    {
     "data": {
      "text/plain": [
       "[1, 2, 3, 'kaushik']"
      ]
     },
     "execution_count": 5,
     "metadata": {},
     "output_type": "execute_result"
    }
   ],
   "source": [
    "lst"
   ]
  },
  {
   "cell_type": "code",
   "execution_count": 2,
   "id": "a672fabd-b2d6-4bf0-9067-af7fa9e83d0f",
   "metadata": {},
   "outputs": [
    {
     "name": "stdout",
     "output_type": "stream",
     "text": [
      "abcde"
     ]
    }
   ],
   "source": [
    "kaushik = 'abcde'\n",
    "for a in kaushik:\n",
    "    print(a,end='')\n",
    "    "
   ]
  },
  {
   "cell_type": "code",
   "execution_count": 4,
   "id": "abb6e8fe-0b66-41d4-bcdf-1e8f57ba45ad",
   "metadata": {},
   "outputs": [
    {
     "name": "stdin",
     "output_type": "stream",
     "text": [
      "enter the number 100\n"
     ]
    },
    {
     "name": "stdout",
     "output_type": "stream",
     "text": [
      "0\n",
      "7\n",
      "14\n",
      "21\n",
      "28\n",
      "35\n",
      "42\n",
      "49\n",
      "56\n",
      "63\n",
      "70\n",
      "77\n",
      "84\n",
      "91\n",
      "98\n"
     ]
    }
   ],
   "source": [
    "n=int(input(\"enter the number\"))\n",
    "for i in range(0,n,7):\n",
    "    print(i)"
   ]
  },
  {
   "cell_type": "code",
   "execution_count": 7,
   "id": "d07bc0af-4ad2-4b2b-84e5-0805dcf14b78",
   "metadata": {},
   "outputs": [
    {
     "name": "stdin",
     "output_type": "stream",
     "text": [
      "entr the rows 5\n"
     ]
    },
    {
     "name": "stdout",
     "output_type": "stream",
     "text": [
      "x\n",
      "xx\n",
      "xxx\n",
      "xxxx\n",
      "xxxxx\n"
     ]
    }
   ],
   "source": [
    "n=int(input(\"entr the rows\"))\n",
    "for i in range(0,n):\n",
    "    for j in range(0,i+1):\n",
    "        print('x',end='')\n",
    "    print('\\r')"
   ]
  },
  {
   "cell_type": "code",
   "execution_count": null,
   "id": "c4d943c3-3dc7-4bf1-83e1-b28bf886afeb",
   "metadata": {},
   "outputs": [],
   "source": []
  }
 ],
 "metadata": {
  "kernelspec": {
   "display_name": "Python 3 (ipykernel)",
   "language": "python",
   "name": "python3"
  },
  "language_info": {
   "codemirror_mode": {
    "name": "ipython",
    "version": 3
   },
   "file_extension": ".py",
   "mimetype": "text/x-python",
   "name": "python",
   "nbconvert_exporter": "python",
   "pygments_lexer": "ipython3",
   "version": "3.10.8"
  }
 },
 "nbformat": 4,
 "nbformat_minor": 5
}
