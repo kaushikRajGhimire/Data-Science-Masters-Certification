{
  "nbformat": 4,
  "nbformat_minor": 0,
  "metadata": {
    "colab": {
      "provenance": [],
      "authorship_tag": "ABX9TyMgHWCUz1742QonPuBOkGr3",
      "include_colab_link": true
    },
    "kernelspec": {
      "name": "python3",
      "display_name": "Python 3"
    },
    "language_info": {
      "name": "python"
    }
  },
  "cells": [
    {
      "cell_type": "markdown",
      "metadata": {
        "id": "view-in-github",
        "colab_type": "text"
      },
      "source": [
        "<a href=\"https://colab.research.google.com/github/kaushikRajGhimire/Data-Science-Masters-Certification/blob/main/dictionary%20assignment.ipynb\" target=\"_parent\"><img src=\"https://colab.research.google.com/assets/colab-badge.svg\" alt=\"Open In Colab\"/></a>"
      ]
    },
    {
      "cell_type": "markdown",
      "source": [
        "def flatten_and_multiply(nested_list):\n",
        "    def flatten(lst):\n",
        "        \n",
        "        flat_list = []\n",
        "        for item in lst:\n",
        "            if isinstance(item, (list, tuple, set)):\n",
        "                flat_list.extend(flatten(item))  # Recursively flatten\n",
        "            elif isinstance(item, dict):\n",
        "                # Extract numeric keys and values from the dictionary\n",
        "                for key, value in item.items():\n",
        "                    if isinstance(key, (int, float)):\n",
        "                        flat_list.append(key)\n",
        "                    if isinstance(value, (int, float)):\n",
        "                        flat_list.append(value)\n",
        "                    elif isinstance(value, (list, tuple, set)):\n",
        "                        flat_list.extend(flatten(value))\n",
        "        flat_list.append(item)  # Add non-numeric items directly\n",
        "        return flat_list\n",
        "\n",
        "    flat_list = flatten(nested_list)\n",
        "    product = 1\n",
        "    for number in flat_list:\n",
        "        if isinstance(number, (int, float)):  # Check if the item is numeric\n",
        "            product *= number\n",
        "    return product\n",
        "\n",
        "# Given list\n",
        "list1 = [\n",
        "    1, 2, 3, 4,\n",
        "    [44, 55, 66, True],\n",
        "    False,\n",
        "    (34, 56, 78, 89, 34),\n",
        "    {1, 2, 3, 3, 2, 1},\n",
        "    {1: 34, \"key2\": [55, 67, 78, 89], 4: (45, 22, 61, 34)},\n",
        "    [56, 'data science'],\n",
        "    'Machine Learning'\n",
        "]\n",
        "\n",
        "# Calculate the product of all numeric values\n",
        "result = flatten_and_multiply(list1)\n",
        "print(f\"The product of all numeric values is: {result}\")\n"
      ],
      "metadata": {
        "id": "BG3rHRfM68-F"
      }
    },
    {
      "cell_type": "markdown",
      "source": [
        "def encrypt_message(message):\n",
        "    # Convert the message to lowercase\n",
        "    message = message.lower()\n",
        "    \n",
        "    # Define the encryption mapping\n",
        "    encryption_map = {\n",
        "        'a': 'z',\n",
        "        'b': 'y',\n",
        "        'c': 'x',\n",
        "        'd': 'w',\n",
        "        'e': 'v',\n",
        "        'f': 'u',\n",
        "        'g': 't',\n",
        "        'h': 's',\n",
        "        'i': 'r',\n",
        "        'j': 'q',\n",
        "        'k': 'p',\n",
        "        'l': 'o',\n",
        "        'm': 'n',\n",
        "        'n': 'm',\n",
        "        'o': 'l',\n",
        "        'p': 'k',\n",
        "        'q': 'j',\n",
        "        'r': 'i',\n",
        "        's': 'h',\n",
        "        't': 'g',\n",
        "        'u': 'f',\n",
        "        'v': 'e',\n",
        "        'w': 'd',\n",
        "        'x': 'c',\n",
        "        'y': 'b',\n",
        "        'z': 'a',\n",
        "        ' ': '$'  # Replace whitespace with dollar sign\n",
        "    }\n",
        "\n",
        "    encrypted_message = \"\"\n",
        "    \n",
        "    for char in message:\n",
        "        if char in encryption_map:\n",
        "            encrypted_message += encryption_map[char]\n",
        "        else:\n",
        "            encrypted_message += char  # Keep punctuation unchanged\n",
        "\n",
        "    return encrypted_message\n",
        "\n",
        "# Input Sentence\n",
        "input_sentence = \"I want to become a Data Scientist.\"\n",
        "# Encrypt the input sentence\n",
        "encrypted_output = encrypt_message(input_sentence)\n",
        "\n",
        "print(f\"Encrypted Message: {encrypted_output}\")\n"
      ],
      "metadata": {
        "id": "ETZ71pN77V0X"
      }
    }
  ]
}