{
  "nbformat": 4,
  "nbformat_minor": 0,
  "metadata": {
    "colab": {
      "provenance": [],
      "authorship_tag": "ABX9TyNwUj1ag9jRR609D5Iih7hl",
      "include_colab_link": true
    },
    "kernelspec": {
      "name": "python3",
      "display_name": "Python 3"
    },
    "language_info": {
      "name": "python"
    }
  },
  "cells": [
    {
      "cell_type": "markdown",
      "metadata": {
        "id": "view-in-github",
        "colab_type": "text"
      },
      "source": [
        "<a href=\"https://colab.research.google.com/github/kaushikRajGhimire/Data-Science-Masters-Certification/blob/main/functions2%20assignment.ipynb\" target=\"_parent\"><img src=\"https://colab.research.google.com/assets/colab-badge.svg\" alt=\"Open In Colab\"/></a>"
      ]
    },
    {
      "cell_type": "markdown",
      "source": [
        "Q1. Create a python program to sort the given list of tuples based on integer value using a\n",
        "lambda function.\n",
        "[('Sachin Tendulkar', 34357), ('Ricky Ponting', 27483), ('Jack Kallis', 25534), ('Virat Kohli', 24936)]\n",
        "\n",
        "# List of tuples\n",
        "players = [\n",
        "    ('Sachin Tendulkar', 34357),\n",
        "    ('Ricky Ponting', 27483),\n",
        "    ('Jack Kallis', 25534),\n",
        "    ('Virat Kohli', 24936)\n",
        "]\n",
        "\n",
        "# Sorting the list of tuples based on the integer value (second element)\n",
        "sorted_players = sorted(players, key=lambda x: x[1], reverse=True)\n",
        "\n",
        "# Printing the sorted list\n",
        "print(\"Players sorted by runs scored:\")\n",
        "for player in sorted_players:\n",
        "    print(f\"{player[0]}: {player[1]}\")\n"
      ],
      "metadata": {
        "id": "SUFc0_yPFBg1"
      }
    },
    {
      "cell_type": "markdown",
      "source": [
        "Q2. Write a Python Program to find the squares of all the numbers in the given list of integers using\n",
        "lambda and map functions.\n",
        "l=[1, 2, 3, 4, 5, 6, 7, 8, 9, 10]\n",
        "\n",
        "list(map(lambda x:x**2,l))"
      ],
      "metadata": {
        "id": "FVtpl3FWFxnk"
      }
    },
    {
      "cell_type": "markdown",
      "source": [
        "\n",
        "Q3. Write a python program to convert the given list of integers into a tuple of strings. Use map and\n",
        "lambda functions\n",
        " String: [1, 2, 3, 4, 5, 6, 7, 8, 9, 10]\n",
        "Expected output: ('1', '2', '3', '4', '5', '6', '7', '8', '9', '10')\n",
        "tuple(map(lambda x:str(x),String))"
      ],
      "metadata": {
        "id": "_da6ZtCOF7kg"
      }
    },
    {
      "cell_type": "markdown",
      "source": [
        "Q4. Write a python program using reduce function to compute the product of a list containing numbers\n",
        "from 1 to 25.\n",
        "# lists=[1,2,3,4,5,6,7,8,9,10....25]\n",
        "reduce(lambda x,y:x*y,lists)"
      ],
      "metadata": {
        "id": "IaLuOLpmGL-W"
      }
    },
    {
      "cell_type": "markdown",
      "source": [
        "Write a python program to filter the numbers in a given list that are divisible by 2 and 3 using the\n",
        "filter function.\n",
        "l=[2, 3, 6, 9, 27, 60, 90, 120, 55, 46]\n",
        "list(filter(lambda x:x%2==0 or x%3==0,l))"
      ],
      "metadata": {
        "id": "3jq2f8X_GhAB"
      }
    },
    {
      "cell_type": "markdown",
      "source": [
        "Q6. Write a python program to find palindromes in the given list of strings using lambda and filter\n",
        "function.\n",
        "l=['python', 'php', 'aba', 'radar', 'level']\n",
        "\n",
        "answer=list(filter(lambda x: x==x[::-1],l))\n",
        "print(answer)"
      ],
      "metadata": {
        "id": "La8d5bQZG4Vn"
      }
    },
    {
      "cell_type": "markdown",
      "source": [],
      "metadata": {
        "id": "dZ4bHGKwHmUz"
      }
    }
  ]
}