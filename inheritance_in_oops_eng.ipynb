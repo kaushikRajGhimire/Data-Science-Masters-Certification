{
  "cells": [
    {
      "cell_type": "markdown",
      "metadata": {
        "id": "view-in-github",
        "colab_type": "text"
      },
      "source": [
        "<a href=\"https://colab.research.google.com/github/kaushikRajGhimire/Data-Science-Masters-Certification/blob/main/inheritance_in_oops_eng.ipynb\" target=\"_parent\"><img src=\"https://colab.research.google.com/assets/colab-badge.svg\" alt=\"Open In Colab\"/></a>"
      ]
    },
    {
      "cell_type": "code",
      "execution_count": null,
      "id": "9ab60fdb-415a-4566-91f6-91f3a12d1d41",
      "metadata": {
        "id": "9ab60fdb-415a-4566-91f6-91f3a12d1d41"
      },
      "outputs": [],
      "source": [
        "class parent:\n",
        "\n",
        "    def test_parent(self) :\n",
        "        print(\"this is my parent class \")"
      ]
    },
    {
      "cell_type": "code",
      "execution_count": null,
      "id": "45ee996d-e710-4d08-b9e1-65f9d1bb5dec",
      "metadata": {
        "id": "45ee996d-e710-4d08-b9e1-65f9d1bb5dec"
      },
      "outputs": [],
      "source": [
        "class child(parent):\n",
        "    pass"
      ]
    },
    {
      "cell_type": "code",
      "execution_count": null,
      "id": "072650c3-da37-441a-b636-462533ab41c2",
      "metadata": {
        "id": "072650c3-da37-441a-b636-462533ab41c2"
      },
      "outputs": [],
      "source": [
        "child_obj = child()"
      ]
    },
    {
      "cell_type": "code",
      "execution_count": null,
      "id": "3ed93b5f-dcbf-49c3-9240-98da3c333cda",
      "metadata": {
        "id": "3ed93b5f-dcbf-49c3-9240-98da3c333cda",
        "outputId": "676deef7-42c0-45ec-87be-5047f74e358f"
      },
      "outputs": [
        {
          "name": "stdout",
          "output_type": "stream",
          "text": [
            "this is my parent class \n"
          ]
        }
      ],
      "source": [
        "child_obj.test_parent()"
      ]
    },
    {
      "cell_type": "code",
      "execution_count": null,
      "id": "c6cf06d8-fc8b-49c8-b998-72123cedf565",
      "metadata": {
        "id": "c6cf06d8-fc8b-49c8-b998-72123cedf565"
      },
      "outputs": [],
      "source": [
        "class class1 :\n",
        "    def test_class1(self) :\n",
        "        print(\"this is my class1 \" )"
      ]
    },
    {
      "cell_type": "code",
      "execution_count": null,
      "id": "fae5e46f-91e4-44f5-b1fd-d13a622a5394",
      "metadata": {
        "id": "fae5e46f-91e4-44f5-b1fd-d13a622a5394"
      },
      "outputs": [],
      "source": [
        "class class2(class1) :\n",
        "    def test_class2(self) :\n",
        "        print(\"this is my class2\" )"
      ]
    },
    {
      "cell_type": "code",
      "execution_count": null,
      "id": "19f2fd8b-ce85-4fa4-92fb-9ae0758675ed",
      "metadata": {
        "id": "19f2fd8b-ce85-4fa4-92fb-9ae0758675ed"
      },
      "outputs": [],
      "source": [
        "class class3(class2) :\n",
        "    def test_class3(self) :\n",
        "        print(\"this is my class3 \")"
      ]
    },
    {
      "cell_type": "code",
      "execution_count": null,
      "id": "759a8eee-763d-405a-b897-0c7f4b78fdd4",
      "metadata": {
        "id": "759a8eee-763d-405a-b897-0c7f4b78fdd4"
      },
      "outputs": [],
      "source": [
        "obj_class3  = class3()"
      ]
    },
    {
      "cell_type": "code",
      "execution_count": null,
      "id": "78311224-7483-4de6-b6e5-3d4338e858f5",
      "metadata": {
        "id": "78311224-7483-4de6-b6e5-3d4338e858f5",
        "outputId": "cfef5763-c326-4ad8-801a-441c8ce39046"
      },
      "outputs": [
        {
          "name": "stdout",
          "output_type": "stream",
          "text": [
            "this is my class1 \n"
          ]
        }
      ],
      "source": [
        "obj_class3.test_class1()"
      ]
    },
    {
      "cell_type": "code",
      "execution_count": null,
      "id": "dbd54953-d873-4dce-bf32-d9bbcdbeaf95",
      "metadata": {
        "id": "dbd54953-d873-4dce-bf32-d9bbcdbeaf95",
        "outputId": "475e9b61-62fe-40bb-8c0c-893a5aced9bc"
      },
      "outputs": [
        {
          "name": "stdout",
          "output_type": "stream",
          "text": [
            "this is my class2\n"
          ]
        }
      ],
      "source": [
        "obj_class3.test_class2()"
      ]
    },
    {
      "cell_type": "code",
      "execution_count": null,
      "id": "db9150d7-c6f4-4653-8186-6e377672edeb",
      "metadata": {
        "id": "db9150d7-c6f4-4653-8186-6e377672edeb",
        "outputId": "3bb7d4e6-f551-464c-8a60-f282dc79ee98"
      },
      "outputs": [
        {
          "name": "stdout",
          "output_type": "stream",
          "text": [
            "this is my class3 \n"
          ]
        }
      ],
      "source": [
        "obj_class3.test_class3()"
      ]
    },
    {
      "cell_type": "code",
      "execution_count": null,
      "id": "a526ccfe-3d6e-484c-8013-88ad46bbac90",
      "metadata": {
        "id": "a526ccfe-3d6e-484c-8013-88ad46bbac90"
      },
      "outputs": [],
      "source": [
        "class class1:\n",
        "    def test_class1(self) :\n",
        "        print(\"this is my class 1\" )"
      ]
    },
    {
      "cell_type": "code",
      "execution_count": null,
      "id": "dca41736-065f-4f00-9030-5a9b4ef88ab8",
      "metadata": {
        "id": "dca41736-065f-4f00-9030-5a9b4ef88ab8"
      },
      "outputs": [],
      "source": [
        "class class2 :\n",
        "    def test_class2(self) :\n",
        "        print(\"this is my class 2\")"
      ]
    },
    {
      "cell_type": "code",
      "execution_count": null,
      "id": "8cd32f8a-79e1-4ace-9832-82ba590b283b",
      "metadata": {
        "id": "8cd32f8a-79e1-4ace-9832-82ba590b283b"
      },
      "outputs": [],
      "source": [
        "class class3 (class1 , class2) :\n",
        "    pass"
      ]
    },
    {
      "cell_type": "code",
      "execution_count": null,
      "id": "8d7481d7-4dd9-4c4f-a3b7-efe42db35dde",
      "metadata": {
        "id": "8d7481d7-4dd9-4c4f-a3b7-efe42db35dde"
      },
      "outputs": [],
      "source": [
        "obj_class3 = class3()"
      ]
    },
    {
      "cell_type": "code",
      "execution_count": null,
      "id": "603c2733-71c5-480a-aa27-57e204321a33",
      "metadata": {
        "id": "603c2733-71c5-480a-aa27-57e204321a33",
        "outputId": "8be3de3e-d0a7-493d-9712-0ba9f7b696a7"
      },
      "outputs": [
        {
          "name": "stdout",
          "output_type": "stream",
          "text": [
            "this is my class 1\n"
          ]
        }
      ],
      "source": [
        "obj_class3.test_class1()"
      ]
    },
    {
      "cell_type": "code",
      "execution_count": null,
      "id": "1436a28b-48cb-4de7-aa02-79d26b1b9f49",
      "metadata": {
        "id": "1436a28b-48cb-4de7-aa02-79d26b1b9f49",
        "outputId": "d7deb5e5-1110-4f4b-865a-7274e8febd53"
      },
      "outputs": [
        {
          "name": "stdout",
          "output_type": "stream",
          "text": [
            "this is my class 2\n"
          ]
        }
      ],
      "source": [
        "obj_class3.test_class2()"
      ]
    },
    {
      "cell_type": "code",
      "execution_count": null,
      "id": "e3f5b581-7b8e-4737-9c70-ab109c8d7de5",
      "metadata": {
        "id": "e3f5b581-7b8e-4737-9c70-ab109c8d7de5"
      },
      "outputs": [],
      "source": []
    }
  ],
  "metadata": {
    "kernelspec": {
      "display_name": "Python 3 (ipykernel)",
      "language": "python",
      "name": "python3"
    },
    "language_info": {
      "codemirror_mode": {
        "name": "ipython",
        "version": 3
      },
      "file_extension": ".py",
      "mimetype": "text/x-python",
      "name": "python",
      "nbconvert_exporter": "python",
      "pygments_lexer": "ipython3",
      "version": "3.10.8"
    },
    "colab": {
      "provenance": [],
      "include_colab_link": true
    }
  },
  "nbformat": 4,
  "nbformat_minor": 5
}