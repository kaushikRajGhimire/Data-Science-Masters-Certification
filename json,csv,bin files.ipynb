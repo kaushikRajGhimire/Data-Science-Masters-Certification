{
  "nbformat": 4,
  "nbformat_minor": 0,
  "metadata": {
    "colab": {
      "provenance": [],
      "authorship_tag": "ABX9TyMjbMuCxAgoy1nEyvhEL0dg",
      "include_colab_link": true
    },
    "kernelspec": {
      "name": "python3",
      "display_name": "Python 3"
    },
    "language_info": {
      "name": "python"
    }
  },
  "cells": [
    {
      "cell_type": "markdown",
      "metadata": {
        "id": "view-in-github",
        "colab_type": "text"
      },
      "source": [
        "<a href=\"https://colab.research.google.com/github/kaushikRajGhimire/Data-Science-Masters-Certification/blob/main/json%2Ccsv%2Cbin%20files.ipynb\" target=\"_parent\"><img src=\"https://colab.research.google.com/assets/colab-badge.svg\" alt=\"Open In Colab\"/></a>"
      ]
    },
    {
      "cell_type": "code",
      "execution_count": null,
      "metadata": {
        "id": "uXcVBI9lqkiN"
      },
      "outputs": [],
      "source": [
        "data={\n",
        "    \"name\":\"John\",\n",
        "    \"age\":30,\n",
        "    \"city\":\"New York\",\n",
        "    \"address\":[1,2,3,4,5]\n",
        "}"
      ]
    },
    {
      "cell_type": "code",
      "source": [
        "import json\n",
        "with open(\"data.json\",\"w\") as f:\n",
        "    json.dump(data,f)   #for writing in json file"
      ],
      "metadata": {
        "id": "UM1AdeIirXT3"
      },
      "execution_count": null,
      "outputs": []
    },
    {
      "cell_type": "code",
      "source": [],
      "metadata": {
        "id": "Plw3_y842LyF"
      },
      "execution_count": null,
      "outputs": []
    },
    {
      "cell_type": "code",
      "source": [
        "with open(\"data.json\",\"r\") as f:\n",
        "    data=json.load(f)\n",
        "print(data)"
      ],
      "metadata": {
        "colab": {
          "base_uri": "https://localhost:8080/"
        },
        "id": "5krHNsF-1r-N",
        "outputId": "dbbad79f-6d2c-408c-9f98-4280fbf9ce95"
      },
      "execution_count": null,
      "outputs": [
        {
          "output_type": "stream",
          "name": "stdout",
          "text": [
            "{'name': 'John', 'age': 30, 'city': 'New York', 'address': [1, 2, 3, 4, 5]}\n"
          ]
        }
      ]
    },
    {
      "cell_type": "code",
      "source": [
        "data\n"
      ],
      "metadata": {
        "colab": {
          "base_uri": "https://localhost:8080/"
        },
        "id": "d_VqLFIj1-2G",
        "outputId": "71791f80-a0e0-4d42-f5dd-25a885da81b9"
      },
      "execution_count": null,
      "outputs": [
        {
          "output_type": "execute_result",
          "data": {
            "text/plain": [
              "{'name': 'John', 'age': 30, 'city': 'New York', 'address': [1, 2, 3, 4, 5]}"
            ]
          },
          "metadata": {},
          "execution_count": 6
        }
      ]
    },
    {
      "cell_type": "code",
      "source": [
        "data['city']"
      ],
      "metadata": {
        "colab": {
          "base_uri": "https://localhost:8080/",
          "height": 36
        },
        "id": "YtGLFKY82A0t",
        "outputId": "7923da0f-901a-4e8d-d0b8-663311babd6c"
      },
      "execution_count": null,
      "outputs": [
        {
          "output_type": "execute_result",
          "data": {
            "text/plain": [
              "'New York'"
            ],
            "application/vnd.google.colaboratory.intrinsic+json": {
              "type": "string"
            }
          },
          "metadata": {},
          "execution_count": 7
        }
      ]
    },
    {
      "cell_type": "code",
      "source": [
        "data['address'][3]"
      ],
      "metadata": {
        "colab": {
          "base_uri": "https://localhost:8080/"
        },
        "id": "AGbpNriP2NRJ",
        "outputId": "494c6fc6-3741-405f-b6ba-c5fc95d75543"
      },
      "execution_count": null,
      "outputs": [
        {
          "output_type": "execute_result",
          "data": {
            "text/plain": [
              "4"
            ]
          },
          "metadata": {},
          "execution_count": 9
        }
      ]
    },
    {
      "cell_type": "code",
      "source": [
        "data1=[\n",
        "    [1,2,3,4,5],\n",
        "    [1,2,3,4,5],\n",
        "    [1,2,3,4,5]\n",
        "]"
      ],
      "metadata": {
        "id": "5f33QQE42VCi"
      },
      "execution_count": null,
      "outputs": []
    },
    {
      "cell_type": "code",
      "source": [
        "import csv\n",
        "with open(\"data1.csv\",'w')as p:\n",
        "  w=csv.writer(p)\n",
        "  for i in data1:\n",
        "    w.writerow(i)   #read garna lai kei lekheko pani ta hunu paryo ni file ma"
      ],
      "metadata": {
        "id": "NGNIlA-K2ZU2"
      },
      "execution_count": null,
      "outputs": []
    },
    {
      "cell_type": "code",
      "source": [
        "with open('test5.bin','wb')as p:\n",
        "  p.write(b\"hello world\")"
      ],
      "metadata": {
        "id": "J5FpnHeQ3LC_"
      },
      "execution_count": 15,
      "outputs": []
    },
    {
      "cell_type": "code",
      "source": [
        "with open('test5.bin','rb')as p:\n",
        "  print(p.read())"
      ],
      "metadata": {
        "colab": {
          "base_uri": "https://localhost:8080/"
        },
        "id": "Eu01zxsXEI9L",
        "outputId": "f04165ad-c444-4cdb-e486-ab3fed1175c4"
      },
      "execution_count": 16,
      "outputs": [
        {
          "output_type": "stream",
          "name": "stdout",
          "text": [
            "b'hello world'\n"
          ]
        }
      ]
    }
  ]
}