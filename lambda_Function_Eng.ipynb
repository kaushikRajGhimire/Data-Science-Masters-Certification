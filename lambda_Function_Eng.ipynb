{
  "cells": [
    {
      "cell_type": "markdown",
      "metadata": {
        "id": "view-in-github",
        "colab_type": "text"
      },
      "source": [
        "<a href=\"https://colab.research.google.com/github/kaushikRajGhimire/Data-Science-Masters-Certification/blob/main/lambda_Function_Eng.ipynb\" target=\"_parent\"><img src=\"https://colab.research.google.com/assets/colab-badge.svg\" alt=\"Open In Colab\"/></a>"
      ]
    },
    {
      "cell_type": "code",
      "execution_count": null,
      "id": "3286809f-37f5-41b5-98e5-f7ec53e91e24",
      "metadata": {
        "id": "3286809f-37f5-41b5-98e5-f7ec53e91e24"
      },
      "outputs": [],
      "source": [
        "n = 3\n",
        "p = 2"
      ]
    },
    {
      "cell_type": "code",
      "execution_count": null,
      "id": "294dc779-49ee-4852-93df-5e0ef1cb4f8c",
      "metadata": {
        "id": "294dc779-49ee-4852-93df-5e0ef1cb4f8c"
      },
      "outputs": [],
      "source": [
        "def test(n,p):\n",
        "    return n**p"
      ]
    },
    {
      "cell_type": "code",
      "execution_count": null,
      "id": "26fc4c90-2fcf-4d72-996f-f8ca7c3dca6b",
      "metadata": {
        "id": "26fc4c90-2fcf-4d72-996f-f8ca7c3dca6b",
        "outputId": "9e8e296f-7a35-4e28-cf10-b4b4563de4af"
      },
      "outputs": [
        {
          "data": {
            "text/plain": [
              "9"
            ]
          },
          "execution_count": 3,
          "metadata": {},
          "output_type": "execute_result"
        }
      ],
      "source": [
        "test(3,2)"
      ]
    },
    {
      "cell_type": "code",
      "execution_count": null,
      "id": "6c04dd5a-dc3d-4b2d-96a3-a9bb36c96e90",
      "metadata": {
        "id": "6c04dd5a-dc3d-4b2d-96a3-a9bb36c96e90",
        "outputId": "f7ea6272-3e8e-4ff5-9b7c-05563c31134b"
      },
      "outputs": [
        {
          "data": {
            "text/plain": [
              "6561"
            ]
          },
          "execution_count": 4,
          "metadata": {},
          "output_type": "execute_result"
        }
      ],
      "source": [
        "test(9,4)"
      ]
    },
    {
      "cell_type": "code",
      "execution_count": null,
      "id": "10d6fe59-d00b-4ef9-abcd-17c989367f00",
      "metadata": {
        "id": "10d6fe59-d00b-4ef9-abcd-17c989367f00"
      },
      "outputs": [],
      "source": [
        "a = lambda n,p : n**p"
      ]
    },
    {
      "cell_type": "code",
      "execution_count": null,
      "id": "6ef4fd8f-ad84-4aa9-981d-c8ba56fff5eb",
      "metadata": {
        "id": "6ef4fd8f-ad84-4aa9-981d-c8ba56fff5eb",
        "outputId": "3a4f9ac7-425d-4c36-aa6b-a41964bd39d2"
      },
      "outputs": [
        {
          "data": {
            "text/plain": [
              "9"
            ]
          },
          "execution_count": 7,
          "metadata": {},
          "output_type": "execute_result"
        }
      ],
      "source": [
        "a(3,2)"
      ]
    },
    {
      "cell_type": "code",
      "execution_count": null,
      "id": "c11c59b8-df0e-48ad-8641-77b22eba1e71",
      "metadata": {
        "id": "c11c59b8-df0e-48ad-8641-77b22eba1e71",
        "outputId": "4c253b4d-d915-4a7f-9958-5664073f3ee1"
      },
      "outputs": [
        {
          "data": {
            "text/plain": [
              "6561"
            ]
          },
          "execution_count": 8,
          "metadata": {},
          "output_type": "execute_result"
        }
      ],
      "source": [
        "a(9,4)"
      ]
    },
    {
      "cell_type": "code",
      "execution_count": null,
      "id": "d2884988-b8fa-4623-8104-ef453ed77bb7",
      "metadata": {
        "id": "d2884988-b8fa-4623-8104-ef453ed77bb7"
      },
      "outputs": [],
      "source": [
        "add = lambda x,y : x+y"
      ]
    },
    {
      "cell_type": "code",
      "execution_count": null,
      "id": "2627c9f8-2788-4845-b498-9e50f78cdfa2",
      "metadata": {
        "id": "2627c9f8-2788-4845-b498-9e50f78cdfa2",
        "outputId": "cee15ae5-07a8-48fb-c6f6-f8adccacd430"
      },
      "outputs": [
        {
          "data": {
            "text/plain": [
              "268"
            ]
          },
          "execution_count": 10,
          "metadata": {},
          "output_type": "execute_result"
        }
      ],
      "source": [
        "add(234,34)"
      ]
    },
    {
      "cell_type": "code",
      "execution_count": null,
      "id": "52a5114e-85de-42a9-9e18-481a6ae83562",
      "metadata": {
        "id": "52a5114e-85de-42a9-9e18-481a6ae83562"
      },
      "outputs": [],
      "source": [
        "c_to_f = lambda c : (9/5)*c+32"
      ]
    },
    {
      "cell_type": "code",
      "execution_count": null,
      "id": "c6fca98f-2fc5-4d36-971e-3c8351e54542",
      "metadata": {
        "id": "c6fca98f-2fc5-4d36-971e-3c8351e54542",
        "outputId": "a8a3c616-6fe8-469f-dfd6-aa2a4bb42f18"
      },
      "outputs": [
        {
          "data": {
            "text/plain": [
              "93.2"
            ]
          },
          "execution_count": 12,
          "metadata": {},
          "output_type": "execute_result"
        }
      ],
      "source": [
        "c_to_f(34)"
      ]
    },
    {
      "cell_type": "code",
      "execution_count": null,
      "id": "34909804-4994-4156-af97-cc0a119e415c",
      "metadata": {
        "id": "34909804-4994-4156-af97-cc0a119e415c"
      },
      "outputs": [],
      "source": [
        "max_two = lambda x,y : x if x> y else y"
      ]
    },
    {
      "cell_type": "code",
      "execution_count": null,
      "id": "225d4d12-cbfc-4089-9e2a-ac5215102234",
      "metadata": {
        "id": "225d4d12-cbfc-4089-9e2a-ac5215102234",
        "outputId": "046b1fcd-5704-4849-f516-f90a48b4ed52"
      },
      "outputs": [
        {
          "data": {
            "text/plain": [
              "56"
            ]
          },
          "execution_count": 14,
          "metadata": {},
          "output_type": "execute_result"
        }
      ],
      "source": [
        "max_two(4,56)"
      ]
    },
    {
      "cell_type": "code",
      "execution_count": null,
      "id": "feafa8c9-4458-4306-9d3c-b50fde75601c",
      "metadata": {
        "id": "feafa8c9-4458-4306-9d3c-b50fde75601c"
      },
      "outputs": [],
      "source": [
        "s = \"pwskills\""
      ]
    },
    {
      "cell_type": "code",
      "execution_count": null,
      "id": "35f5e50e-a521-4eab-9b13-a31f57dcd339",
      "metadata": {
        "id": "35f5e50e-a521-4eab-9b13-a31f57dcd339"
      },
      "outputs": [],
      "source": [
        "len_st = lambda s : len(s)"
      ]
    },
    {
      "cell_type": "code",
      "execution_count": null,
      "id": "0c3daf87-f9fe-45c2-8c0a-523a7425b6c1",
      "metadata": {
        "id": "0c3daf87-f9fe-45c2-8c0a-523a7425b6c1",
        "outputId": "a643ef35-7292-4ec4-e115-f672824ca56a"
      },
      "outputs": [
        {
          "data": {
            "text/plain": [
              "8"
            ]
          },
          "execution_count": 17,
          "metadata": {},
          "output_type": "execute_result"
        }
      ],
      "source": [
        "len_st(s)"
      ]
    },
    {
      "cell_type": "code",
      "execution_count": null,
      "id": "35673773-ff49-456e-9adb-62b0c88c22bd",
      "metadata": {
        "id": "35673773-ff49-456e-9adb-62b0c88c22bd"
      },
      "outputs": [],
      "source": []
    }
  ],
  "metadata": {
    "kernelspec": {
      "display_name": "Python 3 (ipykernel)",
      "language": "python",
      "name": "python3"
    },
    "language_info": {
      "codemirror_mode": {
        "name": "ipython",
        "version": 3
      },
      "file_extension": ".py",
      "mimetype": "text/x-python",
      "name": "python",
      "nbconvert_exporter": "python",
      "pygments_lexer": "ipython3",
      "version": "3.10.8"
    },
    "colab": {
      "provenance": [],
      "include_colab_link": true
    }
  },
  "nbformat": 4,
  "nbformat_minor": 5
}