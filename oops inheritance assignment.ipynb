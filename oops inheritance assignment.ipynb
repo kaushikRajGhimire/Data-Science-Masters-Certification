{
  "nbformat": 4,
  "nbformat_minor": 0,
  "metadata": {
    "colab": {
      "provenance": [],
      "authorship_tag": "ABX9TyM7p9vvtam5/pjxfMkDROTc",
      "include_colab_link": true
    },
    "kernelspec": {
      "name": "python3",
      "display_name": "Python 3"
    },
    "language_info": {
      "name": "python"
    }
  },
  "cells": [
    {
      "cell_type": "markdown",
      "metadata": {
        "id": "view-in-github",
        "colab_type": "text"
      },
      "source": [
        "<a href=\"https://colab.research.google.com/github/kaushikRajGhimire/Data-Science-Masters-Certification/blob/main/oops%20inheritance%20assignment.ipynb\" target=\"_parent\"><img src=\"https://colab.research.google.com/assets/colab-badge.svg\" alt=\"Open In Colab\"/></a>"
      ]
    },
    {
      "cell_type": "code",
      "execution_count": null,
      "metadata": {
        "id": "12SgiwM4P1vE"
      },
      "outputs": [],
      "source": []
    },
    {
      "cell_type": "markdown",
      "source": [
        "#Q1. Create a Vehicle Class\n",
        "\n",
        "class Vehicle:\n",
        "    def __init__(self, name_of_vehicle, max_speed, average_of_vehicle):\n",
        "        self.name_of_vehicle = name_of_vehicle\n",
        "        self.max_speed = max_speed\n",
        "        self.average_of_vehicle = average_of_vehicle\n",
        "\n",
        "\n",
        "vehicle = Vehicle(\"Truck\", 120, 15)\n",
        "print(f\"Vehicle: {vehicle.name_of_vehicle}, Max Speed: {vehicle.max_speed})"
      ],
      "metadata": {
        "id": "wLVMcR7zQMvJ"
      }
    },
    {
      "cell_type": "markdown",
      "source": [
        "Q2. Create a Child Class Car from the Vehicle Class\n",
        "\n",
        "class Car(Vehicle):\n",
        "    def seating_capacity(self, capacity):\n",
        "        return f\"The {self.name_of_vehicle} has a seating capacity of {capacity}.\"\n",
        "\n",
        "car = Car(\"Sedan\", 180, 12)\n",
        "print(car.seating_capacity(5))"
      ],
      "metadata": {
        "id": "dz7NLIBYQaM_"
      }
    },
    {
      "cell_type": "markdown",
      "source": [
        "Q3. Multiple Inheritance in Python\n",
        "\n",
        "Multiple inheritance is a feature in Python where a class can inherit attributes and methods from more than one parent class.\n",
        "\n",
        "\n",
        "# Parent class 1\n",
        "class Engine:\n",
        "    def __init__(self, engine_type):\n",
        "        self.engine_type = engine_type\n",
        "\n",
        "    def engine_info(self):\n",
        "        return f\"Engine Type: {self.engine_type}\"\n",
        "\n",
        "# Parent class 2\n",
        "class Transmission:\n",
        "    def __init__(self, transmission_type):\n",
        "        self.transmission_type = transmission_type\n",
        "\n",
        "    def transmission_info(self):\n",
        "        return f\"Transmission Type: {self.transmission_type}\"\n",
        "\n",
        "# Child class inheriting from both Engine and Transmission classes\n",
        "class Car(Engine, Transmission):\n",
        "    def __init__(self, name, engine_type, transmission_type):\n",
        "        Engine.__init__(self, engine_type)\n",
        "        Transmission.__init__(self, transmission_type)\n",
        "        self.name = name\n",
        "\n",
        "    def car_info(self):\n",
        "        return f\"Car: {self.name}, {self.engine_info()}, {self.transmission_info()}\"\n",
        "\n",
        "# Example\n",
        "my_car = Car(\"SUV\", \"V6\", \"Automatic\")\n",
        "print(my_car.car_info())"
      ],
      "metadata": {
        "id": "FVm0fQeZQOyR"
      }
    },
    {
      "cell_type": "markdown",
      "source": [
        "Getter and Setter in Python\n",
        "\n",
        "Getters and setters allow access to private or protected variables in a class while keeping control over how they are modified or accessed.\n",
        "\n",
        "\n",
        "class Person:\n",
        "    def __init__(self, name, age):\n",
        "        self._name = name  # Protected variable\n",
        "        self._age = age    # Protected variable\n",
        "\n",
        "    # Getter for name\n",
        "    @property\n",
        "    def name(self):\n",
        "        return self._name\n",
        "\n",
        "    # Setter for name\n",
        "    @name.setter\n",
        "    def name(self, value):\n",
        "        if isinstance(value, str):\n",
        "            self._name = value\n",
        "        else:\n",
        "            print(\"Invalid name\")\n",
        "\n",
        "    # Getter for age\n",
        "    @property\n",
        "    def age(self):\n",
        "        return self._age\n",
        "\n",
        "    # Setter for age\n",
        "    @age.setter\n",
        "    def age(self, value):\n",
        "        if value > 0:\n",
        "            self._age = value\n",
        "        else:\n",
        "            print(\"Invalid age\")\n",
        "\n",
        "# Example usage\n",
        "person = Person(\"John\", 30)\n",
        "print(person.name)  # Getter\n",
        "person.name = \"Mike\"  # Setter\n",
        "print(person.name)  # Updated name\n",
        "person.age = 35  # Setter\n",
        "print(person.age)  # Updated age"
      ],
      "metadata": {
        "id": "-zSPiu-CQ4-2"
      }
    },
    {
      "cell_type": "markdown",
      "source": [
        "Q5. Method Overriding in Python\n",
        "\n",
        "Method overriding occurs when a child class provides a specific implementation of a method that is already defined in its parent class.\n",
        "\n",
        "\n",
        "class Animal:\n",
        "    def sound(self):\n",
        "        return \"Some generic animal sound\"\n",
        "\n",
        "class Dog(Animal):\n",
        "    # Method overriding\n",
        "    def sound(self):\n",
        "        return \"Bark\"\n",
        "\n",
        "# Example of method overriding\n",
        "animal = Animal()\n",
        "dog = Dog()\n",
        "\n",
        "print(animal.sound())  # Output: Some generic animal sound\n",
        "print(dog.sound())     # Output: Bark"
      ],
      "metadata": {
        "id": "PqNVpJJ6RItQ"
      }
    },
    {
      "cell_type": "markdown",
      "source": [],
      "metadata": {
        "id": "FaEAMjOnRZ3b"
      }
    }
  ]
}