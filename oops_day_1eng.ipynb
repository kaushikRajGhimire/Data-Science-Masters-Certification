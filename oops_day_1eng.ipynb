{
  "cells": [
    {
      "cell_type": "markdown",
      "metadata": {
        "id": "view-in-github",
        "colab_type": "text"
      },
      "source": [
        "<a href=\"https://colab.research.google.com/github/kaushikRajGhimire/Data-Science-Masters-Certification/blob/main/oops_day_1eng.ipynb\" target=\"_parent\"><img src=\"https://colab.research.google.com/assets/colab-badge.svg\" alt=\"Open In Colab\"/></a>"
      ]
    },
    {
      "cell_type": "markdown",
      "id": "a52a0032-2da0-4eca-a234-9f72c780fc49",
      "metadata": {
        "id": "a52a0032-2da0-4eca-a234-9f72c780fc49"
      },
      "source": [
        "\"Oops\" stands for Object-Oriented Programming System"
      ]
    },
    {
      "cell_type": "code",
      "execution_count": null,
      "id": "4e1d9ea2-9cd4-472d-a1c2-5c763334d982",
      "metadata": {
        "id": "4e1d9ea2-9cd4-472d-a1c2-5c763334d982"
      },
      "outputs": [],
      "source": [
        "a= 1"
      ]
    },
    {
      "cell_type": "code",
      "execution_count": null,
      "id": "10864483-fdee-4790-8caf-54e5fa32d0e2",
      "metadata": {
        "id": "10864483-fdee-4790-8caf-54e5fa32d0e2",
        "outputId": "6c7fd334-a99a-4ed6-9d5f-0a4fe0b62d2c"
      },
      "outputs": [
        {
          "name": "stdout",
          "output_type": "stream",
          "text": [
            "<class 'int'>\n"
          ]
        }
      ],
      "source": [
        "print(type(a))"
      ]
    },
    {
      "cell_type": "code",
      "execution_count": null,
      "id": "97f7fc1a-9f08-4761-b2b3-778706dcaadd",
      "metadata": {
        "id": "97f7fc1a-9f08-4761-b2b3-778706dcaadd",
        "outputId": "2a4b68fb-127d-4f07-9358-8a2b6eb9ea66"
      },
      "outputs": [
        {
          "name": "stdout",
          "output_type": "stream",
          "text": [
            "<class 'str'>\n"
          ]
        }
      ],
      "source": [
        "print(type(\"pwskills\"))"
      ]
    },
    {
      "cell_type": "code",
      "execution_count": null,
      "id": "d1d30468-6a87-4e70-ba0d-9c1192ba5565",
      "metadata": {
        "id": "d1d30468-6a87-4e70-ba0d-9c1192ba5565"
      },
      "outputs": [],
      "source": [
        "class test:\n",
        "    pass\n",
        ""
      ]
    },
    {
      "cell_type": "code",
      "execution_count": null,
      "id": "e0df25d7-7b4e-40bf-9993-5db5c5b5a953",
      "metadata": {
        "id": "e0df25d7-7b4e-40bf-9993-5db5c5b5a953"
      },
      "outputs": [],
      "source": [
        "a = test()"
      ]
    },
    {
      "cell_type": "code",
      "execution_count": null,
      "id": "f8b23ac6-6749-4e79-8f87-0c68ceabbb5d",
      "metadata": {
        "id": "f8b23ac6-6749-4e79-8f87-0c68ceabbb5d",
        "outputId": "e102b4da-8a19-4f62-c1ff-2f4977a49d50"
      },
      "outputs": [
        {
          "name": "stdout",
          "output_type": "stream",
          "text": [
            "<class '__main__.test'>\n"
          ]
        }
      ],
      "source": [
        "print(type(a))"
      ]
    },
    {
      "cell_type": "code",
      "execution_count": null,
      "id": "288f5741-3a63-4f02-abee-cc684180a279",
      "metadata": {
        "id": "288f5741-3a63-4f02-abee-cc684180a279"
      },
      "outputs": [],
      "source": [
        "class pwskills:\n",
        "\n",
        "    def welcome_msg(self):\n",
        "        print(\"welcome to pwskills\")"
      ]
    },
    {
      "cell_type": "code",
      "execution_count": null,
      "id": "563bf795-b761-438b-8b0c-f2fd5d97ba96",
      "metadata": {
        "id": "563bf795-b761-438b-8b0c-f2fd5d97ba96"
      },
      "outputs": [],
      "source": [
        "rohan = pwskills()"
      ]
    },
    {
      "cell_type": "code",
      "execution_count": null,
      "id": "a2fc2f97-ff9f-46de-af3b-59b7dd8199e7",
      "metadata": {
        "id": "a2fc2f97-ff9f-46de-af3b-59b7dd8199e7",
        "outputId": "e67439c8-1b98-4eb3-ea2e-85048d629ed4"
      },
      "outputs": [
        {
          "name": "stdout",
          "output_type": "stream",
          "text": [
            "welcome to pwskills\n"
          ]
        }
      ],
      "source": [
        "rohan.welcome_msg()"
      ]
    },
    {
      "cell_type": "code",
      "execution_count": null,
      "id": "da0d4d91-700e-48ef-82c6-a16dd68f1a32",
      "metadata": {
        "id": "da0d4d91-700e-48ef-82c6-a16dd68f1a32"
      },
      "outputs": [],
      "source": [
        "sohan = pwskills()"
      ]
    },
    {
      "cell_type": "code",
      "execution_count": null,
      "id": "67b55714-d922-47e2-8ceb-a71bfa1c7247",
      "metadata": {
        "id": "67b55714-d922-47e2-8ceb-a71bfa1c7247",
        "outputId": "6424d78b-bfe8-41c9-9aa1-98e548be6790"
      },
      "outputs": [
        {
          "name": "stdout",
          "output_type": "stream",
          "text": [
            "welcome to pwskills\n"
          ]
        }
      ],
      "source": [
        "sohan.welcome_msg()"
      ]
    },
    {
      "cell_type": "code",
      "execution_count": null,
      "id": "c697ea71-a91d-4544-b837-d6ebaf96b28e",
      "metadata": {
        "id": "c697ea71-a91d-4544-b837-d6ebaf96b28e"
      },
      "outputs": [],
      "source": [
        "a = 1"
      ]
    },
    {
      "cell_type": "code",
      "execution_count": null,
      "id": "7dea4172-c4c0-4a6e-a3eb-12adbe594b8d",
      "metadata": {
        "id": "7dea4172-c4c0-4a6e-a3eb-12adbe594b8d"
      },
      "outputs": [],
      "source": [
        "b = 2"
      ]
    },
    {
      "cell_type": "code",
      "execution_count": null,
      "id": "8f04514c-8747-4762-9046-e59428ad3942",
      "metadata": {
        "id": "8f04514c-8747-4762-9046-e59428ad3942",
        "outputId": "f61cb282-b162-4961-88da-75b260b33ce1"
      },
      "outputs": [
        {
          "data": {
            "text/plain": [
              "1"
            ]
          },
          "execution_count": 20,
          "metadata": {},
          "output_type": "execute_result"
        }
      ],
      "source": [
        "a"
      ]
    },
    {
      "cell_type": "code",
      "execution_count": null,
      "id": "33f8fc37-0c11-48c7-9690-ee93f7e8394d",
      "metadata": {
        "id": "33f8fc37-0c11-48c7-9690-ee93f7e8394d",
        "outputId": "e9ec7eea-ff2e-4024-8122-d71df0a396b8"
      },
      "outputs": [
        {
          "data": {
            "text/plain": [
              "2"
            ]
          },
          "execution_count": 21,
          "metadata": {},
          "output_type": "execute_result"
        }
      ],
      "source": [
        "b"
      ]
    },
    {
      "cell_type": "code",
      "execution_count": null,
      "id": "dfd34ab6-ad2d-419a-a2d0-01ef522c33de",
      "metadata": {
        "id": "dfd34ab6-ad2d-419a-a2d0-01ef522c33de"
      },
      "outputs": [],
      "source": [
        "class pwskills1:\n",
        "\n",
        "    def __init__(self ,phone_number , email_id, student_id ):\n",
        "\n",
        "        self.phone_number = phone_number\n",
        "        self.email_id = email_id\n",
        "        self.student_id = student_id\n",
        "\n",
        "\n",
        "    def return_student_detials(self):\n",
        "        return self.phone_number, self.email_id , self.student_id\n",
        "\n"
      ]
    },
    {
      "cell_type": "code",
      "execution_count": null,
      "id": "60639256-0a1e-49c6-8401-dd893774386a",
      "metadata": {
        "id": "60639256-0a1e-49c6-8401-dd893774386a"
      },
      "outputs": [],
      "source": [
        "sohan = pwskills1(999679869 , \"sohan@gmail.com\" , 102)"
      ]
    },
    {
      "cell_type": "code",
      "execution_count": null,
      "id": "31dcb04d-f1a9-4ad0-b4eb-f0a9318c0084",
      "metadata": {
        "id": "31dcb04d-f1a9-4ad0-b4eb-f0a9318c0084",
        "outputId": "a090215a-7492-4de3-e3ed-82c243e0d633"
      },
      "outputs": [
        {
          "data": {
            "text/plain": [
              "999679869"
            ]
          },
          "execution_count": 31,
          "metadata": {},
          "output_type": "execute_result"
        }
      ],
      "source": [
        "sohan.phone_number"
      ]
    },
    {
      "cell_type": "code",
      "execution_count": null,
      "id": "d00d919b-5e7d-4eac-8c5f-b33a49bac7aa",
      "metadata": {
        "id": "d00d919b-5e7d-4eac-8c5f-b33a49bac7aa",
        "outputId": "96010e09-05d7-4976-d547-6c0c85180b57"
      },
      "outputs": [
        {
          "data": {
            "text/plain": [
              "(999679869, 'sohan@gmail.com', 102)"
            ]
          },
          "execution_count": 32,
          "metadata": {},
          "output_type": "execute_result"
        }
      ],
      "source": [
        "sohan.return_student_detials()"
      ]
    },
    {
      "cell_type": "code",
      "execution_count": null,
      "id": "445acd8f-1600-49b1-86a3-ae1e1e47fb9b",
      "metadata": {
        "id": "445acd8f-1600-49b1-86a3-ae1e1e47fb9b"
      },
      "outputs": [],
      "source": []
    },
    {
      "cell_type": "code",
      "execution_count": null,
      "id": "8b390f1c-215d-4129-9c62-307887b5a9d3",
      "metadata": {
        "id": "8b390f1c-215d-4129-9c62-307887b5a9d3"
      },
      "outputs": [],
      "source": []
    },
    {
      "cell_type": "code",
      "execution_count": null,
      "id": "d59661e5-f593-4649-8488-85e41ab3851f",
      "metadata": {
        "id": "d59661e5-f593-4649-8488-85e41ab3851f"
      },
      "outputs": [],
      "source": []
    },
    {
      "cell_type": "code",
      "execution_count": null,
      "id": "62bd0500-9ce4-4e38-9752-1906aa35419c",
      "metadata": {
        "id": "62bd0500-9ce4-4e38-9752-1906aa35419c"
      },
      "outputs": [],
      "source": [
        "rohan = pwskills1(95435665, \"rohan@gmail.com\" , 101)"
      ]
    },
    {
      "cell_type": "code",
      "execution_count": null,
      "id": "427bb866-93c8-461b-80ce-03adf81b9bae",
      "metadata": {
        "id": "427bb866-93c8-461b-80ce-03adf81b9bae",
        "outputId": "53b2d2f8-ccde-4fb2-a1f5-e6b56a4833df"
      },
      "outputs": [
        {
          "data": {
            "text/plain": [
              "95435665"
            ]
          },
          "execution_count": 26,
          "metadata": {},
          "output_type": "execute_result"
        }
      ],
      "source": [
        "rohan.phone_number"
      ]
    },
    {
      "cell_type": "code",
      "execution_count": null,
      "id": "3a24f76a-7854-463e-816d-b9301aeefed1",
      "metadata": {
        "id": "3a24f76a-7854-463e-816d-b9301aeefed1",
        "outputId": "8e908f6e-9998-4450-8fdf-5079e407519c"
      },
      "outputs": [
        {
          "data": {
            "text/plain": [
              "'rohan@gmail.com'"
            ]
          },
          "execution_count": 27,
          "metadata": {},
          "output_type": "execute_result"
        }
      ],
      "source": [
        "rohan.email_id"
      ]
    },
    {
      "cell_type": "code",
      "execution_count": null,
      "id": "045f181e-7184-4e11-b15b-ab4a1700ea2d",
      "metadata": {
        "id": "045f181e-7184-4e11-b15b-ab4a1700ea2d",
        "outputId": "7ef588f6-81b8-46aa-ca30-451803cc74f8"
      },
      "outputs": [
        {
          "data": {
            "text/plain": [
              "101"
            ]
          },
          "execution_count": 28,
          "metadata": {},
          "output_type": "execute_result"
        }
      ],
      "source": [
        "rohan.student_id"
      ]
    },
    {
      "cell_type": "code",
      "execution_count": null,
      "id": "994b1323-0643-45ef-bc0c-8f6dd7d3e9a6",
      "metadata": {
        "id": "994b1323-0643-45ef-bc0c-8f6dd7d3e9a6",
        "outputId": "6beeb60c-627c-4d09-fb9a-bde897504bc6"
      },
      "outputs": [
        {
          "data": {
            "text/plain": [
              "(95435665, 'rohan@gmail.com', 101)"
            ]
          },
          "execution_count": 29,
          "metadata": {},
          "output_type": "execute_result"
        }
      ],
      "source": [
        "rohan.return_student_detials()"
      ]
    },
    {
      "cell_type": "code",
      "execution_count": null,
      "id": "30daf6bd-4b27-4c61-a38d-6f1e22be94fe",
      "metadata": {
        "id": "30daf6bd-4b27-4c61-a38d-6f1e22be94fe"
      },
      "outputs": [],
      "source": [
        "class pwskills2:\n",
        "\n",
        "    def __init__(sudh ,phone_number , email_id, student_id ):\n",
        "\n",
        "        sudh.phone_number = phone_number\n",
        "        sudh.email_id = email_id\n",
        "        sudh.student_id = student_id\n",
        "\n",
        "\n",
        "    def return_student_detials(sudh):\n",
        "        return sudh.phone_number, sudh.email_id , sudh.student_id"
      ]
    },
    {
      "cell_type": "code",
      "execution_count": null,
      "id": "864b9c7a-dbf7-48ee-be6b-1c488fd3753c",
      "metadata": {
        "id": "864b9c7a-dbf7-48ee-be6b-1c488fd3753c"
      },
      "outputs": [],
      "source": [
        "mohan = pwskills2(99699579567, \"mohan@gmail.com\" , 234)"
      ]
    },
    {
      "cell_type": "code",
      "execution_count": null,
      "id": "748125ab-8f28-4e68-b6b7-2ba5b0a61db3",
      "metadata": {
        "id": "748125ab-8f28-4e68-b6b7-2ba5b0a61db3",
        "outputId": "e1fac726-a47a-4c6c-cfce-3dec888c5b95"
      },
      "outputs": [
        {
          "data": {
            "text/plain": [
              "99699579567"
            ]
          },
          "execution_count": 35,
          "metadata": {},
          "output_type": "execute_result"
        }
      ],
      "source": [
        "mohan.phone_number"
      ]
    },
    {
      "cell_type": "code",
      "execution_count": null,
      "id": "ccebf48d-cc13-492a-bcdc-f145a938dc27",
      "metadata": {
        "id": "ccebf48d-cc13-492a-bcdc-f145a938dc27",
        "outputId": "3df98587-a6a8-4737-cfef-127dcffebf78"
      },
      "outputs": [
        {
          "data": {
            "text/plain": [
              "(99699579567, 'mohan@gmail.com', 234)"
            ]
          },
          "execution_count": 36,
          "metadata": {},
          "output_type": "execute_result"
        }
      ],
      "source": [
        "mohan.return_student_detials()"
      ]
    },
    {
      "cell_type": "code",
      "execution_count": null,
      "id": "54e3f14b-fd9b-4257-bc6c-c496d3be0ce3",
      "metadata": {
        "id": "54e3f14b-fd9b-4257-bc6c-c496d3be0ce3"
      },
      "outputs": [],
      "source": [
        "class pwskills3:\n",
        "\n",
        "    def __init__(sudh ,phone_number , email_id, student_id ):\n",
        "\n",
        "        sudh.phone_number1 = phone_number\n",
        "        sudh.email_id = email_id\n",
        "        sudh.student_id = student_id\n",
        "\n",
        "\n",
        "    def return_student_detials(sudh):\n",
        "        return sudh.phone_number1, sudh.email_id , sudh.student_id"
      ]
    },
    {
      "cell_type": "code",
      "execution_count": null,
      "id": "57755fd7-f0c6-492d-9b04-4ead901ca7d5",
      "metadata": {
        "id": "57755fd7-f0c6-492d-9b04-4ead901ca7d5"
      },
      "outputs": [],
      "source": [
        "rohan = pwskills3(999735,\"rohan@gmail.com\" , 123)"
      ]
    },
    {
      "cell_type": "code",
      "execution_count": null,
      "id": "891262b7-bf86-4ac7-aa89-a97c5b802d63",
      "metadata": {
        "id": "891262b7-bf86-4ac7-aa89-a97c5b802d63",
        "outputId": "7b2795a0-18cb-4be5-a488-592720902aef"
      },
      "outputs": [
        {
          "data": {
            "text/plain": [
              "999735"
            ]
          },
          "execution_count": 47,
          "metadata": {},
          "output_type": "execute_result"
        }
      ],
      "source": [
        "rohan.phone_number1"
      ]
    },
    {
      "cell_type": "code",
      "execution_count": null,
      "id": "9591bc00-e840-4500-abd7-14ba31140bb5",
      "metadata": {
        "id": "9591bc00-e840-4500-abd7-14ba31140bb5",
        "outputId": "54113b5b-ef1e-40d4-feda-14b5e0790d15"
      },
      "outputs": [
        {
          "data": {
            "text/plain": [
              "(999735, 'rohan@gmail.com', 123)"
            ]
          },
          "execution_count": 48,
          "metadata": {},
          "output_type": "execute_result"
        }
      ],
      "source": [
        "rohan.return_student_detials()"
      ]
    },
    {
      "cell_type": "code",
      "execution_count": null,
      "id": "475b6927-9584-442a-8860-379392477ea1",
      "metadata": {
        "id": "475b6927-9584-442a-8860-379392477ea1"
      },
      "outputs": [],
      "source": []
    }
  ],
  "metadata": {
    "kernelspec": {
      "display_name": "Python 3 (ipykernel)",
      "language": "python",
      "name": "python3"
    },
    "language_info": {
      "codemirror_mode": {
        "name": "ipython",
        "version": 3
      },
      "file_extension": ".py",
      "mimetype": "text/x-python",
      "name": "python",
      "nbconvert_exporter": "python",
      "pygments_lexer": "ipython3",
      "version": "3.10.8"
    },
    "colab": {
      "provenance": [],
      "include_colab_link": true
    }
  },
  "nbformat": 4,
  "nbformat_minor": 5
}