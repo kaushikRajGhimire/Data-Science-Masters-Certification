{
  "cells": [
    {
      "cell_type": "markdown",
      "metadata": {
        "id": "view-in-github",
        "colab_type": "text"
      },
      "source": [
        "<a href=\"https://colab.research.google.com/github/kaushikRajGhimire/Data-Science-Masters-Certification/blob/main/sets.ipynb\" target=\"_parent\"><img src=\"https://colab.research.google.com/assets/colab-badge.svg\" alt=\"Open In Colab\"/></a>"
      ]
    },
    {
      "cell_type": "code",
      "execution_count": null,
      "id": "3697c2d0-3d19-4b38-9403-6dcd14b2696b",
      "metadata": {
        "id": "3697c2d0-3d19-4b38-9403-6dcd14b2696b"
      },
      "outputs": [],
      "source": [
        "s = {}"
      ]
    },
    {
      "cell_type": "code",
      "execution_count": null,
      "id": "59e79eae-4523-4c89-bbae-135679d807a8",
      "metadata": {
        "id": "59e79eae-4523-4c89-bbae-135679d807a8",
        "outputId": "4957862d-0f3d-47c4-9982-7902d051962b"
      },
      "outputs": [
        {
          "data": {
            "text/plain": [
              "dict"
            ]
          },
          "execution_count": 2,
          "metadata": {},
          "output_type": "execute_result"
        }
      ],
      "source": [
        "type(s)"
      ]
    },
    {
      "cell_type": "code",
      "execution_count": null,
      "id": "476f4608-283b-48b0-b9b8-a66751e2ec94",
      "metadata": {
        "id": "476f4608-283b-48b0-b9b8-a66751e2ec94"
      },
      "outputs": [],
      "source": [
        "s1 = {1,2,3,4,5}"
      ]
    },
    {
      "cell_type": "code",
      "execution_count": null,
      "id": "c73cc7b5-d7fb-4ed7-b6fd-a41d42de8760",
      "metadata": {
        "id": "c73cc7b5-d7fb-4ed7-b6fd-a41d42de8760",
        "outputId": "d8e7e2e9-0049-4bd9-d037-96dcca1f4c77"
      },
      "outputs": [
        {
          "data": {
            "text/plain": [
              "set"
            ]
          },
          "execution_count": 4,
          "metadata": {},
          "output_type": "execute_result"
        }
      ],
      "source": [
        "type(s1)"
      ]
    },
    {
      "cell_type": "code",
      "execution_count": null,
      "id": "a6df7d98-8f2d-422c-b0dd-16ff8fb1adba",
      "metadata": {
        "id": "a6df7d98-8f2d-422c-b0dd-16ff8fb1adba"
      },
      "outputs": [],
      "source": [
        "s2 = {1,1,12,3,3,3,4,5,5,5,55,523,34,3,45,6,67}"
      ]
    },
    {
      "cell_type": "code",
      "execution_count": null,
      "id": "17ae1584-8f1b-478f-8d48-cd91827d8c5a",
      "metadata": {
        "id": "17ae1584-8f1b-478f-8d48-cd91827d8c5a",
        "outputId": "84c109e5-11cb-4277-b0a4-0360af3a1647"
      },
      "outputs": [
        {
          "data": {
            "text/plain": [
              "{1, 3, 4, 5, 6, 12, 34, 45, 55, 67, 523}"
            ]
          },
          "execution_count": 6,
          "metadata": {},
          "output_type": "execute_result"
        }
      ],
      "source": [
        "s2"
      ]
    },
    {
      "cell_type": "code",
      "execution_count": null,
      "id": "5f2bc11c-65f2-4b99-b65e-9c7fc184dd8f",
      "metadata": {
        "id": "5f2bc11c-65f2-4b99-b65e-9c7fc184dd8f"
      },
      "outputs": [],
      "source": [
        "l = list(s2)\n"
      ]
    },
    {
      "cell_type": "code",
      "execution_count": null,
      "id": "2123f135-8d42-4cb7-84ac-ec75c9a348ef",
      "metadata": {
        "id": "2123f135-8d42-4cb7-84ac-ec75c9a348ef",
        "outputId": "91bd5420-602f-4adf-ed99-3650d52fa9fd"
      },
      "outputs": [
        {
          "data": {
            "text/plain": [
              "(1, 34, 3, 4, 5, 6, 67, 523, 12, 45, 55)"
            ]
          },
          "execution_count": 8,
          "metadata": {},
          "output_type": "execute_result"
        }
      ],
      "source": [
        "tuple(s2)"
      ]
    },
    {
      "cell_type": "code",
      "execution_count": null,
      "id": "82de2690-f8b5-4890-8ea2-fced9ece43c8",
      "metadata": {
        "id": "82de2690-f8b5-4890-8ea2-fced9ece43c8",
        "outputId": "02115ba3-33c9-46ca-a10e-2e692e745986"
      },
      "outputs": [
        {
          "data": {
            "text/plain": [
              "[1, 34, 3, 4, 5, 6, 67, 523, 12, 45, 55]"
            ]
          },
          "execution_count": 10,
          "metadata": {},
          "output_type": "execute_result"
        }
      ],
      "source": [
        "l"
      ]
    },
    {
      "cell_type": "code",
      "execution_count": null,
      "id": "12b9445e-4456-4204-8f21-9ec60f9bc5a2",
      "metadata": {
        "id": "12b9445e-4456-4204-8f21-9ec60f9bc5a2",
        "outputId": "29eb974a-7075-479e-bdbe-dcd63f4275aa"
      },
      "outputs": [
        {
          "data": {
            "text/plain": [
              "{1, 3, 4, 5, 6, 12, 34, 45, 55, 67, 523}"
            ]
          },
          "execution_count": 11,
          "metadata": {},
          "output_type": "execute_result"
        }
      ],
      "source": [
        "set(l)"
      ]
    },
    {
      "cell_type": "code",
      "execution_count": null,
      "id": "547ad2a4-5f66-4d49-b7ee-2b2d45abba54",
      "metadata": {
        "id": "547ad2a4-5f66-4d49-b7ee-2b2d45abba54",
        "outputId": "201635c7-5b06-4e28-dff0-b1f89e2308de"
      },
      "outputs": [
        {
          "ename": "TypeError",
          "evalue": "unhashable type: 'list'",
          "output_type": "error",
          "traceback": [
            "\u001b[0;31m---------------------------------------------------------------------------\u001b[0m",
            "\u001b[0;31mTypeError\u001b[0m                                 Traceback (most recent call last)",
            "Cell \u001b[0;32mIn[12], line 1\u001b[0m\n\u001b[0;32m----> 1\u001b[0m s4 \u001b[38;5;241m=\u001b[39m {\u001b[38;5;241m1\u001b[39m,\u001b[38;5;241m2\u001b[39m,\u001b[38;5;241m3\u001b[39m,\u001b[38;5;241m4\u001b[39m,[\u001b[38;5;241m1\u001b[39m,\u001b[38;5;241m2\u001b[39m,\u001b[38;5;241m3\u001b[39m,\u001b[38;5;241m4\u001b[39m]}\n",
            "\u001b[0;31mTypeError\u001b[0m: unhashable type: 'list'"
          ]
        }
      ],
      "source": [
        "s4 = {1,2,3,4,[1,2,3,4]}"
      ]
    },
    {
      "cell_type": "code",
      "execution_count": null,
      "id": "a8dc63ca-297a-48e0-8f3e-9745db3618ca",
      "metadata": {
        "id": "a8dc63ca-297a-48e0-8f3e-9745db3618ca"
      },
      "outputs": [],
      "source": [
        "s5 = {1,2,3,4, (1,2,3,4)}"
      ]
    },
    {
      "cell_type": "code",
      "execution_count": null,
      "id": "413a30ef-1fe3-461d-935f-4306115247da",
      "metadata": {
        "id": "413a30ef-1fe3-461d-935f-4306115247da",
        "outputId": "c1b14361-13d2-4060-d96f-c4780cd2d0bd"
      },
      "outputs": [
        {
          "data": {
            "text/plain": [
              "{(1, 2, 3, 4), 1, 2, 3, 4}"
            ]
          },
          "execution_count": 14,
          "metadata": {},
          "output_type": "execute_result"
        }
      ],
      "source": [
        "s5"
      ]
    },
    {
      "cell_type": "code",
      "execution_count": null,
      "id": "f34a1a18-ee23-4e12-9299-569b42cca70a",
      "metadata": {
        "id": "f34a1a18-ee23-4e12-9299-569b42cca70a"
      },
      "outputs": [],
      "source": [
        "s6 = {\"sudh\" , \"Sudh\" , 2,3,4,5}"
      ]
    },
    {
      "cell_type": "code",
      "execution_count": null,
      "id": "2448b4cd-afb6-42d1-8998-47836ae7088f",
      "metadata": {
        "id": "2448b4cd-afb6-42d1-8998-47836ae7088f",
        "outputId": "fb012975-49ed-4504-e1ae-82212aeaa3a5"
      },
      "outputs": [
        {
          "data": {
            "text/plain": [
              "{2, 3, 4, 5, 'Sudh', 'sudh'}"
            ]
          },
          "execution_count": 16,
          "metadata": {},
          "output_type": "execute_result"
        }
      ],
      "source": [
        "s6"
      ]
    },
    {
      "cell_type": "code",
      "execution_count": null,
      "id": "2b39f98f-f12f-4911-92a4-59b4d6016a16",
      "metadata": {
        "id": "2b39f98f-f12f-4911-92a4-59b4d6016a16"
      },
      "outputs": [],
      "source": [
        "s7  = {\"sudh\" , \"sudh\" , 2,3,4,5}"
      ]
    },
    {
      "cell_type": "code",
      "execution_count": null,
      "id": "f06ad1a8-2c42-4528-bca1-4a113d7c910f",
      "metadata": {
        "id": "f06ad1a8-2c42-4528-bca1-4a113d7c910f",
        "outputId": "c26d1630-c0ce-4fee-f260-7c481442f3d5"
      },
      "outputs": [
        {
          "data": {
            "text/plain": [
              "{2, 3, 4, 5, 'sudh'}"
            ]
          },
          "execution_count": 18,
          "metadata": {},
          "output_type": "execute_result"
        }
      ],
      "source": [
        "s7"
      ]
    },
    {
      "cell_type": "code",
      "execution_count": null,
      "id": "66cfa82b-ac4a-4527-a978-f02f34331dee",
      "metadata": {
        "id": "66cfa82b-ac4a-4527-a978-f02f34331dee",
        "outputId": "f2f86d09-7af8-4b96-c50c-ca09ca06270f"
      },
      "outputs": [
        {
          "data": {
            "text/plain": [
              "{2, 3, 4, 5, 'sudh'}"
            ]
          },
          "execution_count": 19,
          "metadata": {},
          "output_type": "execute_result"
        }
      ],
      "source": [
        "s7"
      ]
    },
    {
      "cell_type": "code",
      "execution_count": null,
      "id": "09341df2-19d8-4a47-b81c-6d9605d9a90f",
      "metadata": {
        "id": "09341df2-19d8-4a47-b81c-6d9605d9a90f",
        "outputId": "fa192cb3-3138-41e2-aa9b-0d922f9d827a"
      },
      "outputs": [
        {
          "ename": "TypeError",
          "evalue": "'set' object is not subscriptable",
          "output_type": "error",
          "traceback": [
            "\u001b[0;31m---------------------------------------------------------------------------\u001b[0m",
            "\u001b[0;31mTypeError\u001b[0m                                 Traceback (most recent call last)",
            "Cell \u001b[0;32mIn[20], line 1\u001b[0m\n\u001b[0;32m----> 1\u001b[0m \u001b[43ms7\u001b[49m\u001b[43m[\u001b[49m\u001b[38;5;241;43m0\u001b[39;49m\u001b[43m]\u001b[49m\n",
            "\u001b[0;31mTypeError\u001b[0m: 'set' object is not subscriptable"
          ]
        }
      ],
      "source": [
        "s7[0]"
      ]
    },
    {
      "cell_type": "code",
      "execution_count": null,
      "id": "8815ca1f-85cc-430e-9c15-5a4cef77b84b",
      "metadata": {
        "id": "8815ca1f-85cc-430e-9c15-5a4cef77b84b",
        "outputId": "511e9c19-e8e9-4b18-e6e9-c23c6b7596a7"
      },
      "outputs": [
        {
          "ename": "TypeError",
          "evalue": "'set' object is not subscriptable",
          "output_type": "error",
          "traceback": [
            "\u001b[0;31m---------------------------------------------------------------------------\u001b[0m",
            "\u001b[0;31mTypeError\u001b[0m                                 Traceback (most recent call last)",
            "Cell \u001b[0;32mIn[21], line 1\u001b[0m\n\u001b[0;32m----> 1\u001b[0m \u001b[43ms7\u001b[49m\u001b[43m[\u001b[49m\u001b[43m:\u001b[49m\u001b[43m:\u001b[49m\u001b[38;5;241;43m-\u001b[39;49m\u001b[38;5;241;43m1\u001b[39;49m\u001b[43m]\u001b[49m\n",
            "\u001b[0;31mTypeError\u001b[0m: 'set' object is not subscriptable"
          ]
        }
      ],
      "source": [
        "s7[::-1]"
      ]
    },
    {
      "cell_type": "code",
      "execution_count": null,
      "id": "965f82d2-f5c3-4d48-9904-dcaced03595c",
      "metadata": {
        "id": "965f82d2-f5c3-4d48-9904-dcaced03595c",
        "outputId": "eefe1fa0-0f29-4a11-c429-21d341722190"
      },
      "outputs": [
        {
          "data": {
            "text/plain": [
              "{2, 3, 4, 5, 'sudh'}"
            ]
          },
          "execution_count": 22,
          "metadata": {},
          "output_type": "execute_result"
        }
      ],
      "source": [
        "s7"
      ]
    },
    {
      "cell_type": "code",
      "execution_count": null,
      "id": "dc50c786-7ed5-40c0-817a-3d323098f7e4",
      "metadata": {
        "id": "dc50c786-7ed5-40c0-817a-3d323098f7e4",
        "outputId": "650c01ac-99f3-4867-e46b-14bc96c2b8fd"
      },
      "outputs": [
        {
          "name": "stdout",
          "output_type": "stream",
          "text": [
            "2\n",
            "3\n",
            "4\n",
            "5\n",
            "sudh\n"
          ]
        }
      ],
      "source": [
        "for i in s7 :\n",
        "    print(i)"
      ]
    },
    {
      "cell_type": "code",
      "execution_count": null,
      "id": "1ba967f5-464f-4a89-9f8c-97de6c8efcb5",
      "metadata": {
        "id": "1ba967f5-464f-4a89-9f8c-97de6c8efcb5",
        "outputId": "e963674c-1728-48dc-b1d2-3a91c37f2ac9"
      },
      "outputs": [
        {
          "data": {
            "text/plain": [
              "{2, 3, 4, 5, 'sudh'}"
            ]
          },
          "execution_count": 24,
          "metadata": {},
          "output_type": "execute_result"
        }
      ],
      "source": [
        "s7"
      ]
    },
    {
      "cell_type": "code",
      "execution_count": null,
      "id": "aa6799f4-0711-4214-a799-b1ab5e7d9f79",
      "metadata": {
        "id": "aa6799f4-0711-4214-a799-b1ab5e7d9f79"
      },
      "outputs": [],
      "source": [
        "s7.add(34)"
      ]
    },
    {
      "cell_type": "code",
      "execution_count": null,
      "id": "1fb8cacf-debc-465e-af26-9f9f9cc435b1",
      "metadata": {
        "id": "1fb8cacf-debc-465e-af26-9f9f9cc435b1",
        "outputId": "deab3d6d-0bbb-4d46-edf1-4def7cab4307"
      },
      "outputs": [
        {
          "data": {
            "text/plain": [
              "{2, 3, 34, 4, 5, 'sudh'}"
            ]
          },
          "execution_count": 26,
          "metadata": {},
          "output_type": "execute_result"
        }
      ],
      "source": [
        "s7"
      ]
    },
    {
      "cell_type": "code",
      "execution_count": null,
      "id": "df5194a1-e747-490a-ade9-f2dc9e7f42af",
      "metadata": {
        "id": "df5194a1-e747-490a-ade9-f2dc9e7f42af"
      },
      "outputs": [],
      "source": [
        "s7.add(2)"
      ]
    },
    {
      "cell_type": "code",
      "execution_count": null,
      "id": "6214d4ef-e40e-4b59-a003-cdac24d8df2b",
      "metadata": {
        "id": "6214d4ef-e40e-4b59-a003-cdac24d8df2b",
        "outputId": "7181dc20-a993-4d2e-addf-bd18b0e4f9c6"
      },
      "outputs": [
        {
          "data": {
            "text/plain": [
              "{2, 3, 34, 4, 5, 'sudh'}"
            ]
          },
          "execution_count": 28,
          "metadata": {},
          "output_type": "execute_result"
        }
      ],
      "source": [
        "s7"
      ]
    },
    {
      "cell_type": "code",
      "execution_count": null,
      "id": "3226edf2-1c28-4eb5-bba4-80f36814402d",
      "metadata": {
        "id": "3226edf2-1c28-4eb5-bba4-80f36814402d",
        "outputId": "da731d1a-e363-4adb-8ff1-6790cd3193c2"
      },
      "outputs": [
        {
          "data": {
            "text/plain": [
              "6"
            ]
          },
          "execution_count": 29,
          "metadata": {},
          "output_type": "execute_result"
        }
      ],
      "source": [
        "len(s7)"
      ]
    },
    {
      "cell_type": "code",
      "execution_count": null,
      "id": "a5b6e2df-e8dc-49d6-85cc-70c86e796ec3",
      "metadata": {
        "id": "a5b6e2df-e8dc-49d6-85cc-70c86e796ec3",
        "outputId": "afc565cd-4b05-4d1a-e5c0-738b2cea0132"
      },
      "outputs": [
        {
          "data": {
            "text/plain": [
              "2"
            ]
          },
          "execution_count": 30,
          "metadata": {},
          "output_type": "execute_result"
        }
      ],
      "source": [
        "s7.pop()"
      ]
    },
    {
      "cell_type": "code",
      "execution_count": null,
      "id": "2faab01e-563d-47fd-a7a6-47efae3be27d",
      "metadata": {
        "id": "2faab01e-563d-47fd-a7a6-47efae3be27d",
        "outputId": "e81400fb-a57a-4fdb-d14f-b3fbdb0ffa58"
      },
      "outputs": [
        {
          "data": {
            "text/plain": [
              "{3, 34, 4, 5, 'sudh'}"
            ]
          },
          "execution_count": 31,
          "metadata": {},
          "output_type": "execute_result"
        }
      ],
      "source": [
        "s7"
      ]
    },
    {
      "cell_type": "code",
      "execution_count": null,
      "id": "54b3eda0-01fb-42ec-8236-97313ad87a9d",
      "metadata": {
        "id": "54b3eda0-01fb-42ec-8236-97313ad87a9d",
        "outputId": "691c0f60-a27a-4450-b2f3-e782bcd08095"
      },
      "outputs": [
        {
          "data": {
            "text/plain": [
              "3"
            ]
          },
          "execution_count": 32,
          "metadata": {},
          "output_type": "execute_result"
        }
      ],
      "source": [
        "s7.pop()"
      ]
    },
    {
      "cell_type": "code",
      "execution_count": null,
      "id": "1e7d0a3d-a380-4edb-9e1c-ef9a8f4086b5",
      "metadata": {
        "id": "1e7d0a3d-a380-4edb-9e1c-ef9a8f4086b5",
        "outputId": "753a5680-fd71-4bb8-a9d1-3c781b46f547"
      },
      "outputs": [
        {
          "data": {
            "text/plain": [
              "4"
            ]
          },
          "execution_count": 33,
          "metadata": {},
          "output_type": "execute_result"
        }
      ],
      "source": [
        "s7.pop()"
      ]
    },
    {
      "cell_type": "code",
      "execution_count": null,
      "id": "d5e2518c-6cf1-4f31-84be-5808e6be7d05",
      "metadata": {
        "id": "d5e2518c-6cf1-4f31-84be-5808e6be7d05",
        "outputId": "81ea8c35-86b2-4322-afb4-75dfc5c4160a"
      },
      "outputs": [
        {
          "data": {
            "text/plain": [
              "5"
            ]
          },
          "execution_count": 34,
          "metadata": {},
          "output_type": "execute_result"
        }
      ],
      "source": [
        "s7.pop()"
      ]
    },
    {
      "cell_type": "code",
      "execution_count": null,
      "id": "9cb0ec4b-0bba-46ba-91e9-f3ce410ff5b5",
      "metadata": {
        "id": "9cb0ec4b-0bba-46ba-91e9-f3ce410ff5b5",
        "outputId": "31f19f38-a538-452e-d16c-1a7dafcaf1df"
      },
      "outputs": [
        {
          "data": {
            "text/plain": [
              "{34, 'sudh'}"
            ]
          },
          "execution_count": 35,
          "metadata": {},
          "output_type": "execute_result"
        }
      ],
      "source": [
        "s7"
      ]
    },
    {
      "cell_type": "code",
      "execution_count": null,
      "id": "4c124960-116a-4960-8a16-78ec6413af76",
      "metadata": {
        "id": "4c124960-116a-4960-8a16-78ec6413af76",
        "outputId": "9e6e1ee5-9377-4f0e-ed31-a05b955a2bf3"
      },
      "outputs": [
        {
          "data": {
            "text/plain": [
              "{34, 'sudh'}"
            ]
          },
          "execution_count": 36,
          "metadata": {},
          "output_type": "execute_result"
        }
      ],
      "source": [
        "s7"
      ]
    },
    {
      "cell_type": "code",
      "execution_count": null,
      "id": "68cea014-757e-4548-acae-ef90ba6a401a",
      "metadata": {
        "id": "68cea014-757e-4548-acae-ef90ba6a401a"
      },
      "outputs": [],
      "source": [
        "s7.clear()"
      ]
    },
    {
      "cell_type": "code",
      "execution_count": null,
      "id": "604229f1-0076-4fe5-b440-a45b5a2d1033",
      "metadata": {
        "id": "604229f1-0076-4fe5-b440-a45b5a2d1033",
        "outputId": "b145366c-552c-4dad-d432-cdd0c1ef9fc1"
      },
      "outputs": [
        {
          "data": {
            "text/plain": [
              "set()"
            ]
          },
          "execution_count": 38,
          "metadata": {},
          "output_type": "execute_result"
        }
      ],
      "source": [
        "s7"
      ]
    },
    {
      "cell_type": "code",
      "execution_count": null,
      "id": "72d33ad6-707a-441c-8c80-2f54051247c1",
      "metadata": {
        "id": "72d33ad6-707a-441c-8c80-2f54051247c1"
      },
      "outputs": [],
      "source": [
        "s8 = {1,2,3,4}\n",
        "s9 = {1,2,3,5}"
      ]
    },
    {
      "cell_type": "code",
      "execution_count": null,
      "id": "a790bf5b-453b-462e-a796-da5130f4d8d2",
      "metadata": {
        "id": "a790bf5b-453b-462e-a796-da5130f4d8d2",
        "outputId": "bbec3a4b-5f91-4ffe-e988-b2bbaab326c9"
      },
      "outputs": [
        {
          "data": {
            "text/plain": [
              "{4}"
            ]
          },
          "execution_count": 40,
          "metadata": {},
          "output_type": "execute_result"
        }
      ],
      "source": [
        "s8.difference(s9)"
      ]
    },
    {
      "cell_type": "code",
      "execution_count": null,
      "id": "f0d9ca08-0018-4f1a-b450-c1114c590ba7",
      "metadata": {
        "id": "f0d9ca08-0018-4f1a-b450-c1114c590ba7",
        "outputId": "8daa3bf3-34c3-45f8-faaf-fedbef86ce61"
      },
      "outputs": [
        {
          "data": {
            "text/plain": [
              "{5}"
            ]
          },
          "execution_count": 41,
          "metadata": {},
          "output_type": "execute_result"
        }
      ],
      "source": [
        "s9.difference(s8)"
      ]
    },
    {
      "cell_type": "code",
      "execution_count": null,
      "id": "71b3c4a8-5977-4ab8-a632-9229f706e594",
      "metadata": {
        "id": "71b3c4a8-5977-4ab8-a632-9229f706e594"
      },
      "outputs": [],
      "source": []
    }
  ],
  "metadata": {
    "kernelspec": {
      "display_name": "Python 3 (ipykernel)",
      "language": "python",
      "name": "python3"
    },
    "language_info": {
      "codemirror_mode": {
        "name": "ipython",
        "version": 3
      },
      "file_extension": ".py",
      "mimetype": "text/x-python",
      "name": "python",
      "nbconvert_exporter": "python",
      "pygments_lexer": "ipython3",
      "version": "3.10.8"
    },
    "colab": {
      "provenance": [],
      "include_colab_link": true
    }
  },
  "nbformat": 4,
  "nbformat_minor": 5
}